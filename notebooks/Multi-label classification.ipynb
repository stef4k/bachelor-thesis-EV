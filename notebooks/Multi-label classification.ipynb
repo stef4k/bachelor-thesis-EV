{
 "cells": [
  {
   "cell_type": "markdown",
   "metadata": {},
   "source": [
    "# MULTI-LABEL CLASSIFICATION"
   ]
  },
  {
   "cell_type": "code",
   "execution_count": 3,
   "metadata": {},
   "outputs": [],
   "source": [
    "import pandas as pd\n",
    "import numpy as np\n",
    "from matplotlib import pyplot as plt\n",
    "from matplotlib.pyplot import figure\n",
    "\n",
    "from sklearn.model_selection import cross_val_score\n",
    "from sklearn.model_selection import GridSearchCV\n",
    "from sklearn.model_selection import KFold\n",
    "from sklearn.model_selection import train_test_split\n",
    "\n",
    "from sklearn.tree import DecisionTreeClassifier\n",
    "from sklearn.ensemble import RandomForestClassifier\n",
    "from sklearn.ensemble import ExtraTreesClassifier\n",
    "from sklearn.linear_model import LogisticRegression\n",
    "\n",
    "from sklearn.model_selection import train_test_split\n",
    "import random\n",
    "from sklearn.metrics import accuracy_score,make_scorer,hamming_loss\n",
    "import sklearn\n",
    "\n",
    "from skmultilearn.problem_transform import ClassifierChain"
   ]
  },
  {
   "cell_type": "markdown",
   "metadata": {},
   "source": [
    "Now we have to read the right file:"
   ]
  },
  {
   "cell_type": "code",
   "execution_count": 2,
   "metadata": {},
   "outputs": [
    {
     "data": {
      "text/html": [
       "<div>\n",
       "<style scoped>\n",
       "    .dataframe tbody tr th:only-of-type {\n",
       "        vertical-align: middle;\n",
       "    }\n",
       "\n",
       "    .dataframe tbody tr th {\n",
       "        vertical-align: top;\n",
       "    }\n",
       "\n",
       "    .dataframe thead th {\n",
       "        text-align: right;\n",
       "    }\n",
       "</style>\n",
       "<table border=\"1\" class=\"dataframe\">\n",
       "  <thead>\n",
       "    <tr style=\"text-align: right;\">\n",
       "      <th></th>\n",
       "      <th>monitoring_start_month</th>\n",
       "      <th>monitoring_days</th>\n",
       "      <th>active_days</th>\n",
       "      <th>data_quality_score</th>\n",
       "      <th>reliability_score</th>\n",
       "      <th>car_use_score</th>\n",
       "      <th>driver_behavior_score</th>\n",
       "      <th>n_trips</th>\n",
       "      <th>fuel_costs</th>\n",
       "      <th>body_type</th>\n",
       "      <th>...</th>\n",
       "      <th>average_pause_time</th>\n",
       "      <th>max_pause_time</th>\n",
       "      <th>median_pause_time</th>\n",
       "      <th>percentage_start_home</th>\n",
       "      <th>percentage_start_office</th>\n",
       "      <th>average_trip_duration_sec</th>\n",
       "      <th>percentage_charger_nearby</th>\n",
       "      <th>percentage_charger_fast_nearby</th>\n",
       "      <th>percentage_charger_3F_nearby</th>\n",
       "      <th>ev_brands</th>\n",
       "    </tr>\n",
       "  </thead>\n",
       "  <tbody>\n",
       "    <tr>\n",
       "      <th>0</th>\n",
       "      <td>7</td>\n",
       "      <td>31</td>\n",
       "      <td>30</td>\n",
       "      <td>9.373888</td>\n",
       "      <td>4.692516</td>\n",
       "      <td>7.451583</td>\n",
       "      <td>6.467989</td>\n",
       "      <td>392</td>\n",
       "      <td>16625</td>\n",
       "      <td>VAN</td>\n",
       "      <td>...</td>\n",
       "      <td>5591.336735</td>\n",
       "      <td>133880</td>\n",
       "      <td>557.5</td>\n",
       "      <td>7.397959</td>\n",
       "      <td>4.591837</td>\n",
       "      <td>1098.109694</td>\n",
       "      <td>13.520408</td>\n",
       "      <td>5.867347</td>\n",
       "      <td>7.653061</td>\n",
       "      <td>[]</td>\n",
       "    </tr>\n",
       "    <tr>\n",
       "      <th>1</th>\n",
       "      <td>6</td>\n",
       "      <td>30</td>\n",
       "      <td>27</td>\n",
       "      <td>9.062229</td>\n",
       "      <td>6.138472</td>\n",
       "      <td>7.616548</td>\n",
       "      <td>5.732751</td>\n",
       "      <td>314</td>\n",
       "      <td>17664</td>\n",
       "      <td>VAN</td>\n",
       "      <td>...</td>\n",
       "      <td>6739.085987</td>\n",
       "      <td>147051</td>\n",
       "      <td>703.0</td>\n",
       "      <td>8.280255</td>\n",
       "      <td>0.318471</td>\n",
       "      <td>1308.401274</td>\n",
       "      <td>13.057325</td>\n",
       "      <td>6.687898</td>\n",
       "      <td>6.369427</td>\n",
       "      <td>[]</td>\n",
       "    </tr>\n",
       "    <tr>\n",
       "      <th>2</th>\n",
       "      <td>5</td>\n",
       "      <td>31</td>\n",
       "      <td>26</td>\n",
       "      <td>8.950726</td>\n",
       "      <td>5.415178</td>\n",
       "      <td>7.771661</td>\n",
       "      <td>6.493076</td>\n",
       "      <td>249</td>\n",
       "      <td>11769</td>\n",
       "      <td>VAN</td>\n",
       "      <td>...</td>\n",
       "      <td>9403.775100</td>\n",
       "      <td>224802</td>\n",
       "      <td>606.0</td>\n",
       "      <td>9.638554</td>\n",
       "      <td>0.000000</td>\n",
       "      <td>1075.341365</td>\n",
       "      <td>13.654618</td>\n",
       "      <td>5.622490</td>\n",
       "      <td>8.032129</td>\n",
       "      <td>[]</td>\n",
       "    </tr>\n",
       "    <tr>\n",
       "      <th>3</th>\n",
       "      <td>3</td>\n",
       "      <td>92</td>\n",
       "      <td>78</td>\n",
       "      <td>9.003805</td>\n",
       "      <td>5.945673</td>\n",
       "      <td>7.027738</td>\n",
       "      <td>5.758369</td>\n",
       "      <td>789</td>\n",
       "      <td>17323</td>\n",
       "      <td>VAN</td>\n",
       "      <td>...</td>\n",
       "      <td>8688.593156</td>\n",
       "      <td>244481</td>\n",
       "      <td>606.0</td>\n",
       "      <td>9.632446</td>\n",
       "      <td>0.000000</td>\n",
       "      <td>1317.195184</td>\n",
       "      <td>14.575412</td>\n",
       "      <td>7.984791</td>\n",
       "      <td>6.590621</td>\n",
       "      <td>[]</td>\n",
       "    </tr>\n",
       "    <tr>\n",
       "      <th>4</th>\n",
       "      <td>4</td>\n",
       "      <td>30</td>\n",
       "      <td>25</td>\n",
       "      <td>8.851813</td>\n",
       "      <td>5.518089</td>\n",
       "      <td>6.905178</td>\n",
       "      <td>5.513861</td>\n",
       "      <td>266</td>\n",
       "      <td>19741</td>\n",
       "      <td>VAN</td>\n",
       "      <td>...</td>\n",
       "      <td>8229.680451</td>\n",
       "      <td>238754</td>\n",
       "      <td>552.0</td>\n",
       "      <td>9.022556</td>\n",
       "      <td>0.000000</td>\n",
       "      <td>1374.330827</td>\n",
       "      <td>14.661654</td>\n",
       "      <td>8.646617</td>\n",
       "      <td>6.015038</td>\n",
       "      <td>[]</td>\n",
       "    </tr>\n",
       "  </tbody>\n",
       "</table>\n",
       "<p>5 rows × 73 columns</p>\n",
       "</div>"
      ],
      "text/plain": [
       "   monitoring_start_month  monitoring_days  active_days  data_quality_score  \\\n",
       "0                       7               31           30            9.373888   \n",
       "1                       6               30           27            9.062229   \n",
       "2                       5               31           26            8.950726   \n",
       "3                       3               92           78            9.003805   \n",
       "4                       4               30           25            8.851813   \n",
       "\n",
       "   reliability_score  car_use_score  driver_behavior_score  n_trips  \\\n",
       "0           4.692516       7.451583               6.467989      392   \n",
       "1           6.138472       7.616548               5.732751      314   \n",
       "2           5.415178       7.771661               6.493076      249   \n",
       "3           5.945673       7.027738               5.758369      789   \n",
       "4           5.518089       6.905178               5.513861      266   \n",
       "\n",
       "   fuel_costs body_type  ... average_pause_time  max_pause_time  \\\n",
       "0       16625       VAN  ...        5591.336735          133880   \n",
       "1       17664       VAN  ...        6739.085987          147051   \n",
       "2       11769       VAN  ...        9403.775100          224802   \n",
       "3       17323       VAN  ...        8688.593156          244481   \n",
       "4       19741       VAN  ...        8229.680451          238754   \n",
       "\n",
       "   median_pause_time  percentage_start_home  percentage_start_office  \\\n",
       "0              557.5               7.397959                 4.591837   \n",
       "1              703.0               8.280255                 0.318471   \n",
       "2              606.0               9.638554                 0.000000   \n",
       "3              606.0               9.632446                 0.000000   \n",
       "4              552.0               9.022556                 0.000000   \n",
       "\n",
       "   average_trip_duration_sec  percentage_charger_nearby  \\\n",
       "0                1098.109694                  13.520408   \n",
       "1                1308.401274                  13.057325   \n",
       "2                1075.341365                  13.654618   \n",
       "3                1317.195184                  14.575412   \n",
       "4                1374.330827                  14.661654   \n",
       "\n",
       "   percentage_charger_fast_nearby  percentage_charger_3F_nearby  ev_brands  \n",
       "0                        5.867347                      7.653061         []  \n",
       "1                        6.687898                      6.369427         []  \n",
       "2                        5.622490                      8.032129         []  \n",
       "3                        7.984791                      6.590621         []  \n",
       "4                        8.646617                      6.015038         []  \n",
       "\n",
       "[5 rows x 73 columns]"
      ]
     },
     "execution_count": 2,
     "metadata": {},
     "output_type": "execute_result"
    }
   ],
   "source": [
    "profiles = pd.read_csv('DATA/driving_profiles_cleared_MULTI_LABEL_18_1.csv')\n",
    "profiles.head()"
   ]
  },
  {
   "cell_type": "markdown",
   "metadata": {},
   "source": [
    "Transforming the column `ev_brands` to list type"
   ]
  },
  {
   "cell_type": "code",
   "execution_count": 3,
   "metadata": {},
   "outputs": [],
   "source": [
    "from ast import literal_eval\n",
    "\n",
    "profiles.ev_brands = profiles.ev_brands.apply(literal_eval)"
   ]
  },
  {
   "cell_type": "markdown",
   "metadata": {},
   "source": [
    "Next up we have to transform the column of `ev_brands` to a list of items of 0 or 1, where each index position defines a different car brand:"
   ]
  },
  {
   "cell_type": "code",
   "execution_count": 4,
   "metadata": {},
   "outputs": [
    {
     "data": {
      "text/plain": [
       "['Nissan',\n",
       " 'Peugeot',\n",
       " 'Hyundai',\n",
       " 'Renault',\n",
       " 'Skoda',\n",
       " 'Honda',\n",
       " 'Mazda',\n",
       " 'Volkswagen',\n",
       " 'DS',\n",
       " 'BMW',\n",
       " 'Smart',\n",
       " 'Kia',\n",
       " 'Mini',\n",
       " 'Citroen',\n",
       " 'Tesla',\n",
       " 'Opel']"
      ]
     },
     "execution_count": 4,
     "metadata": {},
     "output_type": "execute_result"
    }
   ],
   "source": [
    "max_length = 0\n",
    "max_brands = []\n",
    "for recom in profiles.ev_brands: #iterating every profile\n",
    "    if len(recom) > max_length:\n",
    "        max_length = len(recom)\n",
    "        max_brands = recom\n",
    "        \n",
    "max_brands"
   ]
  },
  {
   "cell_type": "markdown",
   "metadata": {},
   "source": [
    "We found that there are 16 different brands for the EV cars. That means we create lists of 16 items for each profile where each item corresponds to a specific brand according to the above list"
   ]
  },
  {
   "cell_type": "code",
   "execution_count": 5,
   "metadata": {},
   "outputs": [],
   "source": [
    "all_encoded_brands = []\n",
    "for recom in profiles.ev_brands: #iterating every profile\n",
    "    profile_brands = [0 for i in range(16)]\n",
    "    for brand in recom: #iterating through every brand\n",
    "        index_brand = max_brands.index(brand) #finding the index of the particular brand from the max_brands\n",
    "        profile_brands[index_brand] = 1\n",
    "    all_encoded_brands.append(np.asarray(profile_brands))\n",
    "target = np.array([item for item in all_encoded_brands]) \n",
    "profiles = profiles.drop(['ev_brands'], axis=1) #deleting column from data"
   ]
  },
  {
   "cell_type": "markdown",
   "metadata": {},
   "source": [
    "Next up, we have to create dummie variables for all the columns that have non continious numeric values:"
   ]
  },
  {
   "cell_type": "code",
   "execution_count": 6,
   "metadata": {},
   "outputs": [],
   "source": [
    "profiles = pd.get_dummies(profiles, columns=['driver_name','body_type','monitoring_start_month'])"
   ]
  },
  {
   "cell_type": "markdown",
   "metadata": {},
   "source": [
    "Here we can see the new shape of the data, 797 rows and 347 columns:"
   ]
  },
  {
   "cell_type": "code",
   "execution_count": 7,
   "metadata": {},
   "outputs": [
    {
     "data": {
      "text/plain": [
       "(934, 157)"
      ]
     },
     "execution_count": 7,
     "metadata": {},
     "output_type": "execute_result"
    }
   ],
   "source": [
    "profiles.shape"
   ]
  },
  {
   "cell_type": "markdown",
   "metadata": {},
   "source": [
    "Fixing column names for lightGBM:"
   ]
  },
  {
   "cell_type": "code",
   "execution_count": 8,
   "metadata": {},
   "outputs": [],
   "source": [
    "import re\n",
    "profiles = profiles.rename(columns = lambda x:re.sub('[^A-Za-z0-9_]+', '', x)) #fix error lgb does not support json characters"
   ]
  },
  {
   "cell_type": "markdown",
   "metadata": {},
   "source": [
    "### ML Preprocessing"
   ]
  },
  {
   "cell_type": "markdown",
   "metadata": {},
   "source": [
    "Now we shuffle the data and separate the column we want to predict afterwards:"
   ]
  },
  {
   "cell_type": "markdown",
   "metadata": {},
   "source": [
    "profiles = profiles.sample(frac = 1, random_state=9) #shuffling data\n",
    "target = target.sample(frac=1, random_state=9) # target column shuffling\n"
   ]
  },
  {
   "cell_type": "markdown",
   "metadata": {},
   "source": [
    "Next up we define the folds to be used for cross-validation after in order to ensure repeatability. We will use `leave one out` meaning each time the model is trained on N-1 observations and test it on the Nth:"
   ]
  },
  {
   "cell_type": "code",
   "execution_count": 9,
   "metadata": {},
   "outputs": [],
   "source": [
    "loo = KFold(profiles.shape[0], shuffle=True, random_state=123)\n",
    "fold_50 = KFold(50, shuffle=True, random_state=123)\n",
    "fold_10 = KFold(10, shuffle=True, random_state=123)\n",
    "fold_20 = KFold(20, shuffle=True, random_state=123)\n",
    "fold_5 = KFold(5, shuffle=True, random_state=123)\n",
    "fold_250 = KFold(250, shuffle=True, random_state=123)"
   ]
  },
  {
   "cell_type": "markdown",
   "metadata": {},
   "source": [
    "Now we define a function to print the mean and standard deviation for a list of scores:"
   ]
  },
  {
   "cell_type": "code",
   "execution_count": 10,
   "metadata": {},
   "outputs": [],
   "source": [
    "def print_scores(scores):\n",
    "    print(\"Mean:\", scores.mean())\n",
    "    print(\"Standard Deviation:\", scores.std())"
   ]
  },
  {
   "cell_type": "markdown",
   "metadata": {},
   "source": [
    "#### Dummy classifier\n",
    "Let's try a dummy classifier"
   ]
  },
  {
   "cell_type": "code",
   "execution_count": 19,
   "metadata": {},
   "outputs": [
    {
     "name": "stdout",
     "output_type": "stream",
     "text": [
      "Mean: -0.22330032119914348\n",
      "Standard Deviation: 0.3662692000213301\n"
     ]
    }
   ],
   "source": [
    "from sklearn.dummy import DummyClassifier\n",
    "\n",
    "dummy_classifier = DummyClassifier(strategy='most_frequent')\n",
    "\n",
    "scores = cross_val_score(dummy_classifier, profiles, target,\n",
    "                        cv=loo, n_jobs=-1, scoring=make_scorer(hamming_loss, greater_is_better=False))\n",
    "print_scores(scores)"
   ]
  },
  {
   "cell_type": "markdown",
   "metadata": {},
   "source": [
    "## Solving\n",
    "### Binary Relevance\n",
    "First we will treat each label as a separate single binary classification problem with binary relevance:"
   ]
  },
  {
   "cell_type": "code",
   "execution_count": 11,
   "metadata": {},
   "outputs": [],
   "source": [
    "from skmultilearn.problem_transform import BinaryRelevance\n",
    "from sklearn.naive_bayes import GaussianNB"
   ]
  },
  {
   "cell_type": "markdown",
   "metadata": {},
   "source": [
    "There are different metrics that we can use:\n",
    "* Accuracy score metric calculates subset accuracy, meaning the predicted set of labels should exactly match with the true set of labels\n",
    "* Hamming loss metric is equal to the number of incorrect predictions divided by the total number of predictions. Since it is a loss metric, the smaller the metric the better the model\n",
    "\n",
    "Hamming loss gives a better overview of the general correctness of the model and that is why we will use that metric"
   ]
  },
  {
   "cell_type": "markdown",
   "metadata": {},
   "source": [
    "#### Decision trees\n",
    "We start with decision trees and gridsearchCV to find the optimal parameters:"
   ]
  },
  {
   "cell_type": "code",
   "execution_count": 38,
   "metadata": {},
   "outputs": [],
   "source": [
    "parameters = {'classifier__criterion': ('gini','entropy'),\n",
    "              'classifier__splitter': ('best', 'random'),\n",
    "              'classifier__max_features':('sqrt',None,'log2'),\n",
    "              'classifier__class_weight':(None,'balanced'),\n",
    "              'classifier__max_depth':(None,20,50),\n",
    "              'classifier__min_samples_leaf':(1,3),\n",
    "              'classifier__ccp_alpha':(0,0.15, 0.3),\n",
    "              'classifier__min_impurity_decrease':(0, 0.15, 0.3)\n",
    "             }"
   ]
  },
  {
   "cell_type": "markdown",
   "metadata": {},
   "source": [
    "Defining the decision tree classifier with binary relevance:"
   ]
  },
  {
   "cell_type": "code",
   "execution_count": 42,
   "metadata": {},
   "outputs": [],
   "source": [
    "clf = BinaryRelevance(DecisionTreeClassifier(random_state=7))"
   ]
  },
  {
   "cell_type": "markdown",
   "metadata": {},
   "source": [
    "Next up the grid search classifier is declared:"
   ]
  },
  {
   "cell_type": "code",
   "execution_count": 43,
   "metadata": {},
   "outputs": [],
   "source": [
    "gs_clf = GridSearchCV(clf, parameters, n_jobs=7, cv=fold_10, \n",
    "                      scoring=make_scorer(hamming_loss, greater_is_better=False), verbose=1)"
   ]
  },
  {
   "cell_type": "markdown",
   "metadata": {},
   "source": [
    "Now we can fit the model on the existing data to find the best parameters:"
   ]
  },
  {
   "cell_type": "code",
   "execution_count": 44,
   "metadata": {
    "scrolled": true
   },
   "outputs": [
    {
     "name": "stdout",
     "output_type": "stream",
     "text": [
      "Fitting 10 folds for each of 1296 candidates, totalling 12960 fits\n"
     ]
    },
    {
     "name": "stderr",
     "output_type": "stream",
     "text": [
      "[Parallel(n_jobs=7)]: Using backend LokyBackend with 7 concurrent workers.\n",
      "[Parallel(n_jobs=7)]: Done  36 tasks      | elapsed:    2.6s\n",
      "[Parallel(n_jobs=7)]: Done 186 tasks      | elapsed:    7.3s\n",
      "[Parallel(n_jobs=7)]: Done 564 tasks      | elapsed:   15.5s\n",
      "[Parallel(n_jobs=7)]: Done 1264 tasks      | elapsed:   31.2s\n",
      "[Parallel(n_jobs=7)]: Done 2164 tasks      | elapsed:   51.8s\n",
      "[Parallel(n_jobs=7)]: Done 3264 tasks      | elapsed:  1.3min\n",
      "[Parallel(n_jobs=7)]: Done 3997 tasks      | elapsed:  1.6min\n",
      "[Parallel(n_jobs=7)]: Done 5091 tasks      | elapsed:  2.0min\n",
      "[Parallel(n_jobs=7)]: Done 6791 tasks      | elapsed:  2.7min\n",
      "[Parallel(n_jobs=7)]: Done 8691 tasks      | elapsed:  3.5min\n",
      "[Parallel(n_jobs=7)]: Done 10791 tasks      | elapsed:  4.3min\n",
      "[Parallel(n_jobs=7)]: Done 12947 out of 12960 | elapsed:  5.1min remaining:    0.2s\n",
      "[Parallel(n_jobs=7)]: Done 12960 out of 12960 | elapsed:  5.1min finished\n"
     ]
    },
    {
     "data": {
      "text/plain": [
       "GridSearchCV(cv=KFold(n_splits=10, random_state=123, shuffle=True),\n",
       "             estimator=BinaryRelevance(classifier=DecisionTreeClassifier(random_state=7),\n",
       "                                       require_dense=[True, True]),\n",
       "             n_jobs=7,\n",
       "             param_grid={'classifier__ccp_alpha': (0, 0.15, 0.3),\n",
       "                         'classifier__class_weight': (None, 'balanced'),\n",
       "                         'classifier__criterion': ('gini', 'entropy'),\n",
       "                         'classifier__max_depth': (None, 20, 50),\n",
       "                         'classifier__max_features': ('sqrt', None, 'log2'),\n",
       "                         'classifier__min_impurity_decrease': (0, 0.15, 0.3),\n",
       "                         'classifier__min_samples_leaf': (1, 3),\n",
       "                         'classifier__splitter': ('best', 'random')},\n",
       "             scoring=make_scorer(hamming_loss, greater_is_better=False),\n",
       "             verbose=1)"
      ]
     },
     "execution_count": 44,
     "metadata": {},
     "output_type": "execute_result"
    }
   ],
   "source": [
    "gs_clf.fit(profiles, target)"
   ]
  },
  {
   "cell_type": "markdown",
   "metadata": {},
   "source": [
    "We can see the best parameters calculated from grid-search:"
   ]
  },
  {
   "cell_type": "code",
   "execution_count": 45,
   "metadata": {},
   "outputs": [
    {
     "data": {
      "text/plain": [
       "{'classifier__ccp_alpha': 0,\n",
       " 'classifier__class_weight': None,\n",
       " 'classifier__criterion': 'entropy',\n",
       " 'classifier__max_depth': None,\n",
       " 'classifier__max_features': None,\n",
       " 'classifier__min_impurity_decrease': 0,\n",
       " 'classifier__min_samples_leaf': 3,\n",
       " 'classifier__splitter': 'best'}"
      ]
     },
     "execution_count": 45,
     "metadata": {},
     "output_type": "execute_result"
    }
   ],
   "source": [
    "gs_clf.best_params_"
   ]
  },
  {
   "cell_type": "markdown",
   "metadata": {},
   "source": [
    "We save the best estimator in a new variable to use it for cross-validation after: "
   ]
  },
  {
   "cell_type": "code",
   "execution_count": 46,
   "metadata": {},
   "outputs": [],
   "source": [
    "best_tree = gs_clf.best_estimator_"
   ]
  },
  {
   "cell_type": "markdown",
   "metadata": {},
   "source": [
    "Now we can check the average hamming loss of the best model calculated above by using LOO cross-validation:"
   ]
  },
  {
   "cell_type": "code",
   "execution_count": 49,
   "metadata": {},
   "outputs": [
    {
     "name": "stdout",
     "output_type": "stream",
     "text": [
      "Mean: -0.07501338329764454\n",
      "Standard Deviation: 0.1283927934244304\n"
     ]
    }
   ],
   "source": [
    "scores = cross_val_score(best_tree, profiles, target,cv=loo, n_jobs=-1,\n",
    "                         scoring=make_scorer(hamming_loss, greater_is_better=False))\n",
    "print_scores(scores)"
   ]
  },
  {
   "cell_type": "markdown",
   "metadata": {},
   "source": [
    "#### Random forest\n",
    "Now lets try random forest"
   ]
  },
  {
   "cell_type": "code",
   "execution_count": 51,
   "metadata": {},
   "outputs": [],
   "source": [
    "parameters = {'criterion': ('gini','entropy'),\n",
    "              'n_estimators': (100, 150, 175, 200),\n",
    "              'bootstrap':(True,False),\n",
    "              'oob_score':(True,False),\n",
    "              'class_weight':('balanced_subsample','balanced',None),\n",
    "              'max_features':('auto','sqrt','log2',None),\n",
    "              'warm_start':(True,False),\n",
    "              'class_weight':(None,'balanced')\n",
    "             }\n",
    "parameters = {'classifier__' + key: parameters[key] for key in parameters}"
   ]
  },
  {
   "cell_type": "markdown",
   "metadata": {},
   "source": [
    "Defining the forest classifier with binary relevance:"
   ]
  },
  {
   "cell_type": "code",
   "execution_count": 52,
   "metadata": {},
   "outputs": [],
   "source": [
    "clf = BinaryRelevance(RandomForestClassifier(random_state=7))"
   ]
  },
  {
   "cell_type": "markdown",
   "metadata": {},
   "source": [
    "Next up the grid search classifier is declared:"
   ]
  },
  {
   "cell_type": "code",
   "execution_count": 53,
   "metadata": {},
   "outputs": [],
   "source": [
    "gs_clf = GridSearchCV(clf, parameters, n_jobs=7, cv=fold_10, \n",
    "                      scoring=make_scorer(hamming_loss, greater_is_better=False), verbose=1)"
   ]
  },
  {
   "cell_type": "markdown",
   "metadata": {},
   "source": [
    "Now we can fit the model on the existing data to find the best parameters:"
   ]
  },
  {
   "cell_type": "code",
   "execution_count": 54,
   "metadata": {
    "scrolled": true
   },
   "outputs": [
    {
     "name": "stdout",
     "output_type": "stream",
     "text": [
      "Fitting 10 folds for each of 512 candidates, totalling 5120 fits\n"
     ]
    },
    {
     "name": "stderr",
     "output_type": "stream",
     "text": [
      "[Parallel(n_jobs=7)]: Using backend LokyBackend with 7 concurrent workers.\n",
      "[Parallel(n_jobs=7)]: Done  36 tasks      | elapsed:   38.8s\n",
      "[Parallel(n_jobs=7)]: Done 186 tasks      | elapsed:  4.2min\n",
      "[Parallel(n_jobs=7)]: Done 436 tasks      | elapsed:  9.8min\n",
      "[Parallel(n_jobs=7)]: Done 786 tasks      | elapsed: 38.4min\n",
      "[Parallel(n_jobs=7)]: Done 1236 tasks      | elapsed: 62.5min\n",
      "[Parallel(n_jobs=7)]: Done 1786 tasks      | elapsed: 81.6min\n",
      "[Parallel(n_jobs=7)]: Done 2436 tasks      | elapsed: 111.8min\n",
      "[Parallel(n_jobs=7)]: Done 3186 tasks      | elapsed: 154.4min\n",
      "[Parallel(n_jobs=7)]: Done 4036 tasks      | elapsed: 183.7min\n",
      "[Parallel(n_jobs=7)]: Done 4986 tasks      | elapsed: 210.5min\n",
      "[Parallel(n_jobs=7)]: Done 5120 out of 5120 | elapsed: 227.0min finished\n"
     ]
    },
    {
     "data": {
      "text/plain": [
       "GridSearchCV(cv=KFold(n_splits=10, random_state=123, shuffle=True),\n",
       "             estimator=BinaryRelevance(classifier=RandomForestClassifier(random_state=7),\n",
       "                                       require_dense=[True, True]),\n",
       "             n_jobs=7,\n",
       "             param_grid={'classifier__bootstrap': (True, False),\n",
       "                         'classifier__class_weight': (None, 'balanced'),\n",
       "                         'classifier__criterion': ('gini', 'entropy'),\n",
       "                         'classifier__max_features': ('auto', 'sqrt', 'log2',\n",
       "                                                      None),\n",
       "                         'classifier__n_estimators': (100, 150, 175, 200),\n",
       "                         'classifier__oob_score': (True, False),\n",
       "                         'classifier__warm_start': (True, False)},\n",
       "             scoring=make_scorer(hamming_loss, greater_is_better=False),\n",
       "             verbose=1)"
      ]
     },
     "execution_count": 54,
     "metadata": {},
     "output_type": "execute_result"
    }
   ],
   "source": [
    "gs_clf.fit(profiles, target)"
   ]
  },
  {
   "cell_type": "markdown",
   "metadata": {},
   "source": [
    "We can see the best parameters calculated from grid-search:"
   ]
  },
  {
   "cell_type": "code",
   "execution_count": 55,
   "metadata": {},
   "outputs": [
    {
     "data": {
      "text/plain": [
       "{'classifier__bootstrap': True,\n",
       " 'classifier__class_weight': None,\n",
       " 'classifier__criterion': 'entropy',\n",
       " 'classifier__max_features': None,\n",
       " 'classifier__n_estimators': 175,\n",
       " 'classifier__oob_score': True,\n",
       " 'classifier__warm_start': True}"
      ]
     },
     "execution_count": 55,
     "metadata": {},
     "output_type": "execute_result"
    }
   ],
   "source": [
    "gs_clf.best_params_"
   ]
  },
  {
   "cell_type": "markdown",
   "metadata": {},
   "source": [
    "We save the best estimator in a new variable to use it for cross-validation after: "
   ]
  },
  {
   "cell_type": "code",
   "execution_count": 56,
   "metadata": {},
   "outputs": [],
   "source": [
    "best_forest = gs_clf.best_estimator_"
   ]
  },
  {
   "cell_type": "markdown",
   "metadata": {},
   "source": [
    "Now we can check the average hamming loss of the best model calculated above by using LOO cross-validation:"
   ]
  },
  {
   "cell_type": "code",
   "execution_count": 57,
   "metadata": {
    "scrolled": true
   },
   "outputs": [
    {
     "name": "stdout",
     "output_type": "stream",
     "text": [
      "Mean: -0.05259635974304069\n",
      "Standard Deviation: 0.12116970432351964\n"
     ]
    }
   ],
   "source": [
    "scores = cross_val_score(best_forest, profiles, target,cv=loo, n_jobs=-1,\n",
    "                         scoring=make_scorer(hamming_loss, greater_is_better=False))\n",
    "print_scores(scores)"
   ]
  },
  {
   "cell_type": "markdown",
   "metadata": {},
   "source": [
    "#### Extra trees\n",
    "Now extra trees will be used:"
   ]
  },
  {
   "cell_type": "code",
   "execution_count": 62,
   "metadata": {},
   "outputs": [],
   "source": [
    "parameters = {'criterion': ('gini','entropy'),\n",
    "              'n_estimators': (50,75,100,125),\n",
    "              'bootstrap':(True,False),\n",
    "              'oob_score':(True,False),\n",
    "              'max_features':('sqrt',None,'log2'),\n",
    "              'warm_start':(True,False),\n",
    "              'class_weight':(None,'balanced'),\n",
    "              'max_depth':(None,10)\n",
    "             }\n",
    "parameters = {'classifier__' + key: parameters[key] for key in parameters}"
   ]
  },
  {
   "cell_type": "markdown",
   "metadata": {},
   "source": [
    "Defining the extra trees classifier with binary relevance:"
   ]
  },
  {
   "cell_type": "code",
   "execution_count": 63,
   "metadata": {},
   "outputs": [],
   "source": [
    "clf = BinaryRelevance(ExtraTreesClassifier(random_state=7))"
   ]
  },
  {
   "cell_type": "markdown",
   "metadata": {},
   "source": [
    "Next up the grid search classifier is declared:"
   ]
  },
  {
   "cell_type": "code",
   "execution_count": 64,
   "metadata": {},
   "outputs": [],
   "source": [
    "gs_clf = GridSearchCV(clf, parameters, n_jobs=7, cv=fold_10, \n",
    "                      scoring=make_scorer(hamming_loss, greater_is_better=False), verbose=1)"
   ]
  },
  {
   "cell_type": "markdown",
   "metadata": {},
   "source": [
    "Now we can fit the model on the existing data to find the best parameters:"
   ]
  },
  {
   "cell_type": "code",
   "execution_count": 65,
   "metadata": {
    "scrolled": true
   },
   "outputs": [
    {
     "name": "stdout",
     "output_type": "stream",
     "text": [
      "Fitting 10 folds for each of 768 candidates, totalling 7680 fits\n"
     ]
    },
    {
     "name": "stderr",
     "output_type": "stream",
     "text": [
      "[Parallel(n_jobs=7)]: Using backend LokyBackend with 7 concurrent workers.\n",
      "[Parallel(n_jobs=7)]: Done  36 tasks      | elapsed:   18.9s\n",
      "[Parallel(n_jobs=7)]: Done 186 tasks      | elapsed:  1.9min\n",
      "[Parallel(n_jobs=7)]: Done 436 tasks      | elapsed:  5.6min\n",
      "[Parallel(n_jobs=7)]: Done 786 tasks      | elapsed: 10.2min\n",
      "[Parallel(n_jobs=7)]: Done 1236 tasks      | elapsed: 15.2min\n",
      "[Parallel(n_jobs=7)]: Done 1786 tasks      | elapsed: 22.3min\n",
      "[Parallel(n_jobs=7)]: Done 2436 tasks      | elapsed: 29.7min\n",
      "[Parallel(n_jobs=7)]: Done 3186 tasks      | elapsed: 40.3min\n",
      "[Parallel(n_jobs=7)]: Done 4050 tasks      | elapsed: 48.6min\n",
      "[Parallel(n_jobs=7)]: Done 5098 tasks      | elapsed: 56.7min\n",
      "[Parallel(n_jobs=7)]: Done 6215 tasks      | elapsed: 64.0min\n",
      "[Parallel(n_jobs=7)]: Done 7410 tasks      | elapsed: 71.6min\n",
      "[Parallel(n_jobs=7)]: Done 7680 out of 7680 | elapsed: 73.9min finished\n"
     ]
    },
    {
     "data": {
      "text/plain": [
       "GridSearchCV(cv=KFold(n_splits=10, random_state=123, shuffle=True),\n",
       "             estimator=BinaryRelevance(classifier=ExtraTreesClassifier(random_state=7),\n",
       "                                       require_dense=[True, True]),\n",
       "             n_jobs=7,\n",
       "             param_grid={'classifier__bootstrap': (True, False),\n",
       "                         'classifier__class_weight': (None, 'balanced'),\n",
       "                         'classifier__criterion': ('gini', 'entropy'),\n",
       "                         'classifier__max_depth': (None, 10),\n",
       "                         'classifier__max_features': ('sqrt', None, 'log2'),\n",
       "                         'classifier__n_estimators': (50, 75, 100, 125),\n",
       "                         'classifier__oob_score': (True, False),\n",
       "                         'classifier__warm_start': (True, False)},\n",
       "             scoring=make_scorer(hamming_loss, greater_is_better=False),\n",
       "             verbose=1)"
      ]
     },
     "execution_count": 65,
     "metadata": {},
     "output_type": "execute_result"
    }
   ],
   "source": [
    "gs_clf.fit(profiles, target)"
   ]
  },
  {
   "cell_type": "markdown",
   "metadata": {},
   "source": [
    "We can see the best parameters calculated from grid-search:"
   ]
  },
  {
   "cell_type": "code",
   "execution_count": 66,
   "metadata": {},
   "outputs": [
    {
     "data": {
      "text/plain": [
       "{'classifier__bootstrap': False,\n",
       " 'classifier__class_weight': None,\n",
       " 'classifier__criterion': 'entropy',\n",
       " 'classifier__max_depth': 10,\n",
       " 'classifier__max_features': None,\n",
       " 'classifier__n_estimators': 125,\n",
       " 'classifier__oob_score': False,\n",
       " 'classifier__warm_start': True}"
      ]
     },
     "execution_count": 66,
     "metadata": {},
     "output_type": "execute_result"
    }
   ],
   "source": [
    "gs_clf.best_params_"
   ]
  },
  {
   "cell_type": "markdown",
   "metadata": {},
   "source": [
    "We save the best estimator in a new variable to use it for cross-validation after: "
   ]
  },
  {
   "cell_type": "code",
   "execution_count": 67,
   "metadata": {},
   "outputs": [],
   "source": [
    "best_extra = gs_clf.best_estimator_"
   ]
  },
  {
   "cell_type": "markdown",
   "metadata": {},
   "source": [
    "Now we can check the average hamming loss of the best model calculated above by using LOO cross-validation:"
   ]
  },
  {
   "cell_type": "code",
   "execution_count": 68,
   "metadata": {},
   "outputs": [
    {
     "name": "stdout",
     "output_type": "stream",
     "text": [
      "Mean: -0.04730995717344754\n",
      "Standard Deviation: 0.11312411944313217\n"
     ]
    }
   ],
   "source": [
    "scores = cross_val_score(best_extra, profiles, target,cv=loo, n_jobs=-1,\n",
    "                         scoring=make_scorer(hamming_loss, greater_is_better=False))\n",
    "print_scores(scores)"
   ]
  },
  {
   "cell_type": "markdown",
   "metadata": {},
   "source": [
    "#### LightGBM\n",
    "Next up LightGBM classifier:"
   ]
  },
  {
   "cell_type": "code",
   "execution_count": 14,
   "metadata": {},
   "outputs": [],
   "source": [
    "import lightgbm as lgb"
   ]
  },
  {
   "cell_type": "code",
   "execution_count": 70,
   "metadata": {},
   "outputs": [],
   "source": [
    "parameters = {'boosting_type': ('gbdt', 'dart', 'goss','rf'),\n",
    "              'max_depth': (-1,-5,-10),\n",
    "              'learning_rate':(0.1, 0.3, 0.5),\n",
    "              'n_estimators':(100, 133,166, 200),\n",
    "              'class_weight': (None,'balanced'),\n",
    "              'min_child_weight':(1e-3,1e-4),\n",
    "              'min_child_samples':(20,30)\n",
    "             }\n",
    "parameters = {'classifier__' + key: parameters[key] for key in parameters}"
   ]
  },
  {
   "cell_type": "markdown",
   "metadata": {},
   "source": [
    "Defining the lightGBM classifier with binary relevance:"
   ]
  },
  {
   "cell_type": "code",
   "execution_count": 71,
   "metadata": {},
   "outputs": [],
   "source": [
    "clf = BinaryRelevance(lgb.LGBMClassifier(random_state=7))"
   ]
  },
  {
   "cell_type": "markdown",
   "metadata": {},
   "source": [
    "Next up the grid search classifier is declared:"
   ]
  },
  {
   "cell_type": "code",
   "execution_count": 72,
   "metadata": {},
   "outputs": [],
   "source": [
    "gs_clf = GridSearchCV(clf, parameters, n_jobs=7, cv=fold_10, \n",
    "                      scoring=make_scorer(hamming_loss, greater_is_better=False), verbose=1)"
   ]
  },
  {
   "cell_type": "markdown",
   "metadata": {},
   "source": [
    "Now we can fit the model on the existing data to find the best parameters:"
   ]
  },
  {
   "cell_type": "code",
   "execution_count": 73,
   "metadata": {
    "scrolled": true
   },
   "outputs": [
    {
     "name": "stdout",
     "output_type": "stream",
     "text": [
      "Fitting 10 folds for each of 1152 candidates, totalling 11520 fits\n"
     ]
    },
    {
     "name": "stderr",
     "output_type": "stream",
     "text": [
      "[Parallel(n_jobs=7)]: Using backend LokyBackend with 7 concurrent workers.\n",
      "[Parallel(n_jobs=7)]: Done  36 tasks      | elapsed:  1.4min\n",
      "[Parallel(n_jobs=7)]: Done 186 tasks      | elapsed:  6.3min\n",
      "[Parallel(n_jobs=7)]: Done 436 tasks      | elapsed: 14.3min\n",
      "[Parallel(n_jobs=7)]: Done 786 tasks      | elapsed: 20.2min\n",
      "[Parallel(n_jobs=7)]: Done 1236 tasks      | elapsed: 25.6min\n",
      "[Parallel(n_jobs=7)]: Done 1786 tasks      | elapsed: 38.7min\n",
      "[Parallel(n_jobs=7)]: Done 2436 tasks      | elapsed: 50.6min\n",
      "[Parallel(n_jobs=7)]: Done 3186 tasks      | elapsed: 64.9min\n",
      "[Parallel(n_jobs=7)]: Done 4036 tasks      | elapsed: 92.6min\n",
      "[Parallel(n_jobs=7)]: Done 4986 tasks      | elapsed: 122.5min\n",
      "[Parallel(n_jobs=7)]: Done 6036 tasks      | elapsed: 149.3min\n",
      "[Parallel(n_jobs=7)]: Done 7186 tasks      | elapsed: 156.7min\n",
      "[Parallel(n_jobs=7)]: Done 8436 tasks      | elapsed: 165.7min\n",
      "[Parallel(n_jobs=7)]: Done 11520 out of 11520 | elapsed: 166.9min finished\n"
     ]
    },
    {
     "data": {
      "text/plain": [
       "GridSearchCV(cv=KFold(n_splits=10, random_state=123, shuffle=True),\n",
       "             estimator=BinaryRelevance(classifier=LGBMClassifier(random_state=7),\n",
       "                                       require_dense=[True, True]),\n",
       "             n_jobs=7,\n",
       "             param_grid={'classifier__boosting_type': ('gbdt', 'dart', 'goss',\n",
       "                                                       'rf'),\n",
       "                         'classifier__class_weight': (None, 'balanced'),\n",
       "                         'classifier__learning_rate': (0.1, 0.3, 0.5),\n",
       "                         'classifier__max_depth': (-1, -5, -10),\n",
       "                         'classifier__min_child_samples': (20, 30),\n",
       "                         'classifier__min_child_weight': (0.001, 0.0001),\n",
       "                         'classifier__n_estimators': (100, 133, 166, 200)},\n",
       "             scoring=make_scorer(hamming_loss, greater_is_better=False),\n",
       "             verbose=1)"
      ]
     },
     "execution_count": 73,
     "metadata": {},
     "output_type": "execute_result"
    }
   ],
   "source": [
    "gs_clf.fit(profiles, target)"
   ]
  },
  {
   "cell_type": "markdown",
   "metadata": {},
   "source": [
    "We can see the best parameters calculated from grid-search:"
   ]
  },
  {
   "cell_type": "code",
   "execution_count": 74,
   "metadata": {},
   "outputs": [
    {
     "data": {
      "text/plain": [
       "{'classifier__boosting_type': 'dart',\n",
       " 'classifier__class_weight': None,\n",
       " 'classifier__learning_rate': 0.5,\n",
       " 'classifier__max_depth': -1,\n",
       " 'classifier__min_child_samples': 30,\n",
       " 'classifier__min_child_weight': 0.0001,\n",
       " 'classifier__n_estimators': 200}"
      ]
     },
     "execution_count": 74,
     "metadata": {},
     "output_type": "execute_result"
    }
   ],
   "source": [
    "gs_clf.best_params_"
   ]
  },
  {
   "cell_type": "markdown",
   "metadata": {},
   "source": [
    "We save the best estimator in a new variable to use it for cross-validation after: "
   ]
  },
  {
   "cell_type": "code",
   "execution_count": 75,
   "metadata": {},
   "outputs": [],
   "source": [
    "best_light = gs_clf.best_estimator_"
   ]
  },
  {
   "cell_type": "markdown",
   "metadata": {},
   "source": [
    "Now we can check the average hamming loss of the best model calculated above by using LOO cross-validation:"
   ]
  },
  {
   "cell_type": "code",
   "execution_count": 76,
   "metadata": {},
   "outputs": [
    {
     "name": "stdout",
     "output_type": "stream",
     "text": [
      "Mean: -0.0485144539614561\n",
      "Standard Deviation: 0.11036200678987762\n"
     ]
    }
   ],
   "source": [
    "scores = cross_val_score(best_light, profiles, target,cv=loo, n_jobs=-1,\n",
    "                         scoring=make_scorer(hamming_loss, greater_is_better=False))\n",
    "print_scores(scores)"
   ]
  },
  {
   "cell_type": "markdown",
   "metadata": {},
   "source": [
    "#### XGBoost\n",
    "Next up xgboost classifier:"
   ]
  },
  {
   "cell_type": "code",
   "execution_count": 12,
   "metadata": {},
   "outputs": [
    {
     "name": "stdout",
     "output_type": "stream",
     "text": [
      "Fitting 10 folds for each of 192 candidates, totalling 1920 fits\n"
     ]
    },
    {
     "name": "stderr",
     "output_type": "stream",
     "text": [
      "[Parallel(n_jobs=7)]: Using backend LokyBackend with 7 concurrent workers.\n",
      "[Parallel(n_jobs=7)]: Done  36 tasks      | elapsed:  4.7min\n",
      "[Parallel(n_jobs=7)]: Done 186 tasks      | elapsed: 22.1min\n",
      "[Parallel(n_jobs=7)]: Done 436 tasks      | elapsed: 37.8min\n",
      "[Parallel(n_jobs=7)]: Done 786 tasks      | elapsed: 42.5min\n",
      "[Parallel(n_jobs=7)]: Done 1236 tasks      | elapsed: 79.4min\n",
      "[Parallel(n_jobs=7)]: Done 1786 tasks      | elapsed: 90.3min\n",
      "[Parallel(n_jobs=7)]: Done 1920 out of 1920 | elapsed: 92.7min finished\n",
      "C:\\Users\\stef4\\anaconda3\\lib\\site-packages\\xgboost\\sklearn.py:1224: UserWarning: The use of label encoder in XGBClassifier is deprecated and will be removed in a future release. To remove this warning, do the following: 1) Pass option use_label_encoder=False when constructing XGBClassifier object; and 2) Encode your labels (y) as integers starting with 0, i.e. 0, 1, 2, ..., [num_class - 1].\n",
      "  warnings.warn(label_encoder_deprecation_msg, UserWarning)\n"
     ]
    },
    {
     "name": "stdout",
     "output_type": "stream",
     "text": [
      "{'classifier__base_score': 0.8, 'classifier__booster': 'dart', 'classifier__eta': 0.3, 'classifier__eval_metric': 'merror', 'classifier__max_depth': 10, 'classifier__objective': 'reg:logistic', 'classifier__validate_parameters': True}\n",
      "--------------------------------------------\n",
      "Mean: -0.05072269807280514\n",
      "Standard Deviation: 0.11105339099649791\n"
     ]
    }
   ],
   "source": [
    "from xgboost import XGBClassifier\n",
    "\n",
    "parameters = {'booster': ('dart', 'gblinear', 'gbtree'),\n",
    "              'validate_parameters': (True,False),\n",
    "              'objective':('reg:logistic','binary:hinge'),\n",
    "              'base_score':(0.5,0.8),\n",
    "              'eta':(0.3,0.75),\n",
    "              'max_depth':(6,10),\n",
    "              'eval_metric':('merror','mlogloss')\n",
    "              #'rate_drop':(0,0.4)\n",
    "             }\n",
    "parameters = {'classifier__' + key: parameters[key] for key in parameters}\n",
    "\n",
    "clf = BinaryRelevance(XGBClassifier(seed=7))\n",
    "\n",
    "gs_clf = GridSearchCV(clf, parameters, n_jobs=7, cv=fold_10, \n",
    "                      scoring=make_scorer(hamming_loss, greater_is_better=False), verbose=1)\n",
    "\n",
    "gs_clf.fit(profiles, target)\n",
    "\n",
    "print(gs_clf.best_params_)\n",
    "\n",
    "best_xgb = gs_clf.best_estimator_\n",
    "\n",
    "scores = cross_val_score(best_xgb, profiles, target,cv=loo, n_jobs=-1,\n",
    "                         scoring=make_scorer(hamming_loss, greater_is_better=False))\n",
    "print('--------------------------------------------')\n",
    "print_scores(scores)"
   ]
  },
  {
   "cell_type": "markdown",
   "metadata": {},
   "source": [
    "#### Logistic regression\n",
    "Also logistic regression:"
   ]
  },
  {
   "cell_type": "code",
   "execution_count": 20,
   "metadata": {},
   "outputs": [
    {
     "name": "stdout",
     "output_type": "stream",
     "text": [
      "Fitting 10 folds for each of 4320 candidates, totalling 43200 fits\n"
     ]
    },
    {
     "name": "stderr",
     "output_type": "stream",
     "text": [
      "[Parallel(n_jobs=7)]: Using backend LokyBackend with 7 concurrent workers.\n",
      "[Parallel(n_jobs=7)]: Done  74 tasks      | elapsed:    0.2s\n",
      "[Parallel(n_jobs=7)]: Done 543 tasks      | elapsed:  4.7min\n",
      "[Parallel(n_jobs=7)]: Done 1373 tasks      | elapsed:  7.5min\n",
      "[Parallel(n_jobs=7)]: Done 1766 tasks      | elapsed: 12.1min\n",
      "[Parallel(n_jobs=7)]: Done 2846 tasks      | elapsed: 18.8min\n",
      "[Parallel(n_jobs=7)]: Done 4033 tasks      | elapsed: 25.6min\n",
      "[Parallel(n_jobs=7)]: Done 5306 tasks      | elapsed: 33.3min\n",
      "[Parallel(n_jobs=7)]: Done 6775 tasks      | elapsed: 40.6min\n",
      "[Parallel(n_jobs=7)]: Done 8789 tasks      | elapsed: 52.3min\n",
      "[Parallel(n_jobs=7)]: Done 10786 tasks      | elapsed: 61.4min\n",
      "[Parallel(n_jobs=7)]: Done 13101 tasks      | elapsed: 72.6min\n",
      "[Parallel(n_jobs=7)]: Done 15576 tasks      | elapsed: 85.7min\n",
      "[Parallel(n_jobs=7)]: Done 18264 tasks      | elapsed: 101.7min\n",
      "[Parallel(n_jobs=7)]: Done 20923 tasks      | elapsed: 118.6min\n",
      "[Parallel(n_jobs=7)]: Done 24298 tasks      | elapsed: 134.8min\n",
      "[Parallel(n_jobs=7)]: Done 27628 tasks      | elapsed: 150.7min\n",
      "[Parallel(n_jobs=7)]: Done 31163 tasks      | elapsed: 170.9min\n",
      "[Parallel(n_jobs=7)]: Done 34812 tasks      | elapsed: 192.3min\n",
      "[Parallel(n_jobs=7)]: Done 38686 tasks      | elapsed: 212.6min\n",
      "[Parallel(n_jobs=7)]: Done 42582 tasks      | elapsed: 232.4min\n",
      "[Parallel(n_jobs=7)]: Done 43200 out of 43200 | elapsed: 234.5min finished\n"
     ]
    },
    {
     "name": "stdout",
     "output_type": "stream",
     "text": [
      "{'classifier__C': 1.2, 'classifier__class_weight': None, 'classifier__fit_intercept': False, 'classifier__intercept_scaling': 0.8, 'classifier__penalty': 'l1', 'classifier__solver': 'liblinear', 'classifier__tol': 0.001, 'classifier__warm_start': True}\n",
      "--------------------------------------------\n",
      "Mean: -0.06684957173447538\n",
      "Standard Deviation: 0.137102739789716\n"
     ]
    }
   ],
   "source": [
    "parameters = {'penalty': ('l1', 'l2', 'elasticnet', 'none'),\n",
    "              'tol': (1e-3, 1e-4, 1e-5),\n",
    "              'C':(0.8, 1 , 1.2),\n",
    "              'fit_intercept':(True,False),\n",
    "              'intercept_scaling': (0.8, 1, 1.2),\n",
    "              'class_weight':('balanced',None),\n",
    "              'solver':('newton-cg', 'lbfgs', 'liblinear', 'sag', 'saga'),\n",
    "              #'multi_class':('auto', 'ovr', 'multinomial'),\n",
    "              'warm_start':(True, False)\n",
    "             }\n",
    "parameters = {'classifier__' + key: parameters[key] for key in parameters}\n",
    "\n",
    "clf = BinaryRelevance(LogisticRegression(random_state=7))\n",
    "\n",
    "gs_clf = GridSearchCV(clf, parameters, n_jobs=7, cv=fold_10, \n",
    "                      scoring=make_scorer(hamming_loss, greater_is_better=False), verbose=1)\n",
    "\n",
    "gs_clf.fit(profiles, target)\n",
    "\n",
    "print(gs_clf.best_params_)\n",
    "\n",
    "best_logistic = gs_clf.best_estimator_\n",
    "\n",
    "scores = cross_val_score(best_logistic, profiles, target,cv=loo, n_jobs=-1,\n",
    "                         scoring=make_scorer(hamming_loss, greater_is_better=False))\n",
    "print('--------------------------------------------')\n",
    "print_scores(scores)"
   ]
  },
  {
   "cell_type": "markdown",
   "metadata": {},
   "source": [
    "### Classifier Chains\n",
    "Now we will try classifier chains. In classifier chains, the first classifier is trained just on the input data and then each next classifier is trained on the input space and all the previous classifiers in the chain\n",
    "#### Decision trees\n",
    "We will start with decision trees"
   ]
  },
  {
   "cell_type": "code",
   "execution_count": 12,
   "metadata": {},
   "outputs": [],
   "source": [
    "parameters = {'classifier__criterion': ('gini','entropy'),\n",
    "              'classifier__splitter': ('best', 'random'),\n",
    "              'classifier__max_features':('sqrt',None,'log2'),\n",
    "              'classifier__class_weight':(None,'balanced'),\n",
    "              'classifier__max_depth':(None,20,50),\n",
    "              'classifier__min_samples_leaf':(1,3,6),\n",
    "              'classifier__ccp_alpha':(0,0.15, 0.3),\n",
    "              'classifier__min_impurity_decrease':(0, 0.15, 0.3)\n",
    "             }"
   ]
  },
  {
   "cell_type": "markdown",
   "metadata": {},
   "source": [
    "Defining the decision tree classifier with binary relevance:"
   ]
  },
  {
   "cell_type": "code",
   "execution_count": 13,
   "metadata": {},
   "outputs": [],
   "source": [
    "clf = ClassifierChain(DecisionTreeClassifier(random_state=7))"
   ]
  },
  {
   "cell_type": "markdown",
   "metadata": {},
   "source": [
    "Next up the grid search classifier is declared:"
   ]
  },
  {
   "cell_type": "code",
   "execution_count": 25,
   "metadata": {},
   "outputs": [],
   "source": [
    "gs_clf = GridSearchCV(clf, parameters, n_jobs=7, cv=fold_10, \n",
    "                      scoring=make_scorer(hamming_loss, greater_is_better=False), verbose=1)"
   ]
  },
  {
   "cell_type": "markdown",
   "metadata": {},
   "source": [
    "Now we can fit the model on the existing data to find the best parameters:"
   ]
  },
  {
   "cell_type": "code",
   "execution_count": 26,
   "metadata": {
    "scrolled": true
   },
   "outputs": [
    {
     "name": "stdout",
     "output_type": "stream",
     "text": [
      "Fitting 10 folds for each of 1944 candidates, totalling 19440 fits\n"
     ]
    },
    {
     "name": "stderr",
     "output_type": "stream",
     "text": [
      "[Parallel(n_jobs=7)]: Using backend LokyBackend with 7 concurrent workers.\n",
      "[Parallel(n_jobs=7)]: Done  36 tasks      | elapsed:    2.5s\n",
      "[Parallel(n_jobs=7)]: Done 295 tasks      | elapsed:    8.3s\n",
      "[Parallel(n_jobs=7)]: Done 795 tasks      | elapsed:   16.3s\n",
      "[Parallel(n_jobs=7)]: Done 1495 tasks      | elapsed:   28.7s\n",
      "[Parallel(n_jobs=7)]: Done 2395 tasks      | elapsed:   47.3s\n",
      "[Parallel(n_jobs=7)]: Done 3495 tasks      | elapsed:  1.2min\n",
      "[Parallel(n_jobs=7)]: Done 4795 tasks      | elapsed:  1.6min\n",
      "[Parallel(n_jobs=7)]: Done 6295 tasks      | elapsed:  2.1min\n",
      "[Parallel(n_jobs=7)]: Done 7995 tasks      | elapsed:  2.5min\n",
      "[Parallel(n_jobs=7)]: Done 9895 tasks      | elapsed:  3.1min\n",
      "[Parallel(n_jobs=7)]: Done 11995 tasks      | elapsed:  3.8min\n",
      "[Parallel(n_jobs=7)]: Done 14295 tasks      | elapsed:  4.6min\n",
      "[Parallel(n_jobs=7)]: Done 16795 tasks      | elapsed:  5.4min\n",
      "[Parallel(n_jobs=7)]: Done 19427 out of 19440 | elapsed:  6.2min remaining:    0.2s\n",
      "[Parallel(n_jobs=7)]: Done 19440 out of 19440 | elapsed:  6.2min finished\n"
     ]
    },
    {
     "data": {
      "text/plain": [
       "GridSearchCV(cv=KFold(n_splits=10, random_state=123, shuffle=True),\n",
       "             estimator=ClassifierChain(classifier=DecisionTreeClassifier(random_state=7),\n",
       "                                       require_dense=[True, True]),\n",
       "             n_jobs=7,\n",
       "             param_grid={'classifier__ccp_alpha': (0, 0.15, 0.3),\n",
       "                         'classifier__class_weight': (None, 'balanced'),\n",
       "                         'classifier__criterion': ('gini', 'entropy'),\n",
       "                         'classifier__max_depth': (None, 20, 50),\n",
       "                         'classifier__max_features': ('sqrt', None, 'log2'),\n",
       "                         'classifier__min_impurity_decrease': (0, 0.15, 0.3),\n",
       "                         'classifier__min_samples_leaf': (1, 3, 6),\n",
       "                         'classifier__splitter': ('best', 'random')},\n",
       "             scoring=make_scorer(hamming_loss, greater_is_better=False),\n",
       "             verbose=1)"
      ]
     },
     "execution_count": 26,
     "metadata": {},
     "output_type": "execute_result"
    }
   ],
   "source": [
    "gs_clf.fit(profiles, target)"
   ]
  },
  {
   "cell_type": "markdown",
   "metadata": {},
   "source": [
    "We can see the best parameters calculated from grid-search:"
   ]
  },
  {
   "cell_type": "code",
   "execution_count": 27,
   "metadata": {},
   "outputs": [
    {
     "data": {
      "text/plain": [
       "{'classifier__ccp_alpha': 0,\n",
       " 'classifier__class_weight': None,\n",
       " 'classifier__criterion': 'gini',\n",
       " 'classifier__max_depth': None,\n",
       " 'classifier__max_features': None,\n",
       " 'classifier__min_impurity_decrease': 0,\n",
       " 'classifier__min_samples_leaf': 6,\n",
       " 'classifier__splitter': 'best'}"
      ]
     },
     "execution_count": 27,
     "metadata": {},
     "output_type": "execute_result"
    }
   ],
   "source": [
    "gs_clf.best_params_"
   ]
  },
  {
   "cell_type": "markdown",
   "metadata": {},
   "source": [
    "We save the best estimator in a new variable to use it for cross-validation after: "
   ]
  },
  {
   "cell_type": "code",
   "execution_count": 28,
   "metadata": {},
   "outputs": [],
   "source": [
    "best_tree = gs_clf.best_estimator_"
   ]
  },
  {
   "cell_type": "markdown",
   "metadata": {},
   "source": [
    "Now we can check the average hamming loss of the best model calculated above by using LOO cross-validation:"
   ]
  },
  {
   "cell_type": "code",
   "execution_count": 29,
   "metadata": {
    "scrolled": true
   },
   "outputs": [
    {
     "name": "stdout",
     "output_type": "stream",
     "text": [
      "Mean: -0.07508029978586724\n",
      "Standard Deviation: 0.15558824612221722\n"
     ]
    }
   ],
   "source": [
    "scores = cross_val_score(best_tree, profiles, target,cv=loo, n_jobs=-1,\n",
    "                         scoring=make_scorer(hamming_loss, greater_is_better=False))\n",
    "print_scores(scores)"
   ]
  },
  {
   "cell_type": "markdown",
   "metadata": {},
   "source": [
    "#### Logistic regression\n",
    "Also logistic regression:"
   ]
  },
  {
   "cell_type": "code",
   "execution_count": 18,
   "metadata": {},
   "outputs": [
    {
     "name": "stdout",
     "output_type": "stream",
     "text": [
      "Fitting 10 folds for each of 4320 candidates, totalling 43200 fits\n"
     ]
    },
    {
     "name": "stderr",
     "output_type": "stream",
     "text": [
      "[Parallel(n_jobs=7)]: Using backend LokyBackend with 7 concurrent workers.\n",
      "[Parallel(n_jobs=7)]: Done  38 tasks      | elapsed:    0.4s\n",
      "[Parallel(n_jobs=7)]: Done 326 tasks      | elapsed:  2.8min\n",
      "[Parallel(n_jobs=7)]: Done 590 tasks      | elapsed:  4.5min\n",
      "[Parallel(n_jobs=7)]: Done 1563 tasks      | elapsed: 10.2min\n",
      "[Parallel(n_jobs=7)]: Done 2622 tasks      | elapsed: 14.1min\n",
      "[Parallel(n_jobs=7)]: Done 3781 tasks      | elapsed: 20.7min\n",
      "[Parallel(n_jobs=7)]: Done 5089 tasks      | elapsed: 25.8min\n",
      "[Parallel(n_jobs=7)]: Done 6476 tasks      | elapsed: 31.5min\n",
      "[Parallel(n_jobs=7)]: Done 8422 tasks      | elapsed: 39.6min\n",
      "[Parallel(n_jobs=7)]: Done 10194 tasks      | elapsed: 50.7min\n",
      "[Parallel(n_jobs=7)]: Done 12532 tasks      | elapsed: 58.7min\n",
      "[Parallel(n_jobs=7)]: Done 15166 tasks      | elapsed: 68.0min\n",
      "[Parallel(n_jobs=7)]: Done 18008 tasks      | elapsed: 83.8min\n",
      "[Parallel(n_jobs=7)]: Done 20846 tasks      | elapsed: 94.9min\n",
      "[Parallel(n_jobs=7)]: Done 24228 tasks      | elapsed: 110.1min\n",
      "[Parallel(n_jobs=7)]: Done 27983 tasks      | elapsed: 124.4min\n",
      "[Parallel(n_jobs=7)]: Done 31558 tasks      | elapsed: 143.7min\n",
      "[Parallel(n_jobs=7)]: Done 35233 tasks      | elapsed: 157.7min\n",
      "[Parallel(n_jobs=7)]: Done 39015 tasks      | elapsed: 177.2min\n",
      "[Parallel(n_jobs=7)]: Done 43200 out of 43200 | elapsed: 190.5min finished\n"
     ]
    },
    {
     "name": "stdout",
     "output_type": "stream",
     "text": [
      "{'classifier__C': 1.2, 'classifier__class_weight': None, 'classifier__fit_intercept': False, 'classifier__intercept_scaling': 0.8, 'classifier__penalty': 'l1', 'classifier__solver': 'liblinear', 'classifier__tol': 0.001, 'classifier__warm_start': True}\n",
      "--------------------------------------------\n",
      "Mean: -0.06510974304068523\n",
      "Standard Deviation: 0.15143644825505279\n"
     ]
    }
   ],
   "source": [
    "parameters = {'penalty': ('l1', 'l2', 'elasticnet', 'none'),\n",
    "              'tol': (1e-3, 1e-4, 1e-5),\n",
    "              'C':(0.8, 1 , 1.2),\n",
    "              'fit_intercept':(True,False),\n",
    "              'intercept_scaling': (0.8, 1, 1.2),\n",
    "              'class_weight':('balanced',None),\n",
    "              'solver':('newton-cg', 'lbfgs', 'liblinear', 'sag', 'saga'),\n",
    "              #'multi_class':('auto', 'ovr', 'multinomial'),\n",
    "              'warm_start':(True, False)\n",
    "             }\n",
    "parameters = {'classifier__' + key: parameters[key] for key in parameters}\n",
    "\n",
    "clf = ClassifierChain(LogisticRegression(random_state=7))\n",
    "\n",
    "gs_clf = GridSearchCV(clf, parameters, n_jobs=7, cv=fold_10, \n",
    "                      scoring=make_scorer(hamming_loss, greater_is_better=False), verbose=1)\n",
    "\n",
    "gs_clf.fit(profiles, target)\n",
    "\n",
    "print(gs_clf.best_params_)\n",
    "\n",
    "best_logistic = gs_clf.best_estimator_\n",
    "\n",
    "scores = cross_val_score(best_logistic, profiles, target,cv=loo, n_jobs=-1,\n",
    "                         scoring=make_scorer(hamming_loss, greater_is_better=False))\n",
    "print('--------------------------------------------')\n",
    "print_scores(scores)"
   ]
  },
  {
   "cell_type": "markdown",
   "metadata": {},
   "source": [
    "####  Random forest\n",
    "Now lets try random forest classifier:"
   ]
  },
  {
   "cell_type": "code",
   "execution_count": 12,
   "metadata": {},
   "outputs": [
    {
     "name": "stdout",
     "output_type": "stream",
     "text": [
      "Fitting 10 folds for each of 256 candidates, totalling 2560 fits\n"
     ]
    },
    {
     "name": "stderr",
     "output_type": "stream",
     "text": [
      "[Parallel(n_jobs=7)]: Using backend LokyBackend with 7 concurrent workers.\n",
      "[Parallel(n_jobs=7)]: Done  36 tasks      | elapsed:   39.6s\n",
      "[Parallel(n_jobs=7)]: Done 186 tasks      | elapsed:  3.7min\n",
      "[Parallel(n_jobs=7)]: Done 436 tasks      | elapsed: 14.6min\n",
      "[Parallel(n_jobs=7)]: Done 786 tasks      | elapsed: 27.5min\n",
      "[Parallel(n_jobs=7)]: Done 1236 tasks      | elapsed: 44.9min\n",
      "[Parallel(n_jobs=7)]: Done 1786 tasks      | elapsed: 60.9min\n",
      "[Parallel(n_jobs=7)]: Done 2436 tasks      | elapsed: 79.0min\n",
      "[Parallel(n_jobs=7)]: Done 2560 out of 2560 | elapsed: 86.8min finished\n"
     ]
    },
    {
     "name": "stdout",
     "output_type": "stream",
     "text": [
      "{'classifier__bootstrap': True, 'classifier__class_weight': None, 'classifier__criterion': 'entropy', 'classifier__max_features': None, 'classifier__n_estimators': 150, 'classifier__oob_score': True}\n",
      "--------------------------------------------\n",
      "Mean: -0.05815042826552463\n",
      "Standard Deviation: 0.15095382362870088\n"
     ]
    }
   ],
   "source": [
    "parameters = {'criterion': ('gini','entropy'),\n",
    "              'n_estimators': (100, 150, 175, 200),\n",
    "              'bootstrap':(True,False),\n",
    "              'oob_score':(True,False),\n",
    "              'class_weight':('balanced_subsample','balanced',None),\n",
    "              'max_features':('auto','sqrt','log2',None),\n",
    "              #'warm_start':(True,False), True does not work\n",
    "              'class_weight':(None,'balanced')\n",
    "             }\n",
    "parameters = {'classifier__' + key: parameters[key] for key in parameters}\n",
    "\n",
    "clf = ClassifierChain(RandomForestClassifier(random_state=7))\n",
    "\n",
    "gs_clf = GridSearchCV(clf, parameters, n_jobs=7, cv=fold_10, \n",
    "                      scoring=make_scorer(hamming_loss, greater_is_better=False), verbose=1)\n",
    "\n",
    "gs_clf.fit(profiles, target)\n",
    "best_forest = gs_clf.best_estimator_\n",
    "\n",
    "print(gs_clf.best_params_)\n",
    "\n",
    "scores = cross_val_score(best_forest, profiles, target,cv=loo, n_jobs=-1,\n",
    "                         scoring=make_scorer(hamming_loss, greater_is_better=False))\n",
    "print('--------------------------------------------')\n",
    "print_scores(scores)"
   ]
  },
  {
   "cell_type": "markdown",
   "metadata": {},
   "source": [
    "#### Extra trees\n",
    "Now lets try extratrees classifier. The steps are the same as above:"
   ]
  },
  {
   "cell_type": "code",
   "execution_count": 11,
   "metadata": {},
   "outputs": [
    {
     "name": "stdout",
     "output_type": "stream",
     "text": [
      "Fitting 10 folds for each of 768 candidates, totalling 7680 fits\n"
     ]
    },
    {
     "name": "stderr",
     "output_type": "stream",
     "text": [
      "C:\\Users\\stef4\\anaconda3\\lib\\site-packages\\sklearn\\model_selection\\_validation.py:372: FitFailedWarning: \n",
      "2880 fits failed out of a total of 7680.\n",
      "The score on these train-test partitions for these parameters will be set to nan.\n",
      "If these failures are not expected, you can try to debug them by setting error_score='raise'.\n",
      "\n",
      "Below are more details about the failures:\n",
      "--------------------------------------------------------------------------------\n",
      "960 fits failed with the following error:\n",
      "Traceback (most recent call last):\n",
      "  File \"C:\\Users\\stef4\\anaconda3\\lib\\site-packages\\sklearn\\model_selection\\_validation.py\", line 680, in _fit_and_score\n",
      "    estimator.fit(X_train, y_train, **fit_params)\n",
      "  File \"C:\\Users\\stef4\\anaconda3\\lib\\site-packages\\skmultilearn\\problem_transform\\cc.py\", line 154, in fit\n",
      "    self.classifiers_[label] = self.classifier.fit(self._ensure_input_format(\n",
      "  File \"C:\\Users\\stef4\\anaconda3\\lib\\site-packages\\sklearn\\ensemble\\_forest.py\", line 486, in fit\n",
      "    self._set_oob_score_and_attributes(X, y)\n",
      "  File \"C:\\Users\\stef4\\anaconda3\\lib\\site-packages\\sklearn\\ensemble\\_forest.py\", line 725, in _set_oob_score_and_attributes\n",
      "    self.oob_decision_function_ = super()._compute_oob_predictions(X, y)\n",
      "  File \"C:\\Users\\stef4\\anaconda3\\lib\\site-packages\\sklearn\\ensemble\\_forest.py\", line 554, in _compute_oob_predictions\n",
      "    y_pred = self._get_oob_predictions(estimator, X[unsampled_indices, :])\n",
      "  File \"C:\\Users\\stef4\\anaconda3\\lib\\site-packages\\sklearn\\ensemble\\_forest.py\", line 703, in _get_oob_predictions\n",
      "    y_pred = tree.predict_proba(X, check_input=False)\n",
      "  File \"C:\\Users\\stef4\\anaconda3\\lib\\site-packages\\sklearn\\tree\\_classes.py\", line 971, in predict_proba\n",
      "    X = self._validate_X_predict(X, check_input)\n",
      "  File \"C:\\Users\\stef4\\anaconda3\\lib\\site-packages\\sklearn\\tree\\_classes.py\", line 440, in _validate_X_predict\n",
      "    self._check_n_features(X, reset=False)\n",
      "  File \"C:\\Users\\stef4\\anaconda3\\lib\\site-packages\\sklearn\\base.py\", line 400, in _check_n_features\n",
      "    raise ValueError(\n",
      "ValueError: X has 158 features, but ExtraTreeClassifier is expecting 157 features as input.\n",
      "\n",
      "--------------------------------------------------------------------------------\n",
      "1920 fits failed with the following error:\n",
      "Traceback (most recent call last):\n",
      "  File \"C:\\Users\\stef4\\anaconda3\\lib\\site-packages\\sklearn\\model_selection\\_validation.py\", line 680, in _fit_and_score\n",
      "    estimator.fit(X_train, y_train, **fit_params)\n",
      "  File \"C:\\Users\\stef4\\anaconda3\\lib\\site-packages\\skmultilearn\\problem_transform\\cc.py\", line 154, in fit\n",
      "    self.classifiers_[label] = self.classifier.fit(self._ensure_input_format(\n",
      "  File \"C:\\Users\\stef4\\anaconda3\\lib\\site-packages\\sklearn\\ensemble\\_forest.py\", line 411, in fit\n",
      "    raise ValueError(\"Out of bag estimation only available if bootstrap=True\")\n",
      "ValueError: Out of bag estimation only available if bootstrap=True\n",
      "\n",
      "  warnings.warn(some_fits_failed_message, FitFailedWarning)\n",
      "C:\\Users\\stef4\\anaconda3\\lib\\site-packages\\sklearn\\model_selection\\_search.py:969: UserWarning: One or more of the test scores are non-finite: [        nan -0.07489133         nan -0.07489133         nan -0.07079401\n",
      "         nan -0.07079401         nan -0.06957933         nan -0.06957933\n",
      "         nan -0.06984743         nan -0.06984743         nan -0.05706217\n",
      "         nan -0.05706217         nan -0.05613061         nan -0.05613061\n",
      "         nan -0.0573267          nan -0.0573267          nan -0.05685984\n",
      "         nan -0.05685984         nan -0.07051876         nan -0.07051876\n",
      "         nan -0.07198081         nan -0.07198081         nan -0.07044655\n",
      "         nan -0.07044655         nan -0.0681566          nan -0.0681566\n",
      "         nan -0.07780757         nan -0.07780757         nan -0.07266143\n",
      "         nan -0.07266143         nan -0.0748084          nan -0.0748084\n",
      "         nan -0.07616178         nan -0.07616178         nan -0.0592077\n",
      "         nan -0.0592077          nan -0.06026581         nan -0.06026581\n",
      "         nan -0.059533           nan -0.059533           nan -0.05940503\n",
      "         nan -0.05940503         nan -0.08525009         nan -0.08525009\n",
      "         nan -0.084375           nan -0.084375           nan -0.08478395\n",
      "         nan -0.08478395         nan -0.08544812         nan -0.08544812\n",
      "         nan -0.06822237         nan -0.06822237         nan -0.06856412\n",
      "         nan -0.06856412         nan -0.06762183         nan -0.06762183\n",
      "         nan -0.06742307         nan -0.06742307         nan -0.05714224\n",
      "         nan -0.05714224         nan -0.05767845         nan -0.05767845\n",
      "         nan -0.0549245          nan -0.0549245          nan -0.05774637\n",
      "         nan -0.05774637         nan -0.07580645         nan -0.07580645\n",
      "         nan -0.07447023         nan -0.07447023         nan -0.0739948\n",
      "         nan -0.0739948          nan -0.07327628         nan -0.07327628\n",
      "         nan -0.08321108         nan -0.08321108         nan -0.08043139\n",
      "         nan -0.08043139         nan -0.07780614         nan -0.07780614\n",
      "         nan -0.07662434         nan -0.07662434         nan -0.058279\n",
      "         nan -0.058279           nan -0.05545427         nan -0.05545427\n",
      "         nan -0.05725306         nan -0.05725306         nan -0.05619423\n",
      "         nan -0.05619423         nan -0.08062586         nan -0.08062586\n",
      "         nan -0.08552891         nan -0.08552891         nan -0.08378303\n",
      "         nan -0.08378303         nan -0.08385524         nan -0.08385524\n",
      "         nan -0.07581074         nan -0.07581074         nan -0.0693005\n",
      "         nan -0.0693005          nan -0.07178706         nan -0.07178706\n",
      "         nan -0.07239405         nan -0.07239405         nan -0.0597339\n",
      "         nan -0.0597339          nan -0.05974176         nan -0.05974176\n",
      "         nan -0.05886024         nan -0.05886024         nan -0.05832618\n",
      "         nan -0.05832618         nan -0.07554764         nan -0.07554764\n",
      "         nan -0.07547257         nan -0.07547257         nan -0.07281086\n",
      "         nan -0.07281086         nan -0.07674874         nan -0.07674874\n",
      "         nan -0.08585707         nan -0.08585707         nan -0.08278926\n",
      "         nan -0.08278926         nan -0.08211007         nan -0.08211007\n",
      "         nan -0.08165108         nan -0.08165108         nan -0.06006134\n",
      "         nan -0.06006134         nan -0.05966884         nan -0.05966884\n",
      "         nan -0.0615334          nan -0.0615334          nan -0.05965812\n",
      "         nan -0.05965812         nan -0.10392144         nan -0.10392144\n",
      "         nan -0.1015121          nan -0.1015121          nan -0.09757779\n",
      "         nan -0.09757779         nan -0.10264885         nan -0.10264885\n",
      "         nan -0.07017058         nan -0.07017058         nan -0.06849691\n",
      "         nan -0.06849691         nan -0.07124013         nan -0.07124013\n",
      "         nan -0.07177777         nan -0.07177777         nan -0.06022506\n",
      "         nan -0.06022506         nan -0.05800446         nan -0.05800446\n",
      "         nan -0.05772921         nan -0.05772921         nan -0.05892888\n",
      "         nan -0.05892888         nan -0.07477837         nan -0.07477837\n",
      "         nan -0.07042796         nan -0.07042796         nan -0.0709656\n",
      "         nan -0.0709656          nan -0.07162978         nan -0.07162978\n",
      "         nan -0.08648622         nan -0.08648622         nan -0.08469172\n",
      "         nan -0.08469172         nan -0.0810634          nan -0.0810634\n",
      "         nan -0.0806516          nan -0.0806516          nan -0.05794798\n",
      "         nan -0.05794798         nan -0.05986902         nan -0.05986902\n",
      "         nan -0.05787148         nan -0.05787148         nan -0.06006563\n",
      "         nan -0.06006563         nan -0.10493022         nan -0.10493022\n",
      "         nan -0.10553935         nan -0.10553935         nan -0.10326942\n",
      "         nan -0.10326942         nan -0.10271891         nan -0.10271891\n",
      "         nan         nan         nan -0.06309054         nan         nan\n",
      "         nan -0.06195593         nan         nan         nan -0.06288535\n",
      "         nan         nan         nan -0.062964           nan         nan\n",
      "         nan -0.05644232         nan         nan         nan -0.05617207\n",
      "         nan         nan         nan -0.0550918          nan         nan\n",
      "         nan -0.05536062         nan         nan         nan -0.07051519\n",
      "         nan         nan         nan -0.06722432         nan         nan\n",
      "         nan -0.06802791         nan         nan         nan -0.06742593\n",
      "         nan         nan         nan -0.07098776         nan         nan\n",
      "         nan -0.07031715         nan         nan         nan -0.07252988\n",
      "         nan         nan         nan -0.07314545         nan         nan\n",
      "         nan -0.05777282         nan         nan         nan -0.05737317\n",
      "         nan         nan         nan -0.05676762         nan         nan\n",
      "         nan -0.05548573         nan         nan         nan -0.08719758\n",
      "         nan         nan         nan -0.08760581         nan         nan\n",
      "         nan -0.08572981         nan         nan         nan -0.08566332\n",
      "         nan         nan         nan -0.06650724         nan         nan\n",
      "         nan -0.06631349         nan         nan         nan -0.0641751\n",
      "         nan         nan         nan -0.06422944         nan         nan\n",
      "         nan -0.0547951          nan         nan         nan -0.05431323\n",
      "         nan         nan         nan -0.05338023         nan         nan\n",
      "         nan -0.05405514         nan         nan         nan -0.06903169\n",
      "         nan         nan         nan -0.07065746         nan         nan\n",
      "         nan -0.06623341         nan         nan         nan -0.06682967\n",
      "         nan         nan         nan -0.07462037         nan         nan\n",
      "         nan -0.07341212         nan         nan         nan -0.07414136\n",
      "         nan         nan         nan -0.0750765          nan         nan\n",
      "         nan -0.05513398         nan         nan         nan -0.05445765\n",
      "         nan         nan         nan -0.05372054         nan         nan\n",
      "         nan -0.0533166          nan         nan         nan -0.08544598\n",
      "         nan         nan         nan -0.08197066         nan         nan\n",
      "         nan -0.08109414         nan         nan         nan -0.08330474\n",
      "         nan         nan         nan -0.07156901         nan         nan\n",
      "         nan -0.06823596         nan         nan         nan -0.0695107\n",
      "         nan         nan         nan -0.06944993         nan         nan\n",
      "         nan -0.06039307         nan         nan         nan -0.05838052\n",
      "         nan         nan         nan -0.05851636         nan         nan\n",
      "         nan -0.05771277         nan         nan         nan -0.06804007\n",
      "         nan         nan         nan -0.06708276         nan         nan\n",
      "         nan -0.06770333         nan         nan         nan -0.06662735\n",
      "         nan         nan         nan -0.086715           nan         nan\n",
      "         nan -0.08671571         nan         nan         nan -0.08664922\n",
      "         nan         nan         nan -0.08925732         nan         nan\n",
      "         nan -0.06039665         nan         nan         nan -0.06006492\n",
      "         nan         nan         nan -0.05986187         nan         nan\n",
      "         nan -0.05972961         nan         nan         nan -0.10219558\n",
      "         nan         nan         nan -0.09985058         nan         nan\n",
      "         nan -0.09984271         nan         nan         nan -0.10133479\n",
      "         nan         nan         nan -0.06638427         nan         nan\n",
      "         nan -0.06550346         nan         nan         nan -0.06583519\n",
      "         nan         nan         nan -0.06616978         nan         nan\n",
      "         nan -0.05758694         nan         nan         nan -0.05745467\n",
      "         nan         nan         nan -0.05892244         nan         nan\n",
      "         nan -0.05872655         nan         nan         nan -0.07158545\n",
      "         nan         nan         nan -0.06435455         nan         nan\n",
      "         nan -0.06476207         nan         nan         nan -0.06449397\n",
      "         nan         nan         nan -0.09245096         nan         nan\n",
      "         nan -0.08708176         nan         nan         nan -0.08294941\n",
      "         nan         nan         nan -0.08374728         nan         nan\n",
      "         nan -0.05618637         nan         nan         nan -0.05798873\n",
      "         nan         nan         nan -0.05770919         nan         nan\n",
      "         nan -0.05797729         nan         nan         nan -0.10261239\n",
      "         nan         nan         nan -0.1026131          nan         nan\n",
      "         nan -0.1009573          nan         nan         nan -0.10281257]\n",
      "  warnings.warn(\n"
     ]
    },
    {
     "name": "stdout",
     "output_type": "stream",
     "text": [
      "{'classifier__bootstrap': False, 'classifier__class_weight': None, 'classifier__criterion': 'entropy', 'classifier__max_depth': 10, 'classifier__max_features': None, 'classifier__n_estimators': 125, 'classifier__oob_score': False, 'classifier__warm_start': False}\n",
      "Mean: -0.05293094218415417\n",
      "Standard Deviation: 0.1355786346092023\n"
     ]
    }
   ],
   "source": [
    "parameters = {'criterion': ('gini','entropy'),\n",
    "              'n_estimators': (50,75,100,125),\n",
    "              'bootstrap':(True,False),\n",
    "              'oob_score':(True,False),\n",
    "              'max_features':('sqrt',None,'log2'),\n",
    "              'warm_start':(True,False),\n",
    "              'class_weight':(None,'balanced'),\n",
    "              'max_depth':(None,10)\n",
    "             }\n",
    "parameters = {'classifier__' + key: parameters[key] for key in parameters}\n",
    "\n",
    "clf = ClassifierChain(ExtraTreesClassifier(random_state=7))\n",
    "\n",
    "gs_clf = GridSearchCV(clf, parameters, n_jobs=7, cv=fold_10, \n",
    "                      scoring=make_scorer(hamming_loss, greater_is_better=False), verbose=1)\n",
    "\n",
    "gs_clf.fit(profiles, target)\n",
    "best_extra = gs_clf.best_estimator_\n",
    "\n",
    "print(gs_clf.best_params_)\n",
    "\n",
    "scores = cross_val_score(best_extra, profiles, target,cv=loo, n_jobs=-1,\n",
    "                         scoring=make_scorer(hamming_loss, greater_is_better=False))\n",
    "print_scores(scores)"
   ]
  },
  {
   "cell_type": "markdown",
   "metadata": {},
   "source": [
    "####  LightGBM\n",
    "Now lightgbm classifier:"
   ]
  },
  {
   "cell_type": "code",
   "execution_count": 16,
   "metadata": {},
   "outputs": [
    {
     "name": "stdout",
     "output_type": "stream",
     "text": [
      "Fitting 10 folds for each of 1152 candidates, totalling 11520 fits\n"
     ]
    },
    {
     "name": "stderr",
     "output_type": "stream",
     "text": [
      "[Parallel(n_jobs=7)]: Using backend LokyBackend with 7 concurrent workers.\n",
      "[Parallel(n_jobs=7)]: Done  36 tasks      | elapsed:  1.4min\n",
      "[Parallel(n_jobs=7)]: Done 186 tasks      | elapsed:  6.4min\n",
      "[Parallel(n_jobs=7)]: Done 436 tasks      | elapsed: 15.0min\n",
      "[Parallel(n_jobs=7)]: Done 786 tasks      | elapsed: 21.0min\n",
      "[Parallel(n_jobs=7)]: Done 1236 tasks      | elapsed: 26.2min\n",
      "[Parallel(n_jobs=7)]: Done 1786 tasks      | elapsed: 38.9min\n",
      "[Parallel(n_jobs=7)]: Done 2436 tasks      | elapsed: 50.1min\n",
      "[Parallel(n_jobs=7)]: Done 3186 tasks      | elapsed: 65.2min\n",
      "[Parallel(n_jobs=7)]: Done 4036 tasks      | elapsed: 95.0min\n",
      "[Parallel(n_jobs=7)]: Done 4986 tasks      | elapsed: 130.1min\n",
      "[Parallel(n_jobs=7)]: Done 6036 tasks      | elapsed: 160.2min\n",
      "[Parallel(n_jobs=7)]: Done 7186 tasks      | elapsed: 168.8min\n",
      "[Parallel(n_jobs=7)]: Done 8436 tasks      | elapsed: 179.9min\n",
      "[Parallel(n_jobs=7)]: Done 11520 out of 11520 | elapsed: 181.2min finished\n"
     ]
    },
    {
     "name": "stdout",
     "output_type": "stream",
     "text": [
      "Finished loading model, total used 225 iterations\n",
      "Finished loading model, total used 225 iterations\n",
      "Finished loading model, total used 225 iterations\n",
      "Finished loading model, total used 225 iterations\n",
      "Finished loading model, total used 225 iterations\n",
      "Finished loading model, total used 225 iterations\n",
      "Finished loading model, total used 225 iterations\n",
      "Finished loading model, total used 225 iterations\n",
      "Finished loading model, total used 225 iterations\n",
      "Finished loading model, total used 225 iterations\n",
      "Finished loading model, total used 225 iterations\n",
      "Finished loading model, total used 225 iterations\n",
      "Finished loading model, total used 225 iterations\n",
      "Finished loading model, total used 225 iterations\n",
      "Finished loading model, total used 225 iterations\n",
      "{'classifier__boosting_type': 'dart', 'classifier__class_weight': None, 'classifier__learning_rate': 0.5, 'classifier__max_depth': -1, 'classifier__min_child_samples': 30, 'classifier__min_child_weight': 0.0001, 'classifier__n_estimators': 225}\n",
      "--------------------------------------------\n",
      "Mean: -0.04898286937901499\n",
      "Standard Deviation: 0.12406490161850049\n"
     ]
    }
   ],
   "source": [
    "parameters = {'boosting_type': ('gbdt', 'dart', 'goss','rf'),\n",
    "              'max_depth': (-1,-5,-10),\n",
    "              'learning_rate':(0.1, 0.3, 0.5),\n",
    "              'n_estimators':(100, 150, 200,225),\n",
    "              'class_weight': (None,'balanced'),\n",
    "              'min_child_weight':(1e-3,1e-4),\n",
    "              'min_child_samples':(20,30)\n",
    "             }\n",
    "parameters = {'classifier__' + key: parameters[key] for key in parameters}\n",
    "\n",
    "clf = ClassifierChain(lgb.LGBMClassifier(random_state=7))\n",
    "\n",
    "gs_clf = GridSearchCV(clf, parameters, n_jobs=7, cv=fold_10, \n",
    "                      scoring=make_scorer(hamming_loss, greater_is_better=False), verbose=1)\n",
    "\n",
    "gs_clf.fit(profiles, target)\n",
    "best_light = gs_clf.best_estimator_\n",
    "\n",
    "print(gs_clf.best_params_)\n",
    "\n",
    "scores = cross_val_score(best_light, profiles, target,cv=loo, n_jobs=-1,\n",
    "                         scoring=make_scorer(hamming_loss, greater_is_better=False))\n",
    "print('--------------------------------------------')\n",
    "print_scores(scores)"
   ]
  },
  {
   "cell_type": "markdown",
   "metadata": {},
   "source": [
    "#### XGBoost\n",
    "Now xgboost:"
   ]
  },
  {
   "cell_type": "code",
   "execution_count": 17,
   "metadata": {},
   "outputs": [
    {
     "name": "stdout",
     "output_type": "stream",
     "text": [
      "Fitting 10 folds for each of 192 candidates, totalling 1920 fits\n"
     ]
    },
    {
     "name": "stderr",
     "output_type": "stream",
     "text": [
      "[Parallel(n_jobs=7)]: Using backend LokyBackend with 7 concurrent workers.\n",
      "[Parallel(n_jobs=7)]: Done  36 tasks      | elapsed:  4.5min\n",
      "[Parallel(n_jobs=7)]: Done 186 tasks      | elapsed: 23.7min\n",
      "[Parallel(n_jobs=7)]: Done 436 tasks      | elapsed: 41.1min\n",
      "[Parallel(n_jobs=7)]: Done 786 tasks      | elapsed: 45.7min\n",
      "[Parallel(n_jobs=7)]: Done 1236 tasks      | elapsed: 85.3min\n",
      "[Parallel(n_jobs=7)]: Done 1786 tasks      | elapsed: 97.0min\n",
      "[Parallel(n_jobs=7)]: Done 1920 out of 1920 | elapsed: 99.2min finished\n",
      "C:\\Users\\stef4\\anaconda3\\lib\\site-packages\\xgboost\\sklearn.py:1224: UserWarning: The use of label encoder in XGBClassifier is deprecated and will be removed in a future release. To remove this warning, do the following: 1) Pass option use_label_encoder=False when constructing XGBClassifier object; and 2) Encode your labels (y) as integers starting with 0, i.e. 0, 1, 2, ..., [num_class - 1].\n",
      "  warnings.warn(label_encoder_deprecation_msg, UserWarning)\n"
     ]
    },
    {
     "name": "stdout",
     "output_type": "stream",
     "text": [
      "{'classifier__base_score': 0.5, 'classifier__booster': 'dart', 'classifier__eta': 0.75, 'classifier__eval_metric': 'merror', 'classifier__max_depth': 6, 'classifier__objective': 'reg:logistic', 'classifier__validate_parameters': True}\n",
      "--------------------------------------------\n",
      "Mean: -0.05580835117773019\n",
      "Standard Deviation: 0.13754156348590227\n"
     ]
    }
   ],
   "source": [
    "parameters = {'booster': ('dart', 'gblinear', 'gbtree'),\n",
    "              'validate_parameters': (True,False),\n",
    "              'objective':('reg:logistic','binary:hinge'),\n",
    "              'base_score':(0.5,0.8),\n",
    "              'eta':(0.3,0.75),\n",
    "              'max_depth':(6,10),\n",
    "              'eval_metric':('merror','mlogloss')\n",
    "              #'rate_drop':(0,0.4)\n",
    "             }\n",
    "parameters = {'classifier__' + key: parameters[key] for key in parameters}\n",
    "\n",
    "clf = ClassifierChain(XGBClassifier(seed=7))\n",
    "\n",
    "gs_clf = GridSearchCV(clf, parameters, n_jobs=7, cv=fold_10, \n",
    "                      scoring=make_scorer(hamming_loss, greater_is_better=False), verbose=1)\n",
    "\n",
    "gs_clf.fit(profiles, target)\n",
    "best_xgboost = gs_clf.best_estimator_\n",
    "\n",
    "print(gs_clf.best_params_)\n",
    "\n",
    "scores = cross_val_score(best_xgboost, profiles, target,cv=loo, n_jobs=-1,\n",
    "                         scoring=make_scorer(hamming_loss, greater_is_better=False))\n",
    "print('--------------------------------------------')\n",
    "print_scores(scores)"
   ]
  },
  {
   "cell_type": "markdown",
   "metadata": {},
   "source": [
    "### Label Powerset\n",
    "The problem is transformed into a multi-class problem with one multi-class classifier that is trained on all unique label combinations found in the training data"
   ]
  },
  {
   "cell_type": "code",
   "execution_count": 13,
   "metadata": {},
   "outputs": [],
   "source": [
    "from skmultilearn.problem_transform import LabelPowerset"
   ]
  },
  {
   "cell_type": "markdown",
   "metadata": {},
   "source": [
    "#### Extra trees"
   ]
  },
  {
   "cell_type": "code",
   "execution_count": 12,
   "metadata": {},
   "outputs": [
    {
     "name": "stdout",
     "output_type": "stream",
     "text": [
      "Fitting 10 folds for each of 768 candidates, totalling 7680 fits\n"
     ]
    },
    {
     "name": "stderr",
     "output_type": "stream",
     "text": [
      "[Parallel(n_jobs=7)]: Using backend LokyBackend with 7 concurrent workers.\n",
      "[Parallel(n_jobs=7)]: Done  36 tasks      | elapsed:    4.9s\n",
      "[Parallel(n_jobs=7)]: Done 186 tasks      | elapsed:   16.8s\n",
      "[Parallel(n_jobs=7)]: Done 436 tasks      | elapsed:   48.7s\n",
      "[Parallel(n_jobs=7)]: Done 786 tasks      | elapsed:  1.4min\n",
      "[Parallel(n_jobs=7)]: Done 1236 tasks      | elapsed:  2.1min\n",
      "[Parallel(n_jobs=7)]: Done 1786 tasks      | elapsed:  3.2min\n",
      "[Parallel(n_jobs=7)]: Done 2436 tasks      | elapsed:  4.6min\n",
      "[Parallel(n_jobs=7)]: Done 3186 tasks      | elapsed:  6.0min\n",
      "[Parallel(n_jobs=7)]: Done 4134 tasks      | elapsed:  7.7min\n",
      "[Parallel(n_jobs=7)]: Done 5539 tasks      | elapsed:  9.2min\n",
      "[Parallel(n_jobs=7)]: Done 7023 tasks      | elapsed: 11.6min\n",
      "[Parallel(n_jobs=7)]: Done 7680 out of 7680 | elapsed: 12.4min finished\n"
     ]
    },
    {
     "name": "stdout",
     "output_type": "stream",
     "text": [
      "{'classifier__bootstrap': False, 'classifier__class_weight': None, 'classifier__criterion': 'entropy', 'classifier__max_depth': 10, 'classifier__max_features': None, 'classifier__n_estimators': 100, 'classifier__oob_score': False, 'classifier__warm_start': True}\n",
      "--------------------------------------------\n",
      "Mean: -0.056076017130620985\n",
      "Standard Deviation: 0.14437811929306865\n"
     ]
    }
   ],
   "source": [
    "parameters = {'criterion': ('gini','entropy'),\n",
    "              'n_estimators': (50,75,100,125),\n",
    "              'bootstrap':(True,False),\n",
    "              'oob_score':(True,False),\n",
    "              'max_features':('sqrt',None,'log2'),\n",
    "              'warm_start':(True,False),\n",
    "              'class_weight':(None,'balanced'),\n",
    "              'max_depth':(None,10)\n",
    "             }\n",
    "parameters = {'classifier__' + key: parameters[key] for key in parameters}\n",
    "\n",
    "clf = LabelPowerset(ExtraTreesClassifier(random_state=7))\n",
    "\n",
    "gs_clf = GridSearchCV(clf, parameters, n_jobs=7, cv=fold_10, \n",
    "                      scoring=make_scorer(hamming_loss, greater_is_better=False), verbose=1)\n",
    "\n",
    "gs_clf.fit(profiles, target)\n",
    "\n",
    "print(gs_clf.best_params_)\n",
    "\n",
    "best_extra = gs_clf.best_estimator_\n",
    "\n",
    "scores = cross_val_score(best_extra, profiles, target,cv=loo, n_jobs=-1,\n",
    "                         scoring=make_scorer(hamming_loss, greater_is_better=False))\n",
    "print('--------------------------------------------')\n",
    "print_scores(scores)"
   ]
  },
  {
   "cell_type": "markdown",
   "metadata": {},
   "source": [
    "#### Random Forest"
   ]
  },
  {
   "cell_type": "code",
   "execution_count": 13,
   "metadata": {},
   "outputs": [
    {
     "name": "stdout",
     "output_type": "stream",
     "text": [
      "Fitting 10 folds for each of 512 candidates, totalling 5120 fits\n"
     ]
    },
    {
     "name": "stderr",
     "output_type": "stream",
     "text": [
      "[Parallel(n_jobs=7)]: Using backend LokyBackend with 7 concurrent workers.\n",
      "[Parallel(n_jobs=7)]: Done  36 tasks      | elapsed:    5.6s\n",
      "[Parallel(n_jobs=7)]: Done 186 tasks      | elapsed:   31.5s\n",
      "[Parallel(n_jobs=7)]: Done 436 tasks      | elapsed:  1.2min\n",
      "[Parallel(n_jobs=7)]: Done 786 tasks      | elapsed:  6.1min\n",
      "[Parallel(n_jobs=7)]: Done 1236 tasks      | elapsed: 13.3min\n",
      "[Parallel(n_jobs=7)]: Done 1786 tasks      | elapsed: 19.8min\n",
      "[Parallel(n_jobs=7)]: Done 2436 tasks      | elapsed: 35.8min\n",
      "[Parallel(n_jobs=7)]: Done 3256 tasks      | elapsed: 48.9min\n",
      "[Parallel(n_jobs=7)]: Done 4106 tasks      | elapsed: 61.1min\n",
      "[Parallel(n_jobs=7)]: Done 5056 tasks      | elapsed: 83.4min\n",
      "[Parallel(n_jobs=7)]: Done 5120 out of 5120 | elapsed: 89.5min finished\n"
     ]
    },
    {
     "name": "stdout",
     "output_type": "stream",
     "text": [
      "{'classifier__bootstrap': True, 'classifier__class_weight': None, 'classifier__criterion': 'gini', 'classifier__max_features': None, 'classifier__n_estimators': 100, 'classifier__oob_score': True, 'classifier__warm_start': True}\n",
      "--------------------------------------------\n",
      "Mean: -0.05968950749464668\n",
      "Standard Deviation: 0.15453571570151853\n"
     ]
    }
   ],
   "source": [
    "parameters = {'criterion': ('gini','entropy'),\n",
    "              'n_estimators': (100, 150, 175, 200),\n",
    "              'bootstrap':(True,False),\n",
    "              'oob_score':(True,False),\n",
    "              'class_weight':('balanced_subsample','balanced',None),\n",
    "              'max_features':('auto','sqrt','log2',None),\n",
    "              'warm_start':(True,False),\n",
    "              'class_weight':(None,'balanced')\n",
    "             }\n",
    "parameters = {'classifier__' + key: parameters[key] for key in parameters}\n",
    "\n",
    "clf = LabelPowerset(RandomForestClassifier(random_state=7))\n",
    "\n",
    "gs_clf = GridSearchCV(clf, parameters, n_jobs=7, cv=fold_10, \n",
    "                      scoring=make_scorer(hamming_loss, greater_is_better=False), verbose=1)\n",
    "\n",
    "gs_clf.fit(profiles, target)\n",
    "\n",
    "print(gs_clf.best_params_)\n",
    "\n",
    "best_forest = gs_clf.best_estimator_\n",
    "\n",
    "scores = cross_val_score(best_forest, profiles, target,cv=loo, n_jobs=-1,\n",
    "                         scoring=make_scorer(hamming_loss, greater_is_better=False))\n",
    "print('--------------------------------------------')\n",
    "print_scores(scores)"
   ]
  },
  {
   "cell_type": "markdown",
   "metadata": {},
   "source": [
    "#### LightGBM"
   ]
  },
  {
   "cell_type": "code",
   "execution_count": 14,
   "metadata": {
    "scrolled": true
   },
   "outputs": [
    {
     "name": "stdout",
     "output_type": "stream",
     "text": [
      "Fitting 10 folds for each of 1152 candidates, totalling 11520 fits\n"
     ]
    },
    {
     "name": "stderr",
     "output_type": "stream",
     "text": [
      "[Parallel(n_jobs=7)]: Using backend LokyBackend with 7 concurrent workers.\n",
      "[Parallel(n_jobs=7)]: Done  36 tasks      | elapsed:  2.1min\n",
      "[Parallel(n_jobs=7)]: Done 186 tasks      | elapsed:  9.9min\n",
      "[Parallel(n_jobs=7)]: Done 436 tasks      | elapsed: 22.5min\n",
      "[Parallel(n_jobs=7)]: Done 786 tasks      | elapsed: 27.5min\n",
      "[Parallel(n_jobs=7)]: Done 1236 tasks      | elapsed: 31.2min\n",
      "[Parallel(n_jobs=7)]: Done 1786 tasks      | elapsed: 47.5min\n",
      "[Parallel(n_jobs=7)]: Done 2436 tasks      | elapsed: 57.6min\n",
      "[Parallel(n_jobs=7)]: Done 3186 tasks      | elapsed: 111.3min\n",
      "[Parallel(n_jobs=7)]: Done 4036 tasks      | elapsed: 150.6min\n",
      "[Parallel(n_jobs=7)]: Done 4986 tasks      | elapsed: 233.1min\n",
      "[Parallel(n_jobs=7)]: Done 6036 tasks      | elapsed: 249.5min\n",
      "[Parallel(n_jobs=7)]: Done 7186 tasks      | elapsed: 263.9min\n",
      "[Parallel(n_jobs=7)]: Done 8436 tasks      | elapsed: 283.6min\n",
      "[Parallel(n_jobs=7)]: Done 11520 out of 11520 | elapsed: 285.2min finished\n"
     ]
    },
    {
     "name": "stdout",
     "output_type": "stream",
     "text": [
      "{'classifier__boosting_type': 'gbdt', 'classifier__class_weight': None, 'classifier__learning_rate': 0.1, 'classifier__max_depth': -1, 'classifier__min_child_samples': 20, 'classifier__min_child_weight': 0.001, 'classifier__n_estimators': 225}\n",
      "--------------------------------------------\n",
      "Mean: -0.06336991434689508\n",
      "Standard Deviation: 0.15722818884284742\n"
     ]
    }
   ],
   "source": [
    "parameters = {'boosting_type': ('gbdt', 'dart', 'goss','rf'),\n",
    "              'max_depth': (-1,-5,-10),\n",
    "              'learning_rate':(0.1, 0.3, 0.5),\n",
    "              'n_estimators':(100, 150, 200,225),\n",
    "              'class_weight': (None,'balanced'),\n",
    "              'min_child_weight':(1e-3,1e-4),\n",
    "              'min_child_samples':(20,30)\n",
    "             }\n",
    "parameters = {'classifier__' + key: parameters[key] for key in parameters}\n",
    "\n",
    "clf = LabelPowerset(lgb.LGBMClassifier(random_state=7))\n",
    "\n",
    "gs_clf = GridSearchCV(clf, parameters, n_jobs=7, cv=fold_10, \n",
    "                      scoring=make_scorer(hamming_loss, greater_is_better=False), verbose=1)\n",
    "\n",
    "gs_clf.fit(profiles, target)\n",
    "best_light = gs_clf.best_estimator_\n",
    "\n",
    "print(gs_clf.best_params_)\n",
    "\n",
    "scores = cross_val_score(best_light, profiles, target,cv=loo, n_jobs=-1,\n",
    "                         scoring=make_scorer(hamming_loss, greater_is_better=False))\n",
    "print('--------------------------------------------')\n",
    "print_scores(scores)"
   ]
  },
  {
   "cell_type": "markdown",
   "metadata": {},
   "source": [
    "### Adapted Algorithms\n",
    "#### MLkNN\n",
    "We start with the KNN version for multi-label problems. MLkNN uses k-NearestNeighbors to find nearest examples to a test class and uses Bayesian inference to select assigned labels:"
   ]
  },
  {
   "cell_type": "code",
   "execution_count": 14,
   "metadata": {
    "scrolled": true
   },
   "outputs": [
    {
     "name": "stdout",
     "output_type": "stream",
     "text": [
      "Fitting 10 folds for each of 36 candidates, totalling 360 fits\n"
     ]
    },
    {
     "name": "stderr",
     "output_type": "stream",
     "text": [
      "[Parallel(n_jobs=7)]: Using backend LokyBackend with 7 concurrent workers.\n",
      "[Parallel(n_jobs=7)]: Done  36 tasks      | elapsed:    7.4s\n",
      "[Parallel(n_jobs=7)]: Done 186 tasks      | elapsed:   23.5s\n",
      "[Parallel(n_jobs=7)]: Done 360 out of 360 | elapsed:   47.0s finished\n",
      "C:\\Users\\stef4\\AppData\\Roaming\\Python\\Python38\\site-packages\\sklearn\\utils\\validation.py:67: FutureWarning: Pass n_neighbors=5 as keyword args. From version 0.25 passing these as positional arguments will result in an error\n",
      "  warnings.warn(\"Pass {} as keyword args. From version 0.25 \"\n"
     ]
    },
    {
     "name": "stdout",
     "output_type": "stream",
     "text": [
      "{'k': 5, 's': 0.75}\n",
      "--------------------------------------------\n",
      "Mean: -0.21225910064239828\n",
      "Standard Deviation: 0.3163006707934291\n"
     ]
    }
   ],
   "source": [
    "from skmultilearn.adapt import MLkNN\n",
    "\n",
    "parameters = {'k': (2,3,4,5,6,7,8,9,10,13,16,19),\n",
    "              's': (0.5,0.75,1)\n",
    "             }\n",
    "\n",
    "clf = MLkNN()\n",
    "\n",
    "gs_clf = GridSearchCV(clf, parameters, n_jobs=7, cv=fold_10, \n",
    "                      scoring=make_scorer(hamming_loss, greater_is_better=False), verbose=1)\n",
    "\n",
    "gs_clf.fit(profiles, target)\n",
    "best_MLKNN = gs_clf.best_estimator_\n",
    "\n",
    "print(gs_clf.best_params_)\n",
    "\n",
    "scores = cross_val_score(best_MLKNN, profiles, target,cv=loo, n_jobs=6,\n",
    "                         scoring=make_scorer(hamming_loss, greater_is_better=False))\n",
    "print('--------------------------------------------')\n",
    "print_scores(scores)"
   ]
  },
  {
   "cell_type": "markdown",
   "metadata": {},
   "source": [
    "#### BRkNNaClassifier\n",
    "Next up, Binary Relevance multi-label classifier based on k-Nearest Neighbors method. This method assigns the labels that are assigned to at least half of the neighbors:"
   ]
  },
  {
   "cell_type": "code",
   "execution_count": 21,
   "metadata": {
    "scrolled": false
   },
   "outputs": [
    {
     "name": "stdout",
     "output_type": "stream",
     "text": [
      "Fitting 20 folds for each of 59 candidates, totalling 1180 fits\n"
     ]
    },
    {
     "name": "stderr",
     "output_type": "stream",
     "text": [
      "[Parallel(n_jobs=7)]: Using backend LokyBackend with 7 concurrent workers.\n",
      "[Parallel(n_jobs=7)]: Done  74 tasks      | elapsed:    0.7s\n",
      "[Parallel(n_jobs=7)]: Done 674 tasks      | elapsed:    5.4s\n",
      "[Parallel(n_jobs=7)]: Done 1180 out of 1180 | elapsed:    9.1s finished\n",
      "C:\\Users\\stef4\\AppData\\Roaming\\Python\\Python38\\site-packages\\sklearn\\utils\\validation.py:67: FutureWarning: Pass n_neighbors=4 as keyword args. From version 0.25 passing these as positional arguments will result in an error\n",
      "  warnings.warn(\"Pass {} as keyword args. From version 0.25 \"\n"
     ]
    },
    {
     "name": "stdout",
     "output_type": "stream",
     "text": [
      "{'k': 4}\n",
      "--------------------------------------------\n",
      "Mean: -0.20248929336188437\n",
      "Standard Deviation: 0.32149968095357107\n"
     ]
    }
   ],
   "source": [
    "from skmultilearn.adapt import BRkNNaClassifier\n",
    "\n",
    "parameters = {'k': range(1,60),\n",
    "             }\n",
    "\n",
    "clf = BRkNNaClassifier()\n",
    "\n",
    "gs_clf = GridSearchCV(clf, parameters, n_jobs=7, cv=fold_20, \n",
    "                      scoring=make_scorer(hamming_loss, greater_is_better=False), verbose=1)\n",
    "\n",
    "gs_clf.fit(profiles, target)\n",
    "best_BRKNN = gs_clf.best_estimator_\n",
    "\n",
    "print(gs_clf.best_params_)\n",
    "\n",
    "scores = cross_val_score(best_BRKNN, profiles, target,cv=loo, n_jobs=7,\n",
    "                         scoring=make_scorer(hamming_loss, greater_is_better=False))\n",
    "print('--------------------------------------------')\n",
    "print_scores(scores)"
   ]
  },
  {
   "cell_type": "markdown",
   "metadata": {},
   "source": [
    "#### BRkNNbClassifier\n",
    "\n",
    "Again,Binary Relevance multi-label classifier based on k-Nearest Neighbors method. However, this version assigns the most popular m labels of the neighbors, where m is the average number of labels assigned to the object’s neighbors:"
   ]
  },
  {
   "cell_type": "code",
   "execution_count": 16,
   "metadata": {},
   "outputs": [
    {
     "name": "stdout",
     "output_type": "stream",
     "text": [
      "Fitting 20 folds for each of 249 candidates, totalling 4980 fits\n"
     ]
    },
    {
     "name": "stderr",
     "output_type": "stream",
     "text": [
      "[Parallel(n_jobs=7)]: Using backend LokyBackend with 7 concurrent workers.\n",
      "[Parallel(n_jobs=7)]: Done  36 tasks      | elapsed:    2.1s\n",
      "[Parallel(n_jobs=7)]: Done 590 tasks      | elapsed:    6.6s\n",
      "[Parallel(n_jobs=7)]: Done 1590 tasks      | elapsed:   15.2s\n",
      "[Parallel(n_jobs=7)]: Done 2990 tasks      | elapsed:   27.5s\n",
      "[Parallel(n_jobs=7)]: Done 4790 tasks      | elapsed:   45.9s\n",
      "[Parallel(n_jobs=7)]: Done 4980 out of 4980 | elapsed:   47.7s finished\n",
      "C:\\Users\\stef4\\AppData\\Roaming\\Python\\Python38\\site-packages\\sklearn\\utils\\validation.py:67: FutureWarning: Pass n_neighbors=39 as keyword args. From version 0.25 passing these as positional arguments will result in an error\n",
      "  warnings.warn(\"Pass {} as keyword args. From version 0.25 \"\n"
     ]
    },
    {
     "name": "stdout",
     "output_type": "stream",
     "text": [
      "{'k': 39}\n",
      "--------------------------------------------\n",
      "Mean: -0.32354122055674517\n",
      "Standard Deviation: 0.20829391646160197\n"
     ]
    }
   ],
   "source": [
    "from skmultilearn.adapt import BRkNNbClassifier\n",
    "\n",
    "parameters = {'k': range(1,250),\n",
    "             }\n",
    "\n",
    "clf = BRkNNbClassifier()\n",
    "\n",
    "gs_clf = GridSearchCV(clf, parameters, n_jobs=7, cv=fold_20, \n",
    "                      scoring=make_scorer(hamming_loss, greater_is_better=False), verbose=1)\n",
    "\n",
    "gs_clf.fit(profiles, target)\n",
    "best_BRKNN = gs_clf.best_estimator_\n",
    "\n",
    "print(gs_clf.best_params_)\n",
    "\n",
    "scores = cross_val_score(best_BRKNN, profiles, target,cv=loo, n_jobs=7,\n",
    "                         scoring=make_scorer(hamming_loss, greater_is_better=False))\n",
    "print('--------------------------------------------')\n",
    "print_scores(scores)"
   ]
  },
  {
   "cell_type": "markdown",
   "metadata": {},
   "source": [
    "#### MLARAM\n",
    "Hierarchical ARAM Neural Network for Large-Scale Text Classification\n",
    "\n",
    "This method aims at increasing the classification speed by adding an extra ART layer for clustering learned prototypes into large clusters. In this case the activation of all prototypes can be replaced by the activation of a small fraction of them, leading to a significant reduction of the classification time:"
   ]
  },
  {
   "cell_type": "code",
   "execution_count": 18,
   "metadata": {
    "scrolled": true
   },
   "outputs": [
    {
     "name": "stdout",
     "output_type": "stream",
     "text": [
      "Fitting 10 folds for each of 30 candidates, totalling 300 fits\n"
     ]
    },
    {
     "name": "stderr",
     "output_type": "stream",
     "text": [
      "[Parallel(n_jobs=7)]: Using backend LokyBackend with 7 concurrent workers.\n",
      "[Parallel(n_jobs=7)]: Done  36 tasks      | elapsed:    6.9s\n",
      "[Parallel(n_jobs=7)]: Done 186 tasks      | elapsed:   31.8s\n",
      "[Parallel(n_jobs=7)]: Done 300 out of 300 | elapsed:   51.8s finished\n"
     ]
    },
    {
     "name": "stdout",
     "output_type": "stream",
     "text": [
      "{'threshold': 0.04, 'vigilance': 1}\n",
      "--------------------------------------------\n",
      "Mean: -0.2516729122055675\n",
      "Standard Deviation: 0.31688789624164043\n"
     ]
    }
   ],
   "source": [
    "from skmultilearn.adapt import MLARAM\n",
    "from scipy.sparse import lil_matrix\n",
    "\n",
    "profiles_ARAM = lil_matrix(profiles).toarray() #transform data with lil_matrix to avoid error\n",
    "\n",
    "parameters = {'vigilance': (0.9,0.95,1,1.05,1.1),\n",
    "              'threshold': (0.02,0.03,0.035,0.04,0.045,0.05),\n",
    "              #'neurons': (),\n",
    "             }\n",
    "\n",
    "clf = MLARAM()\n",
    "\n",
    "gs_clf = GridSearchCV(clf, parameters, n_jobs=7, cv=fold_10, \n",
    "                      scoring=make_scorer(hamming_loss, greater_is_better=False), verbose=1)\n",
    "\n",
    "gs_clf.fit(profiles_ARAM, target)\n",
    "best_MLARAM = gs_clf.best_estimator_\n",
    "\n",
    "print(gs_clf.best_params_)\n",
    "\n",
    "scores = cross_val_score(best_MLARAM, profiles_ARAM, target,cv=loo, n_jobs=7,\n",
    "                         scoring=make_scorer(hamming_loss, greater_is_better=False))\n",
    "print('--------------------------------------------')\n",
    "print_scores(scores)"
   ]
  },
  {
   "cell_type": "markdown",
   "metadata": {},
   "source": [
    "#### MLTSVM\n",
    "Now we will try twin multi-Label Support Vector Machines:"
   ]
  },
  {
   "cell_type": "code",
   "execution_count": 26,
   "metadata": {
    "scrolled": true
   },
   "outputs": [
    {
     "name": "stdout",
     "output_type": "stream",
     "text": [
      "Fitting 10 folds for each of 324 candidates, totalling 3240 fits\n"
     ]
    },
    {
     "name": "stderr",
     "output_type": "stream",
     "text": [
      "[Parallel(n_jobs=6)]: Using backend LokyBackend with 6 concurrent workers.\n",
      "[Parallel(n_jobs=6)]: Done  38 tasks      | elapsed:  3.5min\n",
      "[Parallel(n_jobs=6)]: Done 188 tasks      | elapsed: 19.4min\n",
      "[Parallel(n_jobs=6)]: Done 438 tasks      | elapsed: 45.6min\n",
      "[Parallel(n_jobs=6)]: Done 788 tasks      | elapsed: 82.4min\n",
      "[Parallel(n_jobs=6)]: Done 1238 tasks      | elapsed: 100.5min\n",
      "[Parallel(n_jobs=6)]: Done 1788 tasks      | elapsed: 121.8min\n",
      "[Parallel(n_jobs=6)]: Done 2438 tasks      | elapsed: 148.4min\n",
      "[Parallel(n_jobs=6)]: Done 3188 tasks      | elapsed: 180.4min\n",
      "[Parallel(n_jobs=6)]: Done 3240 out of 3240 | elapsed: 182.6min finished\n"
     ]
    },
    {
     "name": "stdout",
     "output_type": "stream",
     "text": [
      "{'c_k': 9, 'lambda_param': 0.75, 'max_iteration': 400, 'sor_omega': 1.25, 'threshold': 1e-05}\n",
      "--------------------------------------------\n",
      "Mean: -0.19974571734475374\n",
      "Standard Deviation: 0.26953849319251966\n"
     ]
    }
   ],
   "source": [
    "from skmultilearn.adapt import MLTSVM\n",
    "from scipy.sparse import csr_matrix\n",
    "\n",
    "profiles_MLTSVM = csr_matrix(profiles) #transform data with csr_matrix to avoid error\n",
    "\n",
    "parameters = {'c_k': (0,3,5,7,9),\n",
    "              'sor_omega': (0.75,1,1.25),\n",
    "              'threshold': (1e-5,1e-6, 1e-7),\n",
    "              'lambda_param': (0.75,1,1.25),\n",
    "              'max_iteration': (400,500,600),\n",
    "             }\n",
    "\n",
    "clf = MLTSVM()\n",
    "\n",
    "gs_clf = GridSearchCV(clf, parameters, n_jobs=6, cv=fold_10, \n",
    "                      scoring=make_scorer(hamming_loss, greater_is_better=False), verbose=1)\n",
    "\n",
    "gs_clf.fit(profiles_MLTSVM, target)\n",
    "best_MLTSVM = gs_clf.best_estimator_\n",
    "\n",
    "print(gs_clf.best_params_)\n",
    "\n",
    "scores = cross_val_score(best_MLTSVM, profiles_MLTSVM, target, cv=loo, n_jobs=6,\n",
    "                         scoring=make_scorer(hamming_loss, greater_is_better=False))\n",
    "print('--------------------------------------------')\n",
    "print_scores(scores)"
   ]
  },
  {
   "cell_type": "markdown",
   "metadata": {},
   "source": [
    "### Classifiers\n",
    "#### Decision Trees\n",
    "We can use decision trees for multilabel classification"
   ]
  },
  {
   "cell_type": "code",
   "execution_count": 29,
   "metadata": {},
   "outputs": [
    {
     "name": "stdout",
     "output_type": "stream",
     "text": [
      "Fitting 10 folds for each of 1296 candidates, totalling 12960 fits\n"
     ]
    },
    {
     "name": "stderr",
     "output_type": "stream",
     "text": [
      "[Parallel(n_jobs=7)]: Using backend LokyBackend with 7 concurrent workers.\n",
      "[Parallel(n_jobs=7)]: Done  36 tasks      | elapsed:    2.9s\n",
      "[Parallel(n_jobs=7)]: Done 1054 tasks      | elapsed:    6.9s\n",
      "[Parallel(n_jobs=7)]: Done 3054 tasks      | elapsed:   17.8s\n",
      "[Parallel(n_jobs=7)]: Done 5716 tasks      | elapsed:   33.9s\n",
      "[Parallel(n_jobs=7)]: Done 9020 tasks      | elapsed:   54.8s\n",
      "[Parallel(n_jobs=7)]: Done 12909 tasks      | elapsed:  1.3min\n",
      "[Parallel(n_jobs=7)]: Done 12960 out of 12960 | elapsed:  1.3min finished\n"
     ]
    },
    {
     "name": "stdout",
     "output_type": "stream",
     "text": [
      "{'ccp_alpha': 0, 'class_weight': None, 'criterion': 'entropy', 'max_depth': None, 'max_features': None, 'min_impurity_decrease': 0, 'min_samples_leaf': 3, 'splitter': 'best'}\n",
      "--------------------------------------------\n",
      "Mean: -0.07400963597430407\n",
      "Standard Deviation: 0.1537245789059923\n"
     ]
    }
   ],
   "source": [
    "parameters = {'criterion': ('gini','entropy'),\n",
    "              'splitter': ('best', 'random'),\n",
    "              'max_features':('sqrt',None,'log2'),\n",
    "              'class_weight':(None,'balanced'),\n",
    "              'max_depth':(None,20,50),\n",
    "              'min_samples_leaf':(1,3),\n",
    "              'ccp_alpha':(0,0.15, 0.3),\n",
    "              'min_impurity_decrease':(0, 0.15, 0.3)\n",
    "             }\n",
    "\n",
    "clf = DecisionTreeClassifier(random_state=7)\n",
    "\n",
    "gs_clf = GridSearchCV(clf, parameters, n_jobs=7, cv=fold_10, \n",
    "                      scoring=make_scorer(hamming_loss, greater_is_better=False), verbose=1)\n",
    "\n",
    "gs_clf.fit(profiles, target)\n",
    "\n",
    "print(gs_clf.best_params_)\n",
    "\n",
    "best_tree = gs_clf.best_estimator_\n",
    "\n",
    "scores = cross_val_score(best_tree, profiles, target,cv=loo, n_jobs=7,\n",
    "                         scoring=make_scorer(hamming_loss, greater_is_better=False))\n",
    "print('--------------------------------------------')\n",
    "print_scores(scores)"
   ]
  },
  {
   "cell_type": "markdown",
   "metadata": {},
   "source": [
    "### Ensemble Approach\n",
    "Now lets try ensemble approaches\n",
    "#### Random Forest"
   ]
  },
  {
   "cell_type": "code",
   "execution_count": 30,
   "metadata": {},
   "outputs": [
    {
     "name": "stdout",
     "output_type": "stream",
     "text": [
      "Fitting 10 folds for each of 512 candidates, totalling 5120 fits\n"
     ]
    },
    {
     "name": "stderr",
     "output_type": "stream",
     "text": [
      "[Parallel(n_jobs=7)]: Using backend LokyBackend with 7 concurrent workers.\n",
      "[Parallel(n_jobs=7)]: Done  36 tasks      | elapsed:   10.1s\n",
      "[Parallel(n_jobs=7)]: Done 186 tasks      | elapsed:   51.7s\n",
      "[Parallel(n_jobs=7)]: Done 436 tasks      | elapsed:  1.9min\n",
      "[Parallel(n_jobs=7)]: Done 786 tasks      | elapsed:  9.4min\n",
      "[Parallel(n_jobs=7)]: Done 1236 tasks      | elapsed: 22.9min\n",
      "[Parallel(n_jobs=7)]: Done 1786 tasks      | elapsed: 29.9min\n",
      "[Parallel(n_jobs=7)]: Done 2436 tasks      | elapsed: 44.8min\n",
      "[Parallel(n_jobs=7)]: Done 3249 tasks      | elapsed: 72.3min\n",
      "[Parallel(n_jobs=7)]: Done 4099 tasks      | elapsed: 87.7min\n",
      "[Parallel(n_jobs=7)]: Done 5077 tasks      | elapsed: 111.1min\n",
      "[Parallel(n_jobs=7)]: Done 5120 out of 5120 | elapsed: 119.8min finished\n"
     ]
    },
    {
     "name": "stdout",
     "output_type": "stream",
     "text": [
      "{'bootstrap': True, 'class_weight': None, 'criterion': 'entropy', 'max_features': None, 'n_estimators': 100, 'oob_score': True, 'warm_start': True}\n",
      "--------------------------------------------\n",
      "Mean: -0.05065578158458244\n",
      "Standard Deviation: 0.12146116828102768\n"
     ]
    }
   ],
   "source": [
    "parameters = {'criterion': ('gini','entropy'),\n",
    "              'n_estimators': (100, 150, 175, 200),\n",
    "              'bootstrap':(True,False),\n",
    "              'oob_score':(True,False),\n",
    "              'class_weight':('balanced_subsample','balanced',None),\n",
    "              'max_features':('auto','sqrt','log2',None),\n",
    "              'warm_start':(True,False),\n",
    "              'class_weight':(None,'balanced')\n",
    "             }\n",
    "\n",
    "clf = RandomForestClassifier(random_state=7)\n",
    "\n",
    "gs_clf = GridSearchCV(clf, parameters, n_jobs=7, cv=fold_10, \n",
    "                      scoring=make_scorer(hamming_loss, greater_is_better=False), verbose=1)\n",
    "\n",
    "gs_clf.fit(profiles, target)\n",
    "\n",
    "print(gs_clf.best_params_)\n",
    "\n",
    "best_forest = gs_clf.best_estimator_\n",
    "\n",
    "scores = cross_val_score(best_forest, profiles, target,cv=loo, n_jobs=7,\n",
    "                         scoring=make_scorer(hamming_loss, greater_is_better=False))\n",
    "print('--------------------------------------------')\n",
    "print_scores(scores)"
   ]
  },
  {
   "cell_type": "markdown",
   "metadata": {},
   "source": [
    "#### Extra Trees"
   ]
  },
  {
   "cell_type": "code",
   "execution_count": 31,
   "metadata": {
    "scrolled": true
   },
   "outputs": [
    {
     "name": "stdout",
     "output_type": "stream",
     "text": [
      "Fitting 10 folds for each of 768 candidates, totalling 7680 fits\n"
     ]
    },
    {
     "name": "stderr",
     "output_type": "stream",
     "text": [
      "[Parallel(n_jobs=7)]: Using backend LokyBackend with 7 concurrent workers.\n",
      "[Parallel(n_jobs=7)]: Done  36 tasks      | elapsed:    1.8s\n",
      "[Parallel(n_jobs=7)]: Done 186 tasks      | elapsed:   17.8s\n",
      "[Parallel(n_jobs=7)]: Done 436 tasks      | elapsed:  1.1min\n",
      "[Parallel(n_jobs=7)]: Done 786 tasks      | elapsed:  1.8min\n",
      "[Parallel(n_jobs=7)]: Done 1236 tasks      | elapsed:  2.9min\n",
      "[Parallel(n_jobs=7)]: Done 1786 tasks      | elapsed:  4.6min\n",
      "[Parallel(n_jobs=7)]: Done 2436 tasks      | elapsed:  6.2min\n",
      "[Parallel(n_jobs=7)]: Done 3186 tasks      | elapsed:  8.5min\n",
      "[Parallel(n_jobs=7)]: Done 4176 tasks      | elapsed: 10.8min\n",
      "[Parallel(n_jobs=7)]: Done 5588 tasks      | elapsed: 12.9min\n",
      "[Parallel(n_jobs=7)]: Done 7009 tasks      | elapsed: 15.4min\n",
      "[Parallel(n_jobs=7)]: Done 7680 out of 7680 | elapsed: 16.6min finished\n"
     ]
    },
    {
     "name": "stdout",
     "output_type": "stream",
     "text": [
      "{'bootstrap': False, 'class_weight': None, 'criterion': 'entropy', 'max_depth': None, 'max_features': None, 'n_estimators': 125, 'oob_score': False, 'warm_start': True}\n",
      "--------------------------------------------\n",
      "Mean: -0.046707708779443254\n",
      "Standard Deviation: 0.11198221889911047\n"
     ]
    }
   ],
   "source": [
    "parameters = {'criterion': ('gini','entropy'),\n",
    "              'n_estimators': (50,75,100,125),\n",
    "              'bootstrap':(True,False),\n",
    "              'oob_score':(True,False),\n",
    "              'max_features':('sqrt',None,'log2'),\n",
    "              'warm_start':(True,False),\n",
    "              'class_weight':(None,'balanced'),\n",
    "              'max_depth':(None,10)\n",
    "             }\n",
    "\n",
    "clf = ExtraTreesClassifier(random_state=7)\n",
    "\n",
    "gs_clf = GridSearchCV(clf, parameters, n_jobs=7, cv=fold_10, \n",
    "                      scoring=make_scorer(hamming_loss, greater_is_better=False), verbose=1)\n",
    "\n",
    "gs_clf.fit(profiles, target)\n",
    "\n",
    "print(gs_clf.best_params_)\n",
    "\n",
    "best_extra = gs_clf.best_estimator_\n",
    "\n",
    "scores = cross_val_score(best_extra, profiles, target,cv=loo, n_jobs=7,\n",
    "                         scoring=make_scorer(hamming_loss, greater_is_better=False))\n",
    "print('--------------------------------------------')\n",
    "print_scores(scores)"
   ]
  },
  {
   "cell_type": "markdown",
   "metadata": {},
   "source": [
    "Using `gp_minimize` to find the optimal number of n_estimators:"
   ]
  },
  {
   "cell_type": "code",
   "execution_count": 18,
   "metadata": {},
   "outputs": [],
   "source": [
    "from skopt.space import Real, Integer, Categorical\n",
    "from skopt.utils import use_named_args\n",
    "from skopt import gp_minimize"
   ]
  },
  {
   "cell_type": "code",
   "execution_count": 21,
   "metadata": {},
   "outputs": [],
   "source": [
    "n_features =profiles.shape[1] #number of columns\n",
    "extra_trees = ExtraTreesClassifier(random_state=7, bootstrap=False,class_weight= None,\n",
    "                                                  max_depth=None, max_features=None, oob_score=False,\n",
    "                                                  warm_start=True, criterion='entropy')\n",
    "\n",
    "# The list of hyper-parameters we want to optimize\n",
    "space  = [Integer(90, 170, name='n_estimators'),\n",
    "         ]\n",
    "\n",
    "# this decorator allows your objective function to receive a the parameters as\n",
    "# keyword arguments. This is particularly convenient when you want to set\n",
    "# scikit-learn estimator parameters\n",
    "@use_named_args(space)\n",
    "def objective(**params):\n",
    "    extra_trees.set_params(**params)\n",
    "    \n",
    "    return np.mean(cross_val_score(extra_trees, profiles, target, cv=fold_50, n_jobs=7,\n",
    "                         scoring=make_scorer(hamming_loss, greater_is_better=False)))"
   ]
  },
  {
   "cell_type": "code",
   "execution_count": 22,
   "metadata": {
    "scrolled": true
   },
   "outputs": [
    {
     "name": "stdout",
     "output_type": "stream",
     "text": [
      "Iteration No: 1 started. Evaluating function at random point.\n",
      "Iteration No: 1 ended. Evaluation done at random point.\n",
      "Time taken: 56.4638\n",
      "Function value obtained: -0.0485\n",
      "Current minimum: -0.0485\n",
      "Iteration No: 2 started. Evaluating function at random point.\n",
      "Iteration No: 2 ended. Evaluation done at random point.\n",
      "Time taken: 58.2788\n",
      "Function value obtained: -0.0485\n",
      "Current minimum: -0.0485\n",
      "Iteration No: 3 started. Evaluating function at random point.\n",
      "Iteration No: 3 ended. Evaluation done at random point.\n",
      "Time taken: 34.7433\n",
      "Function value obtained: -0.0483\n",
      "Current minimum: -0.0485\n",
      "Iteration No: 4 started. Evaluating function at random point.\n",
      "Iteration No: 4 ended. Evaluation done at random point.\n",
      "Time taken: 55.2621\n",
      "Function value obtained: -0.0485\n",
      "Current minimum: -0.0485\n",
      "Iteration No: 5 started. Evaluating function at random point.\n",
      "Iteration No: 5 ended. Evaluation done at random point.\n",
      "Time taken: 35.4731\n",
      "Function value obtained: -0.0474\n",
      "Current minimum: -0.0485\n",
      "Iteration No: 6 started. Evaluating function at random point.\n",
      "Iteration No: 6 ended. Evaluation done at random point.\n",
      "Time taken: 39.6224\n",
      "Function value obtained: -0.0477\n",
      "Current minimum: -0.0485\n",
      "Iteration No: 7 started. Evaluating function at random point.\n",
      "Iteration No: 7 ended. Evaluation done at random point.\n",
      "Time taken: 39.3817\n",
      "Function value obtained: -0.0479\n",
      "Current minimum: -0.0485\n",
      "Iteration No: 8 started. Evaluating function at random point.\n",
      "Iteration No: 8 ended. Evaluation done at random point.\n",
      "Time taken: 46.6255\n",
      "Function value obtained: -0.0476\n",
      "Current minimum: -0.0485\n",
      "Iteration No: 9 started. Evaluating function at random point.\n",
      "Iteration No: 9 ended. Evaluation done at random point.\n",
      "Time taken: 53.7811\n",
      "Function value obtained: -0.0485\n",
      "Current minimum: -0.0485\n",
      "Iteration No: 10 started. Evaluating function at random point.\n",
      "Iteration No: 10 ended. Evaluation done at random point.\n",
      "Time taken: 51.7997\n",
      "Function value obtained: -0.0482\n",
      "Current minimum: -0.0485\n",
      "Iteration No: 11 started. Searching for the next optimal point.\n",
      "Iteration No: 11 ended. Search finished for the next optimal point.\n",
      "Time taken: 29.7964\n",
      "Function value obtained: -0.0487\n",
      "Current minimum: -0.0487\n",
      "Iteration No: 12 started. Searching for the next optimal point.\n",
      "Iteration No: 12 ended. Search finished for the next optimal point.\n",
      "Time taken: 42.8980\n",
      "Function value obtained: -0.0476\n",
      "Current minimum: -0.0487\n",
      "Iteration No: 13 started. Searching for the next optimal point.\n",
      "Iteration No: 13 ended. Search finished for the next optimal point.\n",
      "Time taken: 32.2512\n",
      "Function value obtained: -0.0483\n",
      "Current minimum: -0.0487\n",
      "Iteration No: 14 started. Searching for the next optimal point.\n",
      "Iteration No: 14 ended. Search finished for the next optimal point.\n",
      "Time taken: 49.6280\n",
      "Function value obtained: -0.0476\n",
      "Current minimum: -0.0487\n",
      "Iteration No: 15 started. Searching for the next optimal point.\n",
      "Iteration No: 15 ended. Search finished for the next optimal point.\n",
      "Time taken: 38.5038\n",
      "Function value obtained: -0.0473\n",
      "Current minimum: -0.0487\n",
      "Iteration No: 16 started. Searching for the next optimal point.\n",
      "Iteration No: 16 ended. Search finished for the next optimal point.\n",
      "Time taken: 42.2539\n",
      "Function value obtained: -0.0481\n",
      "Current minimum: -0.0487\n",
      "Iteration No: 17 started. Searching for the next optimal point.\n",
      "Iteration No: 17 ended. Search finished for the next optimal point.\n",
      "Time taken: 54.5462\n",
      "Function value obtained: -0.0485\n",
      "Current minimum: -0.0487\n",
      "Iteration No: 18 started. Searching for the next optimal point.\n",
      "Iteration No: 18 ended. Search finished for the next optimal point.\n",
      "Time taken: 46.1333\n",
      "Function value obtained: -0.0476\n",
      "Current minimum: -0.0487\n",
      "Iteration No: 19 started. Searching for the next optimal point.\n",
      "Iteration No: 19 ended. Search finished for the next optimal point.\n",
      "Time taken: 54.8896\n",
      "Function value obtained: -0.0486\n",
      "Current minimum: -0.0487\n",
      "Iteration No: 20 started. Searching for the next optimal point.\n",
      "Iteration No: 20 ended. Search finished for the next optimal point.\n",
      "Time taken: 34.3408\n",
      "Function value obtained: -0.0479\n",
      "Current minimum: -0.0487\n",
      "Iteration No: 21 started. Searching for the next optimal point.\n",
      "Iteration No: 21 ended. Search finished for the next optimal point.\n",
      "Time taken: 43.8416\n",
      "Function value obtained: -0.0479\n",
      "Current minimum: -0.0487\n",
      "Iteration No: 22 started. Searching for the next optimal point.\n",
      "Iteration No: 22 ended. Search finished for the next optimal point.\n",
      "Time taken: 52.6572\n",
      "Function value obtained: -0.0485\n",
      "Current minimum: -0.0487\n",
      "Iteration No: 23 started. Searching for the next optimal point.\n",
      "Iteration No: 23 ended. Search finished for the next optimal point.\n",
      "Time taken: 29.4740\n",
      "Function value obtained: -0.0483\n",
      "Current minimum: -0.0487\n",
      "Iteration No: 24 started. Searching for the next optimal point.\n",
      "Iteration No: 24 ended. Search finished for the next optimal point.\n",
      "Time taken: 30.7679\n",
      "Function value obtained: -0.0483\n",
      "Current minimum: -0.0487\n",
      "Iteration No: 25 started. Searching for the next optimal point.\n",
      "Iteration No: 25 ended. Search finished for the next optimal point.\n",
      "Time taken: 52.6996\n",
      "Function value obtained: -0.0483\n",
      "Current minimum: -0.0487\n",
      "Iteration No: 26 started. Searching for the next optimal point.\n"
     ]
    },
    {
     "name": "stderr",
     "output_type": "stream",
     "text": [
      "C:\\Users\\stef4\\anaconda3\\lib\\site-packages\\skopt\\optimizer\\optimizer.py:449: UserWarning: The objective has been evaluated at this point before.\n",
      "  warnings.warn(\"The objective has been evaluated \"\n"
     ]
    },
    {
     "name": "stdout",
     "output_type": "stream",
     "text": [
      "Iteration No: 26 ended. Search finished for the next optimal point.\n",
      "Time taken: 55.0763\n",
      "Function value obtained: -0.0485\n",
      "Current minimum: -0.0487\n",
      "Iteration No: 27 started. Searching for the next optimal point.\n",
      "Iteration No: 27 ended. Search finished for the next optimal point.\n",
      "Time taken: 50.3872\n",
      "Function value obtained: -0.0480\n",
      "Current minimum: -0.0487\n",
      "Iteration No: 28 started. Searching for the next optimal point.\n",
      "Iteration No: 28 ended. Search finished for the next optimal point.\n",
      "Time taken: 39.9832\n",
      "Function value obtained: -0.0481\n",
      "Current minimum: -0.0487\n",
      "Iteration No: 29 started. Searching for the next optimal point.\n",
      "Iteration No: 29 ended. Search finished for the next optimal point.\n",
      "Time taken: 46.7359\n",
      "Function value obtained: -0.0481\n",
      "Current minimum: -0.0487\n",
      "Iteration No: 30 started. Searching for the next optimal point.\n",
      "Iteration No: 30 ended. Search finished for the next optimal point.\n",
      "Time taken: 37.1451\n",
      "Function value obtained: -0.0477\n",
      "Current minimum: -0.0487\n",
      "Iteration No: 31 started. Searching for the next optimal point.\n",
      "Iteration No: 31 ended. Search finished for the next optimal point.\n",
      "Time taken: 35.1660\n",
      "Function value obtained: -0.0477\n",
      "Current minimum: -0.0487\n",
      "Iteration No: 32 started. Searching for the next optimal point.\n",
      "Iteration No: 32 ended. Search finished for the next optimal point.\n",
      "Time taken: 43.2353\n",
      "Function value obtained: -0.0477\n",
      "Current minimum: -0.0487\n",
      "Iteration No: 33 started. Searching for the next optimal point.\n",
      "Iteration No: 33 ended. Search finished for the next optimal point.\n",
      "Time taken: 50.5687\n",
      "Function value obtained: -0.0485\n",
      "Current minimum: -0.0487\n",
      "Iteration No: 34 started. Searching for the next optimal point.\n",
      "Iteration No: 34 ended. Search finished for the next optimal point.\n",
      "Time taken: 53.7468\n",
      "Function value obtained: -0.0484\n",
      "Current minimum: -0.0487\n",
      "Iteration No: 35 started. Searching for the next optimal point.\n",
      "Iteration No: 35 ended. Search finished for the next optimal point.\n",
      "Time taken: 52.7260\n",
      "Function value obtained: -0.0488\n",
      "Current minimum: -0.0488\n",
      "Iteration No: 36 started. Searching for the next optimal point.\n",
      "Iteration No: 36 ended. Search finished for the next optimal point.\n",
      "Time taken: 33.3539\n",
      "Function value obtained: -0.0473\n",
      "Current minimum: -0.0488\n",
      "Iteration No: 37 started. Searching for the next optimal point.\n",
      "Iteration No: 37 ended. Search finished for the next optimal point.\n",
      "Time taken: 53.5026\n",
      "Function value obtained: -0.0485\n",
      "Current minimum: -0.0488\n",
      "Iteration No: 38 started. Searching for the next optimal point.\n",
      "Iteration No: 38 ended. Search finished for the next optimal point.\n",
      "Time taken: 45.2729\n",
      "Function value obtained: -0.0477\n",
      "Current minimum: -0.0488\n",
      "Iteration No: 39 started. Searching for the next optimal point.\n",
      "Iteration No: 39 ended. Search finished for the next optimal point.\n",
      "Time taken: 33.8408\n",
      "Function value obtained: -0.0481\n",
      "Current minimum: -0.0488\n",
      "Iteration No: 40 started. Searching for the next optimal point.\n",
      "Iteration No: 40 ended. Search finished for the next optimal point.\n",
      "Time taken: 50.1070\n",
      "Function value obtained: -0.0477\n",
      "Current minimum: -0.0488\n",
      "Iteration No: 41 started. Searching for the next optimal point.\n",
      "Iteration No: 41 ended. Search finished for the next optimal point.\n",
      "Time taken: 50.2991\n",
      "Function value obtained: -0.0481\n",
      "Current minimum: -0.0488\n",
      "Iteration No: 42 started. Searching for the next optimal point.\n",
      "Iteration No: 42 ended. Search finished for the next optimal point.\n",
      "Time taken: 40.6985\n",
      "Function value obtained: -0.0479\n",
      "Current minimum: -0.0488\n",
      "Iteration No: 43 started. Searching for the next optimal point.\n",
      "Iteration No: 43 ended. Search finished for the next optimal point.\n",
      "Time taken: 45.2454\n",
      "Function value obtained: -0.0478\n",
      "Current minimum: -0.0488\n",
      "Iteration No: 44 started. Searching for the next optimal point.\n"
     ]
    },
    {
     "name": "stderr",
     "output_type": "stream",
     "text": [
      "C:\\Users\\stef4\\anaconda3\\lib\\site-packages\\skopt\\optimizer\\optimizer.py:449: UserWarning: The objective has been evaluated at this point before.\n",
      "  warnings.warn(\"The objective has been evaluated \"\n"
     ]
    },
    {
     "name": "stdout",
     "output_type": "stream",
     "text": [
      "Iteration No: 44 ended. Search finished for the next optimal point.\n",
      "Time taken: 54.9866\n",
      "Function value obtained: -0.0488\n",
      "Current minimum: -0.0488\n",
      "Iteration No: 45 started. Searching for the next optimal point.\n"
     ]
    },
    {
     "name": "stderr",
     "output_type": "stream",
     "text": [
      "C:\\Users\\stef4\\anaconda3\\lib\\site-packages\\skopt\\optimizer\\optimizer.py:449: UserWarning: The objective has been evaluated at this point before.\n",
      "  warnings.warn(\"The objective has been evaluated \"\n"
     ]
    },
    {
     "name": "stdout",
     "output_type": "stream",
     "text": [
      "Iteration No: 45 ended. Search finished for the next optimal point.\n",
      "Time taken: 48.9406\n",
      "Function value obtained: -0.0481\n",
      "Current minimum: -0.0488\n",
      "Iteration No: 46 started. Searching for the next optimal point.\n",
      "Iteration No: 46 ended. Search finished for the next optimal point.\n",
      "Time taken: 36.1167\n",
      "Function value obtained: -0.0474\n",
      "Current minimum: -0.0488\n",
      "Iteration No: 47 started. Searching for the next optimal point.\n"
     ]
    },
    {
     "name": "stderr",
     "output_type": "stream",
     "text": [
      "C:\\Users\\stef4\\anaconda3\\lib\\site-packages\\skopt\\optimizer\\optimizer.py:449: UserWarning: The objective has been evaluated at this point before.\n",
      "  warnings.warn(\"The objective has been evaluated \"\n"
     ]
    },
    {
     "name": "stdout",
     "output_type": "stream",
     "text": [
      "Iteration No: 47 ended. Search finished for the next optimal point.\n",
      "Time taken: 49.5047\n",
      "Function value obtained: -0.0481\n",
      "Current minimum: -0.0488\n",
      "Iteration No: 48 started. Searching for the next optimal point.\n"
     ]
    },
    {
     "name": "stderr",
     "output_type": "stream",
     "text": [
      "C:\\Users\\stef4\\anaconda3\\lib\\site-packages\\skopt\\optimizer\\optimizer.py:449: UserWarning: The objective has been evaluated at this point before.\n",
      "  warnings.warn(\"The objective has been evaluated \"\n"
     ]
    },
    {
     "name": "stdout",
     "output_type": "stream",
     "text": [
      "Iteration No: 48 ended. Search finished for the next optimal point.\n",
      "Time taken: 54.0686\n",
      "Function value obtained: -0.0488\n",
      "Current minimum: -0.0488\n",
      "Iteration No: 49 started. Searching for the next optimal point.\n"
     ]
    },
    {
     "name": "stderr",
     "output_type": "stream",
     "text": [
      "C:\\Users\\stef4\\anaconda3\\lib\\site-packages\\skopt\\optimizer\\optimizer.py:449: UserWarning: The objective has been evaluated at this point before.\n",
      "  warnings.warn(\"The objective has been evaluated \"\n"
     ]
    },
    {
     "name": "stdout",
     "output_type": "stream",
     "text": [
      "Iteration No: 49 ended. Search finished for the next optimal point.\n",
      "Time taken: 53.0306\n",
      "Function value obtained: -0.0482\n",
      "Current minimum: -0.0488\n",
      "Iteration No: 50 started. Searching for the next optimal point.\n"
     ]
    },
    {
     "name": "stderr",
     "output_type": "stream",
     "text": [
      "C:\\Users\\stef4\\anaconda3\\lib\\site-packages\\skopt\\optimizer\\optimizer.py:449: UserWarning: The objective has been evaluated at this point before.\n",
      "  warnings.warn(\"The objective has been evaluated \"\n"
     ]
    },
    {
     "name": "stdout",
     "output_type": "stream",
     "text": [
      "Iteration No: 50 ended. Search finished for the next optimal point.\n",
      "Time taken: 47.2961\n",
      "Function value obtained: -0.0476\n",
      "Current minimum: -0.0488\n",
      "Iteration No: 51 started. Searching for the next optimal point.\n",
      "Iteration No: 51 ended. Search finished for the next optimal point.\n",
      "Time taken: 41.8312\n",
      "Function value obtained: -0.0477\n",
      "Current minimum: -0.0488\n",
      "Iteration No: 52 started. Searching for the next optimal point.\n",
      "Iteration No: 52 ended. Search finished for the next optimal point.\n",
      "Time taken: 51.3622\n",
      "Function value obtained: -0.0483\n",
      "Current minimum: -0.0488\n",
      "Iteration No: 53 started. Searching for the next optimal point.\n"
     ]
    },
    {
     "name": "stderr",
     "output_type": "stream",
     "text": [
      "C:\\Users\\stef4\\anaconda3\\lib\\site-packages\\skopt\\optimizer\\optimizer.py:449: UserWarning: The objective has been evaluated at this point before.\n",
      "  warnings.warn(\"The objective has been evaluated \"\n"
     ]
    },
    {
     "name": "stdout",
     "output_type": "stream",
     "text": [
      "Iteration No: 53 ended. Search finished for the next optimal point.\n",
      "Time taken: 33.5473\n",
      "Function value obtained: -0.0474\n",
      "Current minimum: -0.0488\n",
      "Iteration No: 54 started. Searching for the next optimal point.\n"
     ]
    },
    {
     "name": "stderr",
     "output_type": "stream",
     "text": [
      "C:\\Users\\stef4\\anaconda3\\lib\\site-packages\\skopt\\optimizer\\optimizer.py:449: UserWarning: The objective has been evaluated at this point before.\n",
      "  warnings.warn(\"The objective has been evaluated \"\n"
     ]
    },
    {
     "name": "stdout",
     "output_type": "stream",
     "text": [
      "Iteration No: 54 ended. Search finished for the next optimal point.\n",
      "Time taken: 51.9437\n",
      "Function value obtained: -0.0488\n",
      "Current minimum: -0.0488\n",
      "Iteration No: 55 started. Searching for the next optimal point.\n"
     ]
    },
    {
     "name": "stderr",
     "output_type": "stream",
     "text": [
      "C:\\Users\\stef4\\anaconda3\\lib\\site-packages\\skopt\\optimizer\\optimizer.py:449: UserWarning: The objective has been evaluated at this point before.\n",
      "  warnings.warn(\"The objective has been evaluated \"\n"
     ]
    },
    {
     "name": "stdout",
     "output_type": "stream",
     "text": [
      "Iteration No: 55 ended. Search finished for the next optimal point.\n",
      "Time taken: 55.0140\n",
      "Function value obtained: -0.0488\n",
      "Current minimum: -0.0488\n",
      "Iteration No: 56 started. Searching for the next optimal point.\n",
      "Iteration No: 56 ended. Search finished for the next optimal point.\n",
      "Time taken: 37.8117\n",
      "Function value obtained: -0.0477\n",
      "Current minimum: -0.0488\n",
      "Iteration No: 57 started. Searching for the next optimal point.\n"
     ]
    },
    {
     "name": "stderr",
     "output_type": "stream",
     "text": [
      "C:\\Users\\stef4\\anaconda3\\lib\\site-packages\\skopt\\optimizer\\optimizer.py:449: UserWarning: The objective has been evaluated at this point before.\n",
      "  warnings.warn(\"The objective has been evaluated \"\n"
     ]
    },
    {
     "name": "stdout",
     "output_type": "stream",
     "text": [
      "Iteration No: 57 ended. Search finished for the next optimal point.\n",
      "Time taken: 38.5343\n",
      "Function value obtained: -0.0477\n",
      "Current minimum: -0.0488\n",
      "Iteration No: 58 started. Searching for the next optimal point.\n"
     ]
    },
    {
     "name": "stderr",
     "output_type": "stream",
     "text": [
      "C:\\Users\\stef4\\anaconda3\\lib\\site-packages\\skopt\\optimizer\\optimizer.py:449: UserWarning: The objective has been evaluated at this point before.\n",
      "  warnings.warn(\"The objective has been evaluated \"\n"
     ]
    },
    {
     "name": "stdout",
     "output_type": "stream",
     "text": [
      "Iteration No: 58 ended. Search finished for the next optimal point.\n",
      "Time taken: 54.2614\n",
      "Function value obtained: -0.0488\n",
      "Current minimum: -0.0488\n",
      "Iteration No: 59 started. Searching for the next optimal point.\n",
      "Iteration No: 59 ended. Search finished for the next optimal point.\n",
      "Time taken: 50.9116\n",
      "Function value obtained: -0.0479\n",
      "Current minimum: -0.0488\n",
      "Iteration No: 60 started. Searching for the next optimal point.\n"
     ]
    },
    {
     "name": "stderr",
     "output_type": "stream",
     "text": [
      "C:\\Users\\stef4\\anaconda3\\lib\\site-packages\\skopt\\optimizer\\optimizer.py:449: UserWarning: The objective has been evaluated at this point before.\n",
      "  warnings.warn(\"The objective has been evaluated \"\n"
     ]
    },
    {
     "name": "stdout",
     "output_type": "stream",
     "text": [
      "Iteration No: 60 ended. Search finished for the next optimal point.\n",
      "Time taken: 37.1464\n",
      "Function value obtained: -0.0474\n",
      "Current minimum: -0.0488\n",
      "Iteration No: 61 started. Searching for the next optimal point.\n"
     ]
    },
    {
     "name": "stderr",
     "output_type": "stream",
     "text": [
      "C:\\Users\\stef4\\anaconda3\\lib\\site-packages\\skopt\\optimizer\\optimizer.py:449: UserWarning: The objective has been evaluated at this point before.\n",
      "  warnings.warn(\"The objective has been evaluated \"\n"
     ]
    },
    {
     "name": "stdout",
     "output_type": "stream",
     "text": [
      "Iteration No: 61 ended. Search finished for the next optimal point.\n",
      "Time taken: 54.4047\n",
      "Function value obtained: -0.0488\n",
      "Current minimum: -0.0488\n",
      "Iteration No: 62 started. Searching for the next optimal point.\n",
      "Iteration No: 62 ended. Search finished for the next optimal point.\n",
      "Time taken: 33.7195\n",
      "Function value obtained: -0.0483\n",
      "Current minimum: -0.0488\n",
      "Iteration No: 63 started. Searching for the next optimal point.\n",
      "Iteration No: 63 ended. Search finished for the next optimal point.\n",
      "Time taken: 40.5066\n",
      "Function value obtained: -0.0475\n",
      "Current minimum: -0.0488\n",
      "Iteration No: 64 started. Searching for the next optimal point.\n"
     ]
    },
    {
     "name": "stderr",
     "output_type": "stream",
     "text": [
      "C:\\Users\\stef4\\anaconda3\\lib\\site-packages\\skopt\\optimizer\\optimizer.py:449: UserWarning: The objective has been evaluated at this point before.\n",
      "  warnings.warn(\"The objective has been evaluated \"\n"
     ]
    },
    {
     "name": "stdout",
     "output_type": "stream",
     "text": [
      "Iteration No: 64 ended. Search finished for the next optimal point.\n",
      "Time taken: 42.4278\n",
      "Function value obtained: -0.0481\n",
      "Current minimum: -0.0488\n",
      "Iteration No: 65 started. Searching for the next optimal point.\n",
      "Iteration No: 65 ended. Search finished for the next optimal point.\n",
      "Time taken: 47.1198\n",
      "Function value obtained: -0.0477\n",
      "Current minimum: -0.0488\n",
      "Iteration No: 66 started. Searching for the next optimal point.\n",
      "Iteration No: 66 ended. Search finished for the next optimal point.\n",
      "Time taken: 38.6484\n",
      "Function value obtained: -0.0475\n",
      "Current minimum: -0.0488\n",
      "Iteration No: 67 started. Searching for the next optimal point.\n"
     ]
    },
    {
     "name": "stderr",
     "output_type": "stream",
     "text": [
      "C:\\Users\\stef4\\anaconda3\\lib\\site-packages\\skopt\\optimizer\\optimizer.py:449: UserWarning: The objective has been evaluated at this point before.\n",
      "  warnings.warn(\"The objective has been evaluated \"\n"
     ]
    },
    {
     "name": "stdout",
     "output_type": "stream",
     "text": [
      "Iteration No: 67 ended. Search finished for the next optimal point.\n",
      "Time taken: 54.0588\n",
      "Function value obtained: -0.0488\n",
      "Current minimum: -0.0488\n",
      "Iteration No: 68 started. Searching for the next optimal point.\n"
     ]
    },
    {
     "name": "stderr",
     "output_type": "stream",
     "text": [
      "C:\\Users\\stef4\\anaconda3\\lib\\site-packages\\skopt\\optimizer\\optimizer.py:449: UserWarning: The objective has been evaluated at this point before.\n",
      "  warnings.warn(\"The objective has been evaluated \"\n"
     ]
    },
    {
     "name": "stdout",
     "output_type": "stream",
     "text": [
      "Iteration No: 68 ended. Search finished for the next optimal point.\n",
      "Time taken: 47.2304\n",
      "Function value obtained: -0.0476\n",
      "Current minimum: -0.0488\n",
      "Iteration No: 69 started. Searching for the next optimal point.\n"
     ]
    },
    {
     "name": "stderr",
     "output_type": "stream",
     "text": [
      "C:\\Users\\stef4\\anaconda3\\lib\\site-packages\\skopt\\optimizer\\optimizer.py:449: UserWarning: The objective has been evaluated at this point before.\n",
      "  warnings.warn(\"The objective has been evaluated \"\n"
     ]
    },
    {
     "name": "stdout",
     "output_type": "stream",
     "text": [
      "Iteration No: 69 ended. Search finished for the next optimal point.\n",
      "Time taken: 53.3265\n",
      "Function value obtained: -0.0485\n",
      "Current minimum: -0.0488\n",
      "Iteration No: 70 started. Searching for the next optimal point.\n"
     ]
    },
    {
     "name": "stderr",
     "output_type": "stream",
     "text": [
      "C:\\Users\\stef4\\anaconda3\\lib\\site-packages\\skopt\\optimizer\\optimizer.py:449: UserWarning: The objective has been evaluated at this point before.\n",
      "  warnings.warn(\"The objective has been evaluated \"\n"
     ]
    },
    {
     "name": "stdout",
     "output_type": "stream",
     "text": [
      "Iteration No: 70 ended. Search finished for the next optimal point.\n",
      "Time taken: 53.5086\n",
      "Function value obtained: -0.0488\n",
      "Current minimum: -0.0488\n",
      "Iteration No: 71 started. Searching for the next optimal point.\n",
      "Iteration No: 71 ended. Search finished for the next optimal point.\n",
      "Time taken: 52.9031\n",
      "Function value obtained: -0.0483\n",
      "Current minimum: -0.0488\n",
      "Iteration No: 72 started. Searching for the next optimal point.\n",
      "Iteration No: 72 ended. Search finished for the next optimal point.\n",
      "Time taken: 36.8378\n",
      "Function value obtained: -0.0473\n",
      "Current minimum: -0.0488\n",
      "Iteration No: 73 started. Searching for the next optimal point.\n"
     ]
    },
    {
     "name": "stderr",
     "output_type": "stream",
     "text": [
      "C:\\Users\\stef4\\anaconda3\\lib\\site-packages\\skopt\\optimizer\\optimizer.py:449: UserWarning: The objective has been evaluated at this point before.\n",
      "  warnings.warn(\"The objective has been evaluated \"\n"
     ]
    },
    {
     "name": "stdout",
     "output_type": "stream",
     "text": [
      "Iteration No: 73 ended. Search finished for the next optimal point.\n",
      "Time taken: 54.7170\n",
      "Function value obtained: -0.0488\n",
      "Current minimum: -0.0488\n",
      "Iteration No: 74 started. Searching for the next optimal point.\n",
      "Iteration No: 74 ended. Search finished for the next optimal point.\n",
      "Time taken: 34.0982\n",
      "Function value obtained: -0.0477\n",
      "Current minimum: -0.0488\n",
      "Iteration No: 75 started. Searching for the next optimal point.\n"
     ]
    },
    {
     "name": "stderr",
     "output_type": "stream",
     "text": [
      "C:\\Users\\stef4\\anaconda3\\lib\\site-packages\\skopt\\optimizer\\optimizer.py:449: UserWarning: The objective has been evaluated at this point before.\n",
      "  warnings.warn(\"The objective has been evaluated \"\n"
     ]
    },
    {
     "name": "stdout",
     "output_type": "stream",
     "text": [
      "Iteration No: 75 ended. Search finished for the next optimal point.\n",
      "Time taken: 55.2781\n",
      "Function value obtained: -0.0488\n",
      "Current minimum: -0.0488\n",
      "Iteration No: 76 started. Searching for the next optimal point.\n"
     ]
    },
    {
     "name": "stderr",
     "output_type": "stream",
     "text": [
      "C:\\Users\\stef4\\anaconda3\\lib\\site-packages\\skopt\\optimizer\\optimizer.py:449: UserWarning: The objective has been evaluated at this point before.\n",
      "  warnings.warn(\"The objective has been evaluated \"\n"
     ]
    },
    {
     "name": "stdout",
     "output_type": "stream",
     "text": [
      "Iteration No: 76 ended. Search finished for the next optimal point.\n",
      "Time taken: 54.5247\n",
      "Function value obtained: -0.0488\n",
      "Current minimum: -0.0488\n",
      "Iteration No: 77 started. Searching for the next optimal point.\n"
     ]
    },
    {
     "name": "stderr",
     "output_type": "stream",
     "text": [
      "C:\\Users\\stef4\\anaconda3\\lib\\site-packages\\skopt\\optimizer\\optimizer.py:449: UserWarning: The objective has been evaluated at this point before.\n",
      "  warnings.warn(\"The objective has been evaluated \"\n"
     ]
    },
    {
     "name": "stdout",
     "output_type": "stream",
     "text": [
      "Iteration No: 77 ended. Search finished for the next optimal point.\n",
      "Time taken: 53.7312\n",
      "Function value obtained: -0.0488\n",
      "Current minimum: -0.0488\n",
      "Iteration No: 78 started. Searching for the next optimal point.\n"
     ]
    },
    {
     "name": "stderr",
     "output_type": "stream",
     "text": [
      "C:\\Users\\stef4\\anaconda3\\lib\\site-packages\\skopt\\optimizer\\optimizer.py:449: UserWarning: The objective has been evaluated at this point before.\n",
      "  warnings.warn(\"The objective has been evaluated \"\n"
     ]
    },
    {
     "name": "stdout",
     "output_type": "stream",
     "text": [
      "Iteration No: 78 ended. Search finished for the next optimal point.\n",
      "Time taken: 40.7840\n",
      "Function value obtained: -0.0481\n",
      "Current minimum: -0.0488\n",
      "Iteration No: 79 started. Searching for the next optimal point.\n",
      "Iteration No: 79 ended. Search finished for the next optimal point.\n",
      "Time taken: 33.6226\n",
      "Function value obtained: -0.0482\n",
      "Current minimum: -0.0488\n",
      "Iteration No: 80 started. Searching for the next optimal point.\n"
     ]
    },
    {
     "name": "stderr",
     "output_type": "stream",
     "text": [
      "C:\\Users\\stef4\\anaconda3\\lib\\site-packages\\skopt\\optimizer\\optimizer.py:449: UserWarning: The objective has been evaluated at this point before.\n",
      "  warnings.warn(\"The objective has been evaluated \"\n"
     ]
    },
    {
     "name": "stdout",
     "output_type": "stream",
     "text": [
      "Iteration No: 80 ended. Search finished for the next optimal point.\n",
      "Time taken: 53.9197\n",
      "Function value obtained: -0.0488\n",
      "Current minimum: -0.0488\n"
     ]
    },
    {
     "data": {
      "text/plain": [
       "'Best score=-0.0488'"
      ]
     },
     "execution_count": 22,
     "metadata": {},
     "output_type": "execute_result"
    }
   ],
   "source": [
    "res_gp = gp_minimize(objective, space, n_calls=80, random_state=1, verbose=True)\n",
    "\n",
    "\"Best score=%.4f\" % res_gp.fun"
   ]
  },
  {
   "cell_type": "markdown",
   "metadata": {},
   "source": [
    "Optimal number was calculated as:"
   ]
  },
  {
   "cell_type": "code",
   "execution_count": 23,
   "metadata": {},
   "outputs": [
    {
     "data": {
      "text/plain": [
       "[167]"
      ]
     },
     "execution_count": 23,
     "metadata": {},
     "output_type": "execute_result"
    }
   ],
   "source": [
    "res_gp.x"
   ]
  },
  {
   "cell_type": "markdown",
   "metadata": {},
   "source": [
    "Finding the LOO hamming loss for the optimal number:"
   ]
  },
  {
   "cell_type": "code",
   "execution_count": 24,
   "metadata": {},
   "outputs": [
    {
     "name": "stdout",
     "output_type": "stream",
     "text": [
      "Mean: -0.04730995717344754\n",
      "Standard Deviation: 0.11197216175425515\n"
     ]
    }
   ],
   "source": [
    "extra_trees = ExtraTreesClassifier(random_state=7, bootstrap=False,class_weight= None,\n",
    "                                                  max_depth=None, max_features=None, oob_score=False,\n",
    "                                                  warm_start=True, criterion='entropy', n_estimators=125)\n",
    "\n",
    "scores = cross_val_score(extra_trees, profiles, target,cv=loo, n_jobs=7,\n",
    "                         scoring=make_scorer(hamming_loss, greater_is_better=False))\n",
    "print_scores(scores)"
   ]
  },
  {
   "cell_type": "markdown",
   "metadata": {},
   "source": [
    "Unfortunately the optimal number of `n_estimators` based on gp_minimize did not produce a lower hamming loss than before"
   ]
  },
  {
   "cell_type": "markdown",
   "metadata": {},
   "source": [
    "### NEURAL NETWORK\n",
    "Now we will try to use a neural netwrok to predict the multiple labels. Neural networks can be used for multi-label problems"
   ]
  },
  {
   "cell_type": "code",
   "execution_count": 13,
   "metadata": {},
   "outputs": [],
   "source": [
    "from tensorflow import keras \n",
    "from keras.models import Sequential\n",
    "from keras.layers import Dense\n",
    "from keras.wrappers.scikit_learn import KerasClassifier\n",
    "from sklearn.preprocessing import StandardScaler\n",
    "from numpy import mean\n",
    "from numpy import std\n",
    "import tensorflow_addons as tfa"
   ]
  },
  {
   "cell_type": "markdown",
   "metadata": {},
   "source": [
    "Using standard scaler in order to scale down the values (necessary step for neural network):"
   ]
  },
  {
   "cell_type": "code",
   "execution_count": 14,
   "metadata": {
    "scrolled": true
   },
   "outputs": [
    {
     "data": {
      "text/plain": [
       "StandardScaler()"
      ]
     },
     "execution_count": 14,
     "metadata": {},
     "output_type": "execute_result"
    }
   ],
   "source": [
    "scaler = StandardScaler()\n",
    "scaler.fit(profiles)"
   ]
  },
  {
   "cell_type": "markdown",
   "metadata": {},
   "source": [
    "This scripts defines the neural network and uses cross validation to calculate the hamming losses. The script is based on the following [article](https://machinelearningmastery.com/multi-label-classification-with-deep-learning/). In detail: \n",
    "* The sigmoid function is used in the output layer as we only want the brand label to get values of 0 or 1. The neural network uses probabilitites for the output labels. That's why the function `round()` is used to transform the probabilities into 0 and 1\n",
    "* Number of nodes in the output layer matches the number of labels.\n",
    "* Binary cross-entropy loss function"
   ]
  },
  {
   "cell_type": "code",
   "execution_count": 150,
   "metadata": {},
   "outputs": [],
   "source": [
    "# model description\n",
    "def get_model(n_inputs, n_outputs, number_neurons):\n",
    "    model = Sequential()\n",
    "    model.add(Dense(number_neurons, input_dim=n_inputs, kernel_initializer='he_uniform', activation='relu'))\n",
    "    model.add(Dense(n_outputs, activation='sigmoid'))\n",
    "    model.compile(loss='binary_crossentropy', optimizer='adam', metrics=[tfa.metrics.HammingLoss(mode='multilabel')])\n",
    "    return model\n",
    " \n",
    "# evaluate a model using 20-fold cross-validation\n",
    "def evaluate_model(X, y, number_neurons, number_epochs, number_batch, fold_split):\n",
    "    results = list()\n",
    "    n_inputs, n_outputs = X.shape[1], y.shape[1]\n",
    "    # define evaluation procedure\n",
    "    cv = fold_split\n",
    "    # enumerate folds\n",
    "    for train_ix, test_ix in cv.split(X):\n",
    "        # prepare data\n",
    "        X_train, X_test = X[train_ix], X[test_ix]\n",
    "        y_train, y_test = y[train_ix], y[test_ix]\n",
    "        # define model\n",
    "        model = get_model(n_inputs, n_outputs, number_neurons)\n",
    "        # fit model\n",
    "        model.fit(X_train, y_train, verbose=0, epochs=number_epochs, batch_size=number_batch,\n",
    "                  workers=7, use_multiprocessing=True)\n",
    "        # make a prediction on the test set\n",
    "        yhat = model.predict(X_test)\n",
    "        # round probabilities to class labels\n",
    "        yhat = yhat.round()\n",
    "        # calculate hamming loss\n",
    "        acc = hamming_loss(y_test, yhat)\n",
    "        results.append(acc)\n",
    "    return results"
   ]
  },
  {
   "cell_type": "markdown",
   "metadata": {},
   "source": [
    "Trying different combinations of number of neurons, epochs and batch sizes with a 20-fold validation:"
   ]
  },
  {
   "cell_type": "code",
   "execution_count": 22,
   "metadata": {},
   "outputs": [
    {
     "name": "stdout",
     "output_type": "stream",
     "text": [
      "WARNING:tensorflow:5 out of the last 13 calls to <function Model.make_predict_function.<locals>.predict_function at 0x00000254E2CFDAF0> triggered tf.function retracing. Tracing is expensive and the excessive number of tracings could be due to (1) creating @tf.function repeatedly in a loop, (2) passing tensors with different shapes, (3) passing Python objects instead of tensors. For (1), please define your @tf.function outside of the loop. For (2), @tf.function has experimental_relax_shapes=True option that relaxes argument shapes that can avoid unnecessary retracing. For (3), please refer to https://www.tensorflow.org/guide/function#controlling_retracing and https://www.tensorflow.org/api_docs/python/tf/function for  more details.\n",
      "WARNING:tensorflow:6 out of the last 15 calls to <function Model.make_predict_function.<locals>.predict_function at 0x00000254E724E040> triggered tf.function retracing. Tracing is expensive and the excessive number of tracings could be due to (1) creating @tf.function repeatedly in a loop, (2) passing tensors with different shapes, (3) passing Python objects instead of tensors. For (1), please define your @tf.function outside of the loop. For (2), @tf.function has experimental_relax_shapes=True option that relaxes argument shapes that can avoid unnecessary retracing. For (3), please refer to https://www.tensorflow.org/guide/function#controlling_retracing and https://www.tensorflow.org/api_docs/python/tf/function for  more details.\n",
      "Hamming loss: 0.067 (0.020)\n"
     ]
    }
   ],
   "source": [
    "results = evaluate_model(scaler.transform(profiles), target, 150, 150, 10, fold_20)\n",
    "print('Hamming loss: %.3f (%.3f)' % (mean(results), std(results)))"
   ]
  },
  {
   "cell_type": "code",
   "execution_count": 23,
   "metadata": {},
   "outputs": [
    {
     "name": "stdout",
     "output_type": "stream",
     "text": [
      "Hamming loss: 0.066 (0.016)\n"
     ]
    }
   ],
   "source": [
    "results = evaluate_model(scaler.transform(profiles), target, 225, 100, 10, fold_20)\n",
    "print('Hamming loss: %.3f (%.3f)' % (mean(results), std(results)))"
   ]
  },
  {
   "cell_type": "code",
   "execution_count": 24,
   "metadata": {},
   "outputs": [
    {
     "name": "stdout",
     "output_type": "stream",
     "text": [
      "Hamming loss: 0.063 (0.015)\n"
     ]
    }
   ],
   "source": [
    "results = evaluate_model(scaler.transform(profiles), target, 225, 150, 10, fold_20)\n",
    "print('Hamming loss: %.3f (%.3f)' % (mean(results), std(results)))"
   ]
  },
  {
   "cell_type": "code",
   "execution_count": 25,
   "metadata": {},
   "outputs": [
    {
     "name": "stdout",
     "output_type": "stream",
     "text": [
      "Hamming loss: 0.065 (0.015)\n"
     ]
    }
   ],
   "source": [
    "results = evaluate_model(scaler.transform(profiles), target, 225, 200, 10, fold_20)\n",
    "print('Hamming loss: %.3f (%.3f)' % (mean(results), std(results)))"
   ]
  },
  {
   "cell_type": "code",
   "execution_count": 26,
   "metadata": {},
   "outputs": [
    {
     "name": "stdout",
     "output_type": "stream",
     "text": [
      "Hamming loss: 0.066 (0.016)\n"
     ]
    }
   ],
   "source": [
    "results = evaluate_model(scaler.transform(profiles), target, 225, 200, 20, fold_20)\n",
    "print('Hamming loss: %.3f (%.3f)' % (mean(results), std(results)))"
   ]
  },
  {
   "cell_type": "code",
   "execution_count": 27,
   "metadata": {},
   "outputs": [
    {
     "name": "stdout",
     "output_type": "stream",
     "text": [
      "Hamming loss: 0.065 (0.015)\n"
     ]
    }
   ],
   "source": [
    "results = evaluate_model(scaler.transform(profiles), target, 225, 180, 5, fold_20)\n",
    "print('Hamming loss: %.3f (%.3f)' % (mean(results), std(results)))"
   ]
  },
  {
   "cell_type": "code",
   "execution_count": 28,
   "metadata": {},
   "outputs": [
    {
     "name": "stdout",
     "output_type": "stream",
     "text": [
      "Hamming loss: 0.064 (0.017)\n"
     ]
    }
   ],
   "source": [
    "results = evaluate_model(scaler.transform(profiles), target, 300, 100, 10, fold_20)\n",
    "print('Hamming loss: %.3f (%.3f)' % (mean(results), std(results)))"
   ]
  },
  {
   "cell_type": "code",
   "execution_count": 29,
   "metadata": {},
   "outputs": [
    {
     "name": "stdout",
     "output_type": "stream",
     "text": [
      "Hamming loss: 0.062 (0.016)\n"
     ]
    }
   ],
   "source": [
    "results = evaluate_model(scaler.transform(profiles), target, 300, 150, 10, fold_20)\n",
    "print('Hamming loss: %.3f (%.3f)' % (mean(results), std(results)))"
   ]
  },
  {
   "cell_type": "markdown",
   "metadata": {},
   "source": [
    "Trying the best ones for loo cross-validation:"
   ]
  },
  {
   "cell_type": "code",
   "execution_count": 30,
   "metadata": {},
   "outputs": [
    {
     "name": "stdout",
     "output_type": "stream",
     "text": [
      "Hamming loss: 0.062 (0.130)\n"
     ]
    }
   ],
   "source": [
    "results = evaluate_model(scaler.transform(profiles), target, 225, 200, 10, loo)\n",
    "print('Hamming loss: %.3f (%.3f)' % (mean(results), std(results)))"
   ]
  },
  {
   "cell_type": "code",
   "execution_count": 32,
   "metadata": {},
   "outputs": [
    {
     "name": "stdout",
     "output_type": "stream",
     "text": [
      "Hamming loss: 0.065 (0.135)\n"
     ]
    }
   ],
   "source": [
    "results = evaluate_model(scaler.transform(profiles), target, 180, 200, 10, loo)\n",
    "print('Hamming loss: %.3f (%.3f)' % (mean(results), std(results)))"
   ]
  },
  {
   "cell_type": "code",
   "execution_count": 31,
   "metadata": {},
   "outputs": [
    {
     "name": "stdout",
     "output_type": "stream",
     "text": [
      "Hamming loss: 0.062 (0.131)\n"
     ]
    }
   ],
   "source": [
    "results = evaluate_model(scaler.transform(profiles), target, 300, 100, 10, loo)\n",
    "print('Hamming loss: %.3f (%.3f)' % (mean(results), std(results)))"
   ]
  },
  {
   "cell_type": "code",
   "execution_count": null,
   "metadata": {},
   "outputs": [],
   "source": [
    "results = evaluate_model(scaler.transform(profiles), target, 300, 150, 10, loo)\n",
    "print('Hamming loss: %.3f (%.3f)' % (mean(results), std(results)))"
   ]
  },
  {
   "cell_type": "markdown",
   "metadata": {},
   "source": [
    "### Visualization\n",
    "Now let's check all the hamming losses for the models"
   ]
  },
  {
   "cell_type": "code",
   "execution_count": 4,
   "metadata": {},
   "outputs": [],
   "source": [
    "import seaborn as sns\n",
    "\n",
    "hamming_loss = {'Binary Relevance-Decision trees': 0.07501338329764454,\n",
    "              'Binary Relevance-Random forest': 0.05259635974304069,\n",
    "              'Binary Relevance-Extra trees': 0.04730995717344754,\n",
    "              'Binary Relevance-LightGBM': 0.0485144539614561,\n",
    "              'Binary Relevance-XGBoost': 0.05072269807280514,\n",
    "              'Binary Relevance-Logistic regression': 0.06684957173447538,\n",
    "\n",
    "              'Classifier Chains-Decision trees': 0.07508029978586724,\n",
    "              'Classifier Chains-Logistic regression': 0.06510974304068523,\n",
    "              'Classifier Chains-Random forest': 0.05815042826552463,\n",
    "              'Classifier Chains-Extra trees': 0.05293094218415417,\n",
    "              'Classifier Chains-LightGBM': 0.04898286937901499,\n",
    "              'Classifier Chains-XGBoost': 0.05580835117773019,\n",
    "\n",
    "              'Label Powerset-Extra trees': 0.056076017130620985,\n",
    "              'Label Powerset-Random Forest': 0.05968950749464668,\n",
    "              'Label Powerset-LightGBM': 0.06336991434689508,\n",
    "\n",
    "              'MLkNN': 0.21225910064239828,\n",
    "              'BRkNNaClassifier': 0.20248929336188437,\n",
    "              'BRkNNbClassifier': 0.32354122055674517,\n",
    "              'MLARAM': 0.2516729122055675,\n",
    "              'MLTSVM': 0.19974571734475374,\n",
    "              \n",
    "              'Decision trees classifier': 0.07400963597430407,\n",
    "              'Random Forest': 0.05065578158458244,\n",
    "              'Extra Trees': 0.046707708779443254,\n",
    "\n",
    "              'Neural Network': 0.062,\n",
    "\n",
    "\n",
    "              'Dummy classifier': 0.22330032119914348\n",
    "    \n",
    "}"
   ]
  },
  {
   "cell_type": "markdown",
   "metadata": {},
   "source": [
    "Sorting the dictionaries:"
   ]
  },
  {
   "cell_type": "code",
   "execution_count": 5,
   "metadata": {},
   "outputs": [],
   "source": [
    "import operator\n",
    "hamming_loss = dict( sorted(hamming_loss.items(), key=operator.itemgetter(1),reverse=False))"
   ]
  },
  {
   "cell_type": "markdown",
   "metadata": {},
   "source": [
    "Plotting the results:"
   ]
  },
  {
   "cell_type": "code",
   "execution_count": 6,
   "metadata": {},
   "outputs": [
    {
     "data": {
      "image/png": "[encoded data removed]",
      "text/plain": [
       "<Figure size 1224x720 with 1 Axes>"
      ]
     },
     "metadata": {
      "needs_background": "light"
     },
     "output_type": "display_data"
    }
   ],
   "source": [
    "fig_dims = (17, 10)\n",
    "fig, ax = plt.subplots(figsize=fig_dims)\n",
    "sns.barplot(y=list(hamming_loss.keys()), x=list(hamming_loss.values()), palette='tab10',)\n",
    "plt.title('Average hamming loss per model', fontdict ={'size': 20})\n",
    "plt.ylabel('Model', fontdict ={'size': 15})\n",
    "plt.xlabel('Hamming losss',fontdict ={'size': 15})\n",
    "ax.set_facecolor(\"aliceblue\") #setting background color\n",
    "plt.xticks([0, 0.05, 0.075,0.1,0.15,0.2, 0.25, 0.3])\n",
    "ax.set_axisbelow(True)\n",
    "plt.grid(axis = 'x')\n",
    "plt.show()"
   ]
  }
 ],
 "metadata": {
  "kernelspec": {
   "display_name": "Python 3",
   "language": "python",
   "name": "python3"
  },
  "language_info": {
   "codemirror_mode": {
    "name": "ipython",
    "version": 3
   },
   "file_extension": ".py",
   "mimetype": "text/x-python",
   "name": "python",
   "nbconvert_exporter": "python",
   "pygments_lexer": "ipython3",
   "version": "3.8.3"
  }
 },
 "nbformat": 4,
 "nbformat_minor": 4
}
