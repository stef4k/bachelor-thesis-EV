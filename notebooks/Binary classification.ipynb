{
 "cells": [
  {
   "cell_type": "markdown",
   "metadata": {},
   "source": [
    "# Predicting profile EV replacement - Binary Classification\n",
    "Only EV models under 250,000 PLN and real score over threshold (5.2) middle point of edges between 1st and 99th percentile (outside values of two bells of real_scores) are recommended. Total 936 profiles:\n",
    "\n",
    "Firstly importing the libraries:"
   ]
  },
  {
   "cell_type": "code",
   "execution_count": 1,
   "metadata": {},
   "outputs": [],
   "source": [
    "import pandas as pd\n",
    "import numpy as np\n",
    "\n",
    "from sklearn.model_selection import train_test_split\n",
    "import random\n",
    "from sklearn.tree import DecisionTreeClassifier\n",
    "from sklearn.ensemble import BaggingClassifier\n",
    "from sklearn.ensemble import RandomForestClassifier\n",
    "from sklearn import tree\n",
    "from sklearn.ensemble import ExtraTreesClassifier\n",
    "from sklearn.ensemble import AdaBoostClassifier\n",
    "from sklearn.naive_bayes import GaussianNB\n",
    "from sklearn.linear_model import LogisticRegression\n",
    "import sklearn\n",
    "from sklearn.pipeline import make_pipeline\n",
    "from sklearn.preprocessing import StandardScaler\n",
    "from sklearn.svm import SVC\n",
    "from sklearn.linear_model import SGDClassifier\n",
    "from sklearn.neighbors import KNeighborsClassifier\n",
    "from sklearn.neural_network import MLPClassifier\n",
    "from sklearn.discriminant_analysis import LinearDiscriminantAnalysis\n",
    "\n",
    "from sklearn.dummy import DummyClassifier\n",
    "from sklearn.metrics import classification_report\n",
    "from sklearn import metrics\n",
    "from sklearn.model_selection import cross_val_score\n",
    "from sklearn.model_selection import GridSearchCV\n",
    "from sklearn.model_selection import KFold\n",
    "from sklearn.pipeline import Pipeline\n",
    "\n",
    "from imblearn.pipeline import Pipeline, make_pipeline"
   ]
  },
  {
   "cell_type": "markdown",
   "metadata": {},
   "source": [
    "Now we have to read the right file:"
   ]
  },
  {
   "cell_type": "code",
   "execution_count": 2,
   "metadata": {},
   "outputs": [
    {
     "data": {
      "text/html": [
       "<div>\n",
       "<style scoped>\n",
       "    .dataframe tbody tr th:only-of-type {\n",
       "        vertical-align: middle;\n",
       "    }\n",
       "\n",
       "    .dataframe tbody tr th {\n",
       "        vertical-align: top;\n",
       "    }\n",
       "\n",
       "    .dataframe thead th {\n",
       "        text-align: right;\n",
       "    }\n",
       "</style>\n",
       "<table border=\"1\" class=\"dataframe\">\n",
       "  <thead>\n",
       "    <tr style=\"text-align: right;\">\n",
       "      <th></th>\n",
       "      <th>monitoring_start_month</th>\n",
       "      <th>monitoring_days</th>\n",
       "      <th>active_days</th>\n",
       "      <th>data_quality_score</th>\n",
       "      <th>reliability_score</th>\n",
       "      <th>car_use_score</th>\n",
       "      <th>driver_behavior_score</th>\n",
       "      <th>n_trips</th>\n",
       "      <th>fuel_costs</th>\n",
       "      <th>n_recommended_evs</th>\n",
       "      <th>...</th>\n",
       "      <th>median_trip_distance</th>\n",
       "      <th>average_pause_time</th>\n",
       "      <th>max_pause_time</th>\n",
       "      <th>median_pause_time</th>\n",
       "      <th>percentage_start_home</th>\n",
       "      <th>percentage_start_office</th>\n",
       "      <th>average_trip_duration_sec</th>\n",
       "      <th>percentage_charger_nearby</th>\n",
       "      <th>percentage_charger_fast_nearby</th>\n",
       "      <th>percentage_charger_3F_nearby</th>\n",
       "    </tr>\n",
       "  </thead>\n",
       "  <tbody>\n",
       "    <tr>\n",
       "      <th>0</th>\n",
       "      <td>7</td>\n",
       "      <td>31</td>\n",
       "      <td>30</td>\n",
       "      <td>9.373888</td>\n",
       "      <td>4.692516</td>\n",
       "      <td>7.451583</td>\n",
       "      <td>6.467989</td>\n",
       "      <td>392</td>\n",
       "      <td>16625</td>\n",
       "      <td>0</td>\n",
       "      <td>...</td>\n",
       "      <td>3.732314</td>\n",
       "      <td>5591.336735</td>\n",
       "      <td>133880</td>\n",
       "      <td>557.5</td>\n",
       "      <td>7.397959</td>\n",
       "      <td>4.591837</td>\n",
       "      <td>1098.109694</td>\n",
       "      <td>13.520408</td>\n",
       "      <td>5.867347</td>\n",
       "      <td>7.653061</td>\n",
       "    </tr>\n",
       "    <tr>\n",
       "      <th>1</th>\n",
       "      <td>6</td>\n",
       "      <td>30</td>\n",
       "      <td>27</td>\n",
       "      <td>9.062229</td>\n",
       "      <td>6.138472</td>\n",
       "      <td>7.616548</td>\n",
       "      <td>5.732751</td>\n",
       "      <td>314</td>\n",
       "      <td>17664</td>\n",
       "      <td>0</td>\n",
       "      <td>...</td>\n",
       "      <td>3.879948</td>\n",
       "      <td>6739.085987</td>\n",
       "      <td>147051</td>\n",
       "      <td>703.0</td>\n",
       "      <td>8.280255</td>\n",
       "      <td>0.318471</td>\n",
       "      <td>1308.401274</td>\n",
       "      <td>13.057325</td>\n",
       "      <td>6.687898</td>\n",
       "      <td>6.369427</td>\n",
       "    </tr>\n",
       "    <tr>\n",
       "      <th>2</th>\n",
       "      <td>5</td>\n",
       "      <td>31</td>\n",
       "      <td>26</td>\n",
       "      <td>8.950726</td>\n",
       "      <td>5.415178</td>\n",
       "      <td>7.771661</td>\n",
       "      <td>6.493076</td>\n",
       "      <td>249</td>\n",
       "      <td>11769</td>\n",
       "      <td>0</td>\n",
       "      <td>...</td>\n",
       "      <td>4.442763</td>\n",
       "      <td>9403.775100</td>\n",
       "      <td>224802</td>\n",
       "      <td>606.0</td>\n",
       "      <td>9.638554</td>\n",
       "      <td>0.000000</td>\n",
       "      <td>1075.341365</td>\n",
       "      <td>13.654618</td>\n",
       "      <td>5.622490</td>\n",
       "      <td>8.032129</td>\n",
       "    </tr>\n",
       "    <tr>\n",
       "      <th>3</th>\n",
       "      <td>3</td>\n",
       "      <td>92</td>\n",
       "      <td>78</td>\n",
       "      <td>9.003805</td>\n",
       "      <td>5.945673</td>\n",
       "      <td>7.027738</td>\n",
       "      <td>5.758369</td>\n",
       "      <td>789</td>\n",
       "      <td>17323</td>\n",
       "      <td>0</td>\n",
       "      <td>...</td>\n",
       "      <td>4.491949</td>\n",
       "      <td>8688.593156</td>\n",
       "      <td>244481</td>\n",
       "      <td>606.0</td>\n",
       "      <td>9.632446</td>\n",
       "      <td>0.000000</td>\n",
       "      <td>1317.195184</td>\n",
       "      <td>14.575412</td>\n",
       "      <td>7.984791</td>\n",
       "      <td>6.590621</td>\n",
       "    </tr>\n",
       "    <tr>\n",
       "      <th>4</th>\n",
       "      <td>4</td>\n",
       "      <td>30</td>\n",
       "      <td>25</td>\n",
       "      <td>8.851813</td>\n",
       "      <td>5.518089</td>\n",
       "      <td>6.905178</td>\n",
       "      <td>5.513861</td>\n",
       "      <td>266</td>\n",
       "      <td>19741</td>\n",
       "      <td>0</td>\n",
       "      <td>...</td>\n",
       "      <td>3.343137</td>\n",
       "      <td>8229.680451</td>\n",
       "      <td>238754</td>\n",
       "      <td>552.0</td>\n",
       "      <td>9.022556</td>\n",
       "      <td>0.000000</td>\n",
       "      <td>1374.330827</td>\n",
       "      <td>14.661654</td>\n",
       "      <td>8.646617</td>\n",
       "      <td>6.015038</td>\n",
       "    </tr>\n",
       "  </tbody>\n",
       "</table>\n",
       "<p>5 rows × 73 columns</p>\n",
       "</div>"
      ],
      "text/plain": [
       "   monitoring_start_month  monitoring_days  active_days  data_quality_score  \\\n",
       "0                       7               31           30            9.373888   \n",
       "1                       6               30           27            9.062229   \n",
       "2                       5               31           26            8.950726   \n",
       "3                       3               92           78            9.003805   \n",
       "4                       4               30           25            8.851813   \n",
       "\n",
       "   reliability_score  car_use_score  driver_behavior_score  n_trips  \\\n",
       "0           4.692516       7.451583               6.467989      392   \n",
       "1           6.138472       7.616548               5.732751      314   \n",
       "2           5.415178       7.771661               6.493076      249   \n",
       "3           5.945673       7.027738               5.758369      789   \n",
       "4           5.518089       6.905178               5.513861      266   \n",
       "\n",
       "   fuel_costs  n_recommended_evs  ... median_trip_distance average_pause_time  \\\n",
       "0       16625                  0  ...             3.732314        5591.336735   \n",
       "1       17664                  0  ...             3.879948        6739.085987   \n",
       "2       11769                  0  ...             4.442763        9403.775100   \n",
       "3       17323                  0  ...             4.491949        8688.593156   \n",
       "4       19741                  0  ...             3.343137        8229.680451   \n",
       "\n",
       "   max_pause_time  median_pause_time  percentage_start_home  \\\n",
       "0          133880              557.5               7.397959   \n",
       "1          147051              703.0               8.280255   \n",
       "2          224802              606.0               9.638554   \n",
       "3          244481              606.0               9.632446   \n",
       "4          238754              552.0               9.022556   \n",
       "\n",
       "   percentage_start_office  average_trip_duration_sec  \\\n",
       "0                 4.591837                1098.109694   \n",
       "1                 0.318471                1308.401274   \n",
       "2                 0.000000                1075.341365   \n",
       "3                 0.000000                1317.195184   \n",
       "4                 0.000000                1374.330827   \n",
       "\n",
       "   percentage_charger_nearby  percentage_charger_fast_nearby  \\\n",
       "0                  13.520408                        5.867347   \n",
       "1                  13.057325                        6.687898   \n",
       "2                  13.654618                        5.622490   \n",
       "3                  14.575412                        7.984791   \n",
       "4                  14.661654                        8.646617   \n",
       "\n",
       "   percentage_charger_3F_nearby  \n",
       "0                      7.653061  \n",
       "1                      6.369427  \n",
       "2                      8.032129  \n",
       "3                      6.590621  \n",
       "4                      6.015038  \n",
       "\n",
       "[5 rows x 73 columns]"
      ]
     },
     "execution_count": 2,
     "metadata": {},
     "output_type": "execute_result"
    }
   ],
   "source": [
    "profiles = pd.read_csv('DATA/driving_profiles_cleared_BINARY_26_1.csv')\n",
    "profiles.head()"
   ]
  },
  {
   "cell_type": "markdown",
   "metadata": {},
   "source": [
    "A new column `ev_replace` is created that contains:\n",
    "* the value `0` if the profile should not be replaced with any EV\n",
    "* the value `1` if the profile should be replaced with an EV"
   ]
  },
  {
   "cell_type": "code",
   "execution_count": 3,
   "metadata": {},
   "outputs": [],
   "source": [
    "profiles['ev_replace'] = profiles['n_recommended_evs'].copy()\n",
    "profiles.loc[profiles['n_recommended_evs'] > 0, 'ev_replace'] = 1"
   ]
  },
  {
   "cell_type": "code",
   "execution_count": 4,
   "metadata": {},
   "outputs": [
    {
     "data": {
      "text/plain": [
       "0    580\n",
       "1    354\n",
       "Name: ev_replace, dtype: int64"
      ]
     },
     "execution_count": 4,
     "metadata": {},
     "output_type": "execute_result"
    }
   ],
   "source": [
    "profiles.ev_replace.value_counts()"
   ]
  },
  {
   "cell_type": "markdown",
   "metadata": {},
   "source": [
    "Now we drop columns that will not contribute to the machine learning process:"
   ]
  },
  {
   "cell_type": "code",
   "execution_count": 5,
   "metadata": {},
   "outputs": [],
   "source": [
    "profiles = profiles.drop(columns=['n_recommended_evs'])"
   ]
  },
  {
   "cell_type": "markdown",
   "metadata": {},
   "source": [
    "Next up, we have to create dummie variables for all the columns that have non continious numeric values:"
   ]
  },
  {
   "cell_type": "code",
   "execution_count": 6,
   "metadata": {},
   "outputs": [],
   "source": [
    "profiles = pd.get_dummies(profiles, columns=['driver_name','body_type','monitoring_start_month'])"
   ]
  },
  {
   "cell_type": "markdown",
   "metadata": {},
   "source": [
    "Here we can see the new shape of the data, 214 rows and 327 columns:"
   ]
  },
  {
   "cell_type": "code",
   "execution_count": 7,
   "metadata": {},
   "outputs": [
    {
     "data": {
      "text/plain": [
       "(934, 158)"
      ]
     },
     "execution_count": 7,
     "metadata": {},
     "output_type": "execute_result"
    }
   ],
   "source": [
    "profiles.shape"
   ]
  },
  {
   "cell_type": "markdown",
   "metadata": {},
   "source": [
    "Fixing column names for lightGBM:"
   ]
  },
  {
   "cell_type": "code",
   "execution_count": 8,
   "metadata": {},
   "outputs": [],
   "source": [
    "import re\n",
    "profiles = profiles.rename(columns = lambda x:re.sub('[^A-Za-z0-9_]+', '', x)) #fix error lgb does not support json characters"
   ]
  },
  {
   "cell_type": "markdown",
   "metadata": {},
   "source": [
    "### ML Preprocessing"
   ]
  },
  {
   "cell_type": "markdown",
   "metadata": {},
   "source": [
    "Now we shuffle the data and separate the column we want to predict afterwards:"
   ]
  },
  {
   "cell_type": "code",
   "execution_count": 9,
   "metadata": {},
   "outputs": [],
   "source": [
    "profiles = profiles.sample(frac = 1, random_state=9) #shuffling data\n",
    "target = profiles['ev_replace'].copy() # target column separated\n",
    "profiles = profiles.drop(['ev_replace'], axis=1) #deleting target column from data"
   ]
  },
  {
   "cell_type": "markdown",
   "metadata": {},
   "source": [
    "Next up we define the folds to be used for cross-validation after in order to ensure repeatability. We will use `leave one out` meaning each time the model is trained on N-1 observations and test it on the Nth:"
   ]
  },
  {
   "cell_type": "code",
   "execution_count": 38,
   "metadata": {},
   "outputs": [],
   "source": [
    "loo = KFold(profiles.shape[0], shuffle=True, random_state=123)\n",
    "fold_10 = KFold(10, shuffle=True, random_state=123)\n",
    "fold_20 = KFold(20, shuffle=True, random_state=123)\n",
    "fold_100 = KFold(100, shuffle=True, random_state=123)\n",
    "fold_250 = KFold(250, shuffle=True, random_state=123)"
   ]
  },
  {
   "cell_type": "markdown",
   "metadata": {},
   "source": [
    "Now we define a function to print the mean and standard deviation for a list of scores:"
   ]
  },
  {
   "cell_type": "code",
   "execution_count": 11,
   "metadata": {},
   "outputs": [],
   "source": [
    "def print_scores(scores):\n",
    "    print(\"Mean:\", scores.mean())\n",
    "    print(\"Standard Deviation:\", scores.std())"
   ]
  },
  {
   "cell_type": "markdown",
   "metadata": {},
   "source": [
    "#### Dummy classifier\n",
    "In order to compare our results, we will use a dummy classifier that always predicts $1$ for every case. Metric of accuracy firstly:"
   ]
  },
  {
   "cell_type": "code",
   "execution_count": 12,
   "metadata": {},
   "outputs": [
    {
     "name": "stdout",
     "output_type": "stream",
     "text": [
      "Mean: 0.6209850107066381\n",
      "Standard Deviation: 0.4851418629476481\n"
     ]
    }
   ],
   "source": [
    "dummy_classifier = DummyClassifier(strategy='most_frequent')\n",
    "\n",
    "scores = cross_val_score(dummy_classifier, profiles, target,\n",
    "                        cv=loo, scoring='accuracy',n_jobs=-1)\n",
    "print_scores(scores)"
   ]
  },
  {
   "cell_type": "markdown",
   "metadata": {},
   "source": [
    "### Decision trees\n",
    "Firstly we will try the decision trees. We will use `GridSearchCV` to find the best parameters while also using cross validation to evaluate the general accuracy of the model\n",
    "* We define the parameters we want to check with grid-search:"
   ]
  },
  {
   "cell_type": "code",
   "execution_count": 13,
   "metadata": {},
   "outputs": [],
   "source": [
    "parameters = {'criterion': ('gini','entropy'),\n",
    "              'splitter': ('best', 'random'),\n",
    "              'max_features':('sqrt',None,'log2'),\n",
    "              'class_weight':(None,'balanced'),\n",
    "              'max_depth':(None,20,50),\n",
    "              'min_samples_leaf':(1,3),\n",
    "              'ccp_alpha':(0,0.4, 0.8),\n",
    "              'min_impurity_decrease':(0, 0.5, 1)\n",
    "             }"
   ]
  },
  {
   "cell_type": "markdown",
   "metadata": {},
   "source": [
    "Defining the decision tree classifier:"
   ]
  },
  {
   "cell_type": "code",
   "execution_count": 15,
   "metadata": {},
   "outputs": [],
   "source": [
    "clf = tree.DecisionTreeClassifier(random_state=7)"
   ]
  },
  {
   "cell_type": "markdown",
   "metadata": {},
   "source": [
    "Next up the grid search classifier is declared:"
   ]
  },
  {
   "cell_type": "code",
   "execution_count": 17,
   "metadata": {},
   "outputs": [],
   "source": [
    "gs_clf = GridSearchCV(clf, parameters,n_jobs=7, cv=fold_10, scoring='accuracy', verbose=1)"
   ]
  },
  {
   "cell_type": "markdown",
   "metadata": {},
   "source": [
    "Now we can fit the model on the existing data to find the best parameters:"
   ]
  },
  {
   "cell_type": "code",
   "execution_count": 18,
   "metadata": {
    "scrolled": true
   },
   "outputs": [
    {
     "name": "stdout",
     "output_type": "stream",
     "text": [
      "Fitting 10 folds for each of 1296 candidates, totalling 12960 fits\n"
     ]
    },
    {
     "name": "stderr",
     "output_type": "stream",
     "text": [
      "[Parallel(n_jobs=7)]: Using backend LokyBackend with 7 concurrent workers.\n",
      "[Parallel(n_jobs=7)]: Done  37 tasks      | elapsed:    0.4s\n",
      "[Parallel(n_jobs=7)]: Done 1975 tasks      | elapsed:    4.7s\n",
      "[Parallel(n_jobs=7)]: Done 5975 tasks      | elapsed:   12.3s\n",
      "[Parallel(n_jobs=7)]: Done 11575 tasks      | elapsed:   22.6s\n",
      "[Parallel(n_jobs=7)]: Done 12960 out of 12960 | elapsed:   25.3s finished\n"
     ]
    },
    {
     "data": {
      "text/plain": [
       "GridSearchCV(cv=KFold(n_splits=10, random_state=123, shuffle=True),\n",
       "             estimator=DecisionTreeClassifier(random_state=7), n_jobs=7,\n",
       "             param_grid={'ccp_alpha': (0, 0.4, 0.8),\n",
       "                         'class_weight': (None, 'balanced'),\n",
       "                         'criterion': ('gini', 'entropy'),\n",
       "                         'max_depth': (None, 20, 50),\n",
       "                         'max_features': ('sqrt', None, 'log2'),\n",
       "                         'min_impurity_decrease': (0, 0.5, 1),\n",
       "                         'min_samples_leaf': (1, 3),\n",
       "                         'splitter': ('best', 'random')},\n",
       "             scoring='accuracy', verbose=1)"
      ]
     },
     "execution_count": 18,
     "metadata": {},
     "output_type": "execute_result"
    }
   ],
   "source": [
    "gs_clf.fit(profiles, target)"
   ]
  },
  {
   "cell_type": "markdown",
   "metadata": {},
   "source": [
    "We can see the best parameters calculated from grid-search:"
   ]
  },
  {
   "cell_type": "code",
   "execution_count": 19,
   "metadata": {},
   "outputs": [
    {
     "data": {
      "text/plain": [
       "{'ccp_alpha': 0,\n",
       " 'class_weight': None,\n",
       " 'criterion': 'gini',\n",
       " 'max_depth': None,\n",
       " 'max_features': None,\n",
       " 'min_impurity_decrease': 0,\n",
       " 'min_samples_leaf': 3,\n",
       " 'splitter': 'best'}"
      ]
     },
     "execution_count": 19,
     "metadata": {},
     "output_type": "execute_result"
    }
   ],
   "source": [
    "gs_clf.best_params_"
   ]
  },
  {
   "cell_type": "markdown",
   "metadata": {},
   "source": [
    "We save the best estimator in a new variable to use it for cross-validation after: "
   ]
  },
  {
   "cell_type": "code",
   "execution_count": 20,
   "metadata": {},
   "outputs": [],
   "source": [
    "best_tree = gs_clf.best_estimator_"
   ]
  },
  {
   "cell_type": "markdown",
   "metadata": {},
   "source": [
    "K-fold cross validation is used to make sure that the split of data does not affect the result.\n",
    "\n",
    "Now, we check the accuracy since this metric gives a quick overview of the correctness of the predictions:"
   ]
  },
  {
   "cell_type": "code",
   "execution_count": 21,
   "metadata": {
    "scrolled": true
   },
   "outputs": [
    {
     "name": "stdout",
     "output_type": "stream",
     "text": [
      "Mean: 0.854389721627409\n",
      "Standard Deviation: 0.3527150765204793\n"
     ]
    }
   ],
   "source": [
    "scores = cross_val_score(best_tree, profiles, target,\n",
    "                        cv=loo, scoring='accuracy',n_jobs=-1)\n",
    "print_scores(scores)"
   ]
  },
  {
   "cell_type": "markdown",
   "metadata": {},
   "source": [
    "### Random forest\n",
    "Now we will try the same steps for random forest. Firstly, the parameters are set:"
   ]
  },
  {
   "cell_type": "code",
   "execution_count": 22,
   "metadata": {},
   "outputs": [],
   "source": [
    "parameters = {'criterion': ('gini','entropy'),\n",
    "              'n_estimators': (50,100, 125,150,175,200),\n",
    "              'bootstrap':(True,False),\n",
    "              'oob_score':(True,False),\n",
    "              'class_weight':('balanced_subsample','balanced',None),\n",
    "              'max_features':('auto','sqrt','log2'),\n",
    "              'warm_start':(True,False),\n",
    "              'class_weight':(None,'balanced')\n",
    "             }"
   ]
  },
  {
   "cell_type": "markdown",
   "metadata": {},
   "source": [
    "Defining the random forest:"
   ]
  },
  {
   "cell_type": "code",
   "execution_count": 23,
   "metadata": {},
   "outputs": [],
   "source": [
    "forest = RandomForestClassifier(random_state=7)"
   ]
  },
  {
   "cell_type": "markdown",
   "metadata": {},
   "source": [
    "Next up the grid search classifier is declared:"
   ]
  },
  {
   "cell_type": "code",
   "execution_count": 24,
   "metadata": {},
   "outputs": [],
   "source": [
    "gs_forest = GridSearchCV(forest, parameters,n_jobs=7, cv=fold_10, scoring='accuracy',verbose=1)"
   ]
  },
  {
   "cell_type": "markdown",
   "metadata": {},
   "source": [
    "Now we can fit the model on the existing data to find the best parameters:"
   ]
  },
  {
   "cell_type": "code",
   "execution_count": 25,
   "metadata": {
    "scrolled": true
   },
   "outputs": [
    {
     "name": "stdout",
     "output_type": "stream",
     "text": [
      "Fitting 10 folds for each of 576 candidates, totalling 5760 fits\n"
     ]
    },
    {
     "name": "stderr",
     "output_type": "stream",
     "text": [
      "[Parallel(n_jobs=7)]: Using backend LokyBackend with 7 concurrent workers.\n",
      "[Parallel(n_jobs=7)]: Done  36 tasks      | elapsed:    1.7s\n",
      "[Parallel(n_jobs=7)]: Done 186 tasks      | elapsed:   13.3s\n",
      "[Parallel(n_jobs=7)]: Done 436 tasks      | elapsed:   31.9s\n",
      "[Parallel(n_jobs=7)]: Done 786 tasks      | elapsed:   54.6s\n",
      "[Parallel(n_jobs=7)]: Done 1236 tasks      | elapsed:  1.6min\n",
      "[Parallel(n_jobs=7)]: Done 1786 tasks      | elapsed:  2.3min\n",
      "[Parallel(n_jobs=7)]: Done 2436 tasks      | elapsed:  3.1min\n",
      "[Parallel(n_jobs=7)]: Done 3387 tasks      | elapsed:  4.1min\n",
      "[Parallel(n_jobs=7)]: Done 4824 tasks      | elapsed:  5.3min\n",
      "[Parallel(n_jobs=7)]: Done 5760 out of 5760 | elapsed:  6.1min finished\n"
     ]
    },
    {
     "data": {
      "text/plain": [
       "GridSearchCV(cv=KFold(n_splits=10, random_state=123, shuffle=True),\n",
       "             estimator=RandomForestClassifier(random_state=7), n_jobs=7,\n",
       "             param_grid={'bootstrap': (True, False),\n",
       "                         'class_weight': (None, 'balanced'),\n",
       "                         'criterion': ('gini', 'entropy'),\n",
       "                         'max_features': ('auto', 'sqrt', 'log2'),\n",
       "                         'n_estimators': (50, 100, 125, 150, 175, 200),\n",
       "                         'oob_score': (True, False),\n",
       "                         'warm_start': (True, False)},\n",
       "             scoring='accuracy', verbose=1)"
      ]
     },
     "execution_count": 25,
     "metadata": {},
     "output_type": "execute_result"
    }
   ],
   "source": [
    "gs_forest.fit(profiles, target)"
   ]
  },
  {
   "cell_type": "markdown",
   "metadata": {},
   "source": [
    "We can see the best parameters calculated from grid-search:"
   ]
  },
  {
   "cell_type": "code",
   "execution_count": 26,
   "metadata": {},
   "outputs": [
    {
     "data": {
      "text/plain": [
       "{'bootstrap': False,\n",
       " 'class_weight': None,\n",
       " 'criterion': 'gini',\n",
       " 'max_features': 'auto',\n",
       " 'n_estimators': 125,\n",
       " 'oob_score': False,\n",
       " 'warm_start': True}"
      ]
     },
     "execution_count": 26,
     "metadata": {},
     "output_type": "execute_result"
    }
   ],
   "source": [
    "gs_forest.best_params_"
   ]
  },
  {
   "cell_type": "markdown",
   "metadata": {},
   "source": [
    "We save the best estimator in a new variable to use it for cross-validation after: "
   ]
  },
  {
   "cell_type": "code",
   "execution_count": 27,
   "metadata": {},
   "outputs": [],
   "source": [
    "best_forest = gs_forest.best_estimator_"
   ]
  },
  {
   "cell_type": "markdown",
   "metadata": {},
   "source": [
    "Now k-fold cross validation with leave one out and for accuracy:"
   ]
  },
  {
   "cell_type": "code",
   "execution_count": 28,
   "metadata": {},
   "outputs": [
    {
     "name": "stdout",
     "output_type": "stream",
     "text": [
      "Mean: 0.9089935760171306\n",
      "Standard Deviation: 0.2876182448606479\n"
     ]
    }
   ],
   "source": [
    "scores = cross_val_score(best_forest, profiles, target,\n",
    "                        cv=loo, scoring='accuracy',n_jobs = -1)\n",
    "print_scores(scores)"
   ]
  },
  {
   "cell_type": "markdown",
   "metadata": {},
   "source": [
    "### Extremely randomized trees\n",
    "Now we will try extremely randomized trees.\n",
    "* Setting parameters:"
   ]
  },
  {
   "cell_type": "code",
   "execution_count": 29,
   "metadata": {},
   "outputs": [],
   "source": [
    "parameters = {'criterion': ('gini','entropy'),\n",
    "              'n_estimators': (50,75,100,125, 150,175,200),\n",
    "              'bootstrap':(True,False),\n",
    "              'oob_score':(True,False),\n",
    "              'max_features':('sqrt',None,'log2'),\n",
    "              'warm_start':(True,False),\n",
    "              'class_weight':(None,'balanced'),\n",
    "              'max_depth':(None,10)\n",
    "             }"
   ]
  },
  {
   "cell_type": "markdown",
   "metadata": {},
   "source": [
    "Defining the extremely randomized trees:"
   ]
  },
  {
   "cell_type": "code",
   "execution_count": 30,
   "metadata": {},
   "outputs": [],
   "source": [
    "extremely_rts = ExtraTreesClassifier(random_state=7)"
   ]
  },
  {
   "cell_type": "markdown",
   "metadata": {},
   "source": [
    "Next up the grid search classifier is declared:"
   ]
  },
  {
   "cell_type": "code",
   "execution_count": 31,
   "metadata": {},
   "outputs": [],
   "source": [
    "gs_random_trees = GridSearchCV(extremely_rts, parameters,n_jobs=7, cv=fold_10, scoring='accuracy',verbose=1)"
   ]
  },
  {
   "cell_type": "markdown",
   "metadata": {},
   "source": [
    "Now we can fit the model on the existing data to find the best parameters:"
   ]
  },
  {
   "cell_type": "code",
   "execution_count": 32,
   "metadata": {
    "scrolled": true
   },
   "outputs": [
    {
     "name": "stdout",
     "output_type": "stream",
     "text": [
      "Fitting 10 folds for each of 1344 candidates, totalling 13440 fits\n"
     ]
    },
    {
     "name": "stderr",
     "output_type": "stream",
     "text": [
      "[Parallel(n_jobs=7)]: Using backend LokyBackend with 7 concurrent workers.\n",
      "[Parallel(n_jobs=7)]: Done  36 tasks      | elapsed:    1.0s\n",
      "[Parallel(n_jobs=7)]: Done 186 tasks      | elapsed:    7.9s\n",
      "[Parallel(n_jobs=7)]: Done 436 tasks      | elapsed:   26.6s\n",
      "[Parallel(n_jobs=7)]: Done 786 tasks      | elapsed:   54.9s\n",
      "[Parallel(n_jobs=7)]: Done 1236 tasks      | elapsed:  1.3min\n",
      "[Parallel(n_jobs=7)]: Done 1786 tasks      | elapsed:  1.9min\n",
      "[Parallel(n_jobs=7)]: Done 2436 tasks      | elapsed:  2.7min\n",
      "[Parallel(n_jobs=7)]: Done 3186 tasks      | elapsed:  3.5min\n",
      "[Parallel(n_jobs=7)]: Done 4036 tasks      | elapsed:  4.4min\n",
      "[Parallel(n_jobs=7)]: Done 4986 tasks      | elapsed:  5.3min\n",
      "[Parallel(n_jobs=7)]: Done 6036 tasks      | elapsed:  6.4min\n",
      "[Parallel(n_jobs=7)]: Done 7561 tasks      | elapsed:  7.8min\n",
      "[Parallel(n_jobs=7)]: Done 10433 tasks      | elapsed:  9.4min\n",
      "[Parallel(n_jobs=7)]: Done 13271 tasks      | elapsed: 11.2min\n",
      "[Parallel(n_jobs=7)]: Done 13440 out of 13440 | elapsed: 11.3min finished\n",
      "C:\\Users\\stef4\\anaconda3\\lib\\site-packages\\sklearn\\ensemble\\_forest.py:586: UserWarning: class_weight presets \"balanced\" or \"balanced_subsample\" are not recommended for warm_start if the fitted data differs from the full dataset. In order to use \"balanced\" weights, use compute_class_weight (\"balanced\", classes, y). In place of y you can use a large enough sample of the full training set target to properly estimate the class frequency distributions. Pass the resulting weights as the class_weight parameter.\n",
      "  warn('class_weight presets \"balanced\" or '\n"
     ]
    },
    {
     "data": {
      "text/plain": [
       "GridSearchCV(cv=KFold(n_splits=10, random_state=123, shuffle=True),\n",
       "             estimator=ExtraTreesClassifier(random_state=7), n_jobs=7,\n",
       "             param_grid={'bootstrap': (True, False),\n",
       "                         'class_weight': (None, 'balanced'),\n",
       "                         'criterion': ('gini', 'entropy'),\n",
       "                         'max_depth': (None, 10),\n",
       "                         'max_features': ('sqrt', None, 'log2'),\n",
       "                         'n_estimators': (50, 75, 100, 125, 150, 175, 200),\n",
       "                         'oob_score': (True, False),\n",
       "                         'warm_start': (True, False)},\n",
       "             scoring='accuracy', verbose=1)"
      ]
     },
     "execution_count": 32,
     "metadata": {},
     "output_type": "execute_result"
    }
   ],
   "source": [
    "gs_random_trees.fit(profiles, target)"
   ]
  },
  {
   "cell_type": "markdown",
   "metadata": {},
   "source": [
    "We can see the best parameters calculated from grid-search:"
   ]
  },
  {
   "cell_type": "code",
   "execution_count": 33,
   "metadata": {},
   "outputs": [
    {
     "data": {
      "text/plain": [
       "{'bootstrap': False,\n",
       " 'class_weight': 'balanced',\n",
       " 'criterion': 'entropy',\n",
       " 'max_depth': 10,\n",
       " 'max_features': None,\n",
       " 'n_estimators': 75,\n",
       " 'oob_score': False,\n",
       " 'warm_start': True}"
      ]
     },
     "execution_count": 33,
     "metadata": {},
     "output_type": "execute_result"
    }
   ],
   "source": [
    "gs_random_trees.best_params_"
   ]
  },
  {
   "cell_type": "markdown",
   "metadata": {},
   "source": [
    "We save the best estimator in a new variable to use it for cross-validation after: "
   ]
  },
  {
   "cell_type": "code",
   "execution_count": 34,
   "metadata": {},
   "outputs": [],
   "source": [
    "best_random_trees = gs_random_trees.best_estimator_"
   ]
  },
  {
   "cell_type": "markdown",
   "metadata": {},
   "source": [
    "Now, k-fold cross validation with accuracy:"
   ]
  },
  {
   "cell_type": "code",
   "execution_count": 35,
   "metadata": {},
   "outputs": [
    {
     "name": "stdout",
     "output_type": "stream",
     "text": [
      "Mean: 0.9207708779443254\n",
      "Standard Deviation: 0.2700960352799751\n"
     ]
    }
   ],
   "source": [
    "scores = cross_val_score(best_random_trees, profiles, target,\n",
    "                        cv=loo, scoring='accuracy',n_jobs = -1)\n",
    "print_scores(scores)"
   ]
  },
  {
   "cell_type": "markdown",
   "metadata": {},
   "source": [
    "### Bagging classifier\n",
    "Now we will try bagging classifier\n",
    "* Setting parameters:"
   ]
  },
  {
   "cell_type": "code",
   "execution_count": 37,
   "metadata": {},
   "outputs": [],
   "source": [
    "parameters = {'warm_start': (True,False),\n",
    "              'bootstrap':(True,False),\n",
    "              'oob_score':(True,False),\n",
    "              'bootstrap_features':(True,False),\n",
    "              'n_estimators': (10,15,20,25,30,40,50,60,70,80),\n",
    "              'max_samples':(1,2,4,6,None),\n",
    "              'max_features':(1,2,4,6,None)\n",
    "             }"
   ]
  },
  {
   "cell_type": "markdown",
   "metadata": {},
   "source": [
    "Defining the bagging classifier:"
   ]
  },
  {
   "cell_type": "code",
   "execution_count": 38,
   "metadata": {},
   "outputs": [],
   "source": [
    "bagging_clf = BaggingClassifier(random_state=7)"
   ]
  },
  {
   "cell_type": "markdown",
   "metadata": {},
   "source": [
    "Next up the grid search classifier is declared:"
   ]
  },
  {
   "cell_type": "code",
   "execution_count": 39,
   "metadata": {},
   "outputs": [],
   "source": [
    "gs_bagging_clf = GridSearchCV(bagging_clf, parameters,n_jobs=7, cv=fold_10, scoring='accuracy',verbose=1)"
   ]
  },
  {
   "cell_type": "markdown",
   "metadata": {},
   "source": [
    "Now we can fit the model on the existing data to find the best parameters:"
   ]
  },
  {
   "cell_type": "code",
   "execution_count": 40,
   "metadata": {
    "scrolled": true
   },
   "outputs": [
    {
     "name": "stdout",
     "output_type": "stream",
     "text": [
      "Fitting 10 folds for each of 4000 candidates, totalling 40000 fits\n"
     ]
    },
    {
     "name": "stderr",
     "output_type": "stream",
     "text": [
      "[Parallel(n_jobs=7)]: Using backend LokyBackend with 7 concurrent workers.\n",
      "[Parallel(n_jobs=7)]: Done  74 tasks      | elapsed:    0.4s\n",
      "[Parallel(n_jobs=7)]: Done 764 tasks      | elapsed:    8.1s\n",
      "[Parallel(n_jobs=7)]: Done 2818 tasks      | elapsed:   27.2s\n",
      "[Parallel(n_jobs=7)]: Done 4715 tasks      | elapsed:   44.1s\n",
      "[Parallel(n_jobs=7)]: Done 7291 tasks      | elapsed:  1.2min\n",
      "[Parallel(n_jobs=7)]: Done 12742 tasks      | elapsed:  1.7min\n",
      "[Parallel(n_jobs=7)]: Done 17514 tasks      | elapsed:  2.5min\n",
      "[Parallel(n_jobs=7)]: Done 25994 tasks      | elapsed:  3.2min\n",
      "[Parallel(n_jobs=7)]: Done 35324 tasks      | elapsed:  3.9min\n",
      "[Parallel(n_jobs=7)]: Done 40000 out of 40000 | elapsed:  4.2min finished\n"
     ]
    },
    {
     "data": {
      "text/plain": [
       "GridSearchCV(cv=KFold(n_splits=10, random_state=123, shuffle=True),\n",
       "             estimator=BaggingClassifier(random_state=7), n_jobs=7,\n",
       "             param_grid={'bootstrap': (True, False),\n",
       "                         'bootstrap_features': (True, False),\n",
       "                         'max_features': (1, 2, 4, 6, None),\n",
       "                         'max_samples': (1, 2, 4, 6, None),\n",
       "                         'n_estimators': (10, 15, 20, 25, 30, 40, 50, 60, 70,\n",
       "                                          80),\n",
       "                         'oob_score': (True, False),\n",
       "                         'warm_start': (True, False)},\n",
       "             scoring='accuracy', verbose=1)"
      ]
     },
     "execution_count": 40,
     "metadata": {},
     "output_type": "execute_result"
    }
   ],
   "source": [
    "gs_bagging_clf.fit(profiles, target)"
   ]
  },
  {
   "cell_type": "markdown",
   "metadata": {},
   "source": [
    "We can see the best parameters calculated from grid-search:"
   ]
  },
  {
   "cell_type": "code",
   "execution_count": 41,
   "metadata": {},
   "outputs": [
    {
     "data": {
      "text/plain": [
       "{'bootstrap': True,\n",
       " 'bootstrap_features': True,\n",
       " 'max_features': 6,\n",
       " 'max_samples': 6,\n",
       " 'n_estimators': 60,\n",
       " 'oob_score': True,\n",
       " 'warm_start': False}"
      ]
     },
     "execution_count": 41,
     "metadata": {},
     "output_type": "execute_result"
    }
   ],
   "source": [
    "gs_bagging_clf.best_params_"
   ]
  },
  {
   "cell_type": "markdown",
   "metadata": {},
   "source": [
    "We save the best estimator in a new variable to use it for cross-validation after: "
   ]
  },
  {
   "cell_type": "code",
   "execution_count": 42,
   "metadata": {},
   "outputs": [],
   "source": [
    "best_bagging_clf = gs_bagging_clf.best_estimator_"
   ]
  },
  {
   "cell_type": "markdown",
   "metadata": {},
   "source": [
    "Firstly, k-fold cross validation with accuracy:"
   ]
  },
  {
   "cell_type": "code",
   "execution_count": 43,
   "metadata": {},
   "outputs": [
    {
     "name": "stdout",
     "output_type": "stream",
     "text": [
      "Mean: 0.7226980728051392\n",
      "Standard Deviation: 0.4476668050781484\n"
     ]
    }
   ],
   "source": [
    "scores = cross_val_score(best_bagging_clf, profiles, target,\n",
    "                        cv=loo, scoring='accuracy',n_jobs = -1)\n",
    "print_scores(scores)"
   ]
  },
  {
   "cell_type": "markdown",
   "metadata": {},
   "source": [
    "### AdaBoost classifier\n",
    "Now we will try boost classifier\n",
    "* Parameters:"
   ]
  },
  {
   "cell_type": "code",
   "execution_count": 45,
   "metadata": {},
   "outputs": [],
   "source": [
    "parameters = {'algorithm': ('SAMME','SAMME.R'),\n",
    "              'n_estimators': (50, 75, 100,125,150,175,200,250),\n",
    "              'learning_rate':(0.3, 0.5,0.7,1)\n",
    "             }"
   ]
  },
  {
   "cell_type": "markdown",
   "metadata": {},
   "source": [
    "Defining the boost classifier:"
   ]
  },
  {
   "cell_type": "code",
   "execution_count": 46,
   "metadata": {},
   "outputs": [],
   "source": [
    "clf = AdaBoostClassifier(random_state=7)"
   ]
  },
  {
   "cell_type": "markdown",
   "metadata": {},
   "source": [
    "Next up the grid search classifier is declared:"
   ]
  },
  {
   "cell_type": "code",
   "execution_count": 47,
   "metadata": {},
   "outputs": [],
   "source": [
    "gs_boost_clf = GridSearchCV(clf, parameters,n_jobs=7, cv=fold_10, scoring='accuracy',verbose=1)"
   ]
  },
  {
   "cell_type": "markdown",
   "metadata": {},
   "source": [
    "Now we can fit the model on the existing data to find the best parameters:"
   ]
  },
  {
   "cell_type": "code",
   "execution_count": 48,
   "metadata": {
    "scrolled": true
   },
   "outputs": [
    {
     "name": "stdout",
     "output_type": "stream",
     "text": [
      "Fitting 10 folds for each of 64 candidates, totalling 640 fits\n"
     ]
    },
    {
     "name": "stderr",
     "output_type": "stream",
     "text": [
      "[Parallel(n_jobs=7)]: Using backend LokyBackend with 7 concurrent workers.\n",
      "[Parallel(n_jobs=7)]: Done  36 tasks      | elapsed:    3.9s\n",
      "[Parallel(n_jobs=7)]: Done 186 tasks      | elapsed:   27.4s\n",
      "[Parallel(n_jobs=7)]: Done 436 tasks      | elapsed:  1.1min\n",
      "[Parallel(n_jobs=7)]: Done 640 out of 640 | elapsed:  1.7min finished\n"
     ]
    },
    {
     "data": {
      "text/plain": [
       "GridSearchCV(cv=KFold(n_splits=10, random_state=123, shuffle=True),\n",
       "             estimator=AdaBoostClassifier(random_state=7), n_jobs=7,\n",
       "             param_grid={'algorithm': ('SAMME', 'SAMME.R'),\n",
       "                         'learning_rate': (0.3, 0.5, 0.7, 1),\n",
       "                         'n_estimators': (50, 75, 100, 125, 150, 175, 200,\n",
       "                                          250)},\n",
       "             scoring='accuracy', verbose=1)"
      ]
     },
     "execution_count": 48,
     "metadata": {},
     "output_type": "execute_result"
    }
   ],
   "source": [
    "gs_boost_clf.fit(profiles, target)"
   ]
  },
  {
   "cell_type": "markdown",
   "metadata": {},
   "source": [
    "We can see the best parameters calculated from grid-search:"
   ]
  },
  {
   "cell_type": "code",
   "execution_count": 49,
   "metadata": {},
   "outputs": [
    {
     "data": {
      "text/plain": [
       "{'algorithm': 'SAMME.R', 'learning_rate': 0.7, 'n_estimators': 100}"
      ]
     },
     "execution_count": 49,
     "metadata": {},
     "output_type": "execute_result"
    }
   ],
   "source": [
    "gs_boost_clf.best_params_"
   ]
  },
  {
   "cell_type": "markdown",
   "metadata": {},
   "source": [
    "We save the best estimator in a new variable to use it for cross-validation after: "
   ]
  },
  {
   "cell_type": "code",
   "execution_count": 50,
   "metadata": {},
   "outputs": [],
   "source": [
    "best_boost_clf = gs_boost_clf.best_estimator_"
   ]
  },
  {
   "cell_type": "markdown",
   "metadata": {},
   "source": [
    "Firstly, k-fold cross validation with accuracy:"
   ]
  },
  {
   "cell_type": "code",
   "execution_count": 51,
   "metadata": {},
   "outputs": [
    {
     "name": "stdout",
     "output_type": "stream",
     "text": [
      "Mean: 0.9036402569593148\n",
      "Standard Deviation: 0.2950839591740262\n"
     ]
    }
   ],
   "source": [
    "scores = cross_val_score(best_boost_clf, profiles, target,\n",
    "                        cv=loo, scoring='accuracy',n_jobs = -1)\n",
    "print_scores(scores)"
   ]
  },
  {
   "cell_type": "markdown",
   "metadata": {},
   "source": [
    "### Naive Baynes classifier\n",
    "Now Gaussian classifier\n",
    "* Parameters:"
   ]
  },
  {
   "cell_type": "code",
   "execution_count": 52,
   "metadata": {},
   "outputs": [],
   "source": [
    "parameters = {'var_smoothing': (1e-9, 1e-10, 1e-11, 1e-12, 1e-13),\n",
    "              'priors': (None,[0.5, 0.5])\n",
    "             }"
   ]
  },
  {
   "cell_type": "markdown",
   "metadata": {},
   "source": [
    "Defining the model classifier:"
   ]
  },
  {
   "cell_type": "code",
   "execution_count": 53,
   "metadata": {},
   "outputs": [],
   "source": [
    "gaussian = GaussianNB()"
   ]
  },
  {
   "cell_type": "markdown",
   "metadata": {},
   "source": [
    "Next up the grid search classifier is declared:"
   ]
  },
  {
   "cell_type": "code",
   "execution_count": 54,
   "metadata": {},
   "outputs": [],
   "source": [
    "gs_gaussian = GridSearchCV(gaussian, parameters,n_jobs=7, cv=fold_10, scoring='accuracy',verbose=1)"
   ]
  },
  {
   "cell_type": "markdown",
   "metadata": {},
   "source": [
    "Now we can fit the model on the existing data to find the best parameters:"
   ]
  },
  {
   "cell_type": "code",
   "execution_count": 55,
   "metadata": {
    "scrolled": true
   },
   "outputs": [
    {
     "name": "stdout",
     "output_type": "stream",
     "text": [
      "Fitting 10 folds for each of 10 candidates, totalling 100 fits\n"
     ]
    },
    {
     "name": "stderr",
     "output_type": "stream",
     "text": [
      "[Parallel(n_jobs=7)]: Using backend LokyBackend with 7 concurrent workers.\n",
      "[Parallel(n_jobs=7)]: Done  87 out of 100 | elapsed:    0.2s remaining:    0.0s\n",
      "[Parallel(n_jobs=7)]: Done 100 out of 100 | elapsed:    0.2s finished\n"
     ]
    },
    {
     "data": {
      "text/plain": [
       "GridSearchCV(cv=KFold(n_splits=10, random_state=123, shuffle=True),\n",
       "             estimator=GaussianNB(), n_jobs=7,\n",
       "             param_grid={'priors': (None, [0.5, 0.5]),\n",
       "                         'var_smoothing': (1e-09, 1e-10, 1e-11, 1e-12, 1e-13)},\n",
       "             scoring='accuracy', verbose=1)"
      ]
     },
     "execution_count": 55,
     "metadata": {},
     "output_type": "execute_result"
    }
   ],
   "source": [
    "gs_gaussian.fit(profiles, target)"
   ]
  },
  {
   "cell_type": "markdown",
   "metadata": {},
   "source": [
    "We can see the best parameters calculated from grid-search:"
   ]
  },
  {
   "cell_type": "code",
   "execution_count": 56,
   "metadata": {},
   "outputs": [
    {
     "data": {
      "text/plain": [
       "{'priors': None, 'var_smoothing': 1e-13}"
      ]
     },
     "execution_count": 56,
     "metadata": {},
     "output_type": "execute_result"
    }
   ],
   "source": [
    "gs_gaussian.best_params_"
   ]
  },
  {
   "cell_type": "markdown",
   "metadata": {},
   "source": [
    "We save the best estimator in a new variable to use it for cross-validation after: "
   ]
  },
  {
   "cell_type": "code",
   "execution_count": 57,
   "metadata": {},
   "outputs": [],
   "source": [
    "best_gaussian = gs_gaussian.best_estimator_"
   ]
  },
  {
   "cell_type": "markdown",
   "metadata": {},
   "source": [
    "K-fold cross validation with accuracy:"
   ]
  },
  {
   "cell_type": "code",
   "execution_count": 58,
   "metadata": {},
   "outputs": [
    {
     "name": "stdout",
     "output_type": "stream",
     "text": [
      "Mean: 0.797644539614561\n",
      "Standard Deviation: 0.40175580647656606\n"
     ]
    }
   ],
   "source": [
    "scores = cross_val_score(best_gaussian, profiles, target,\n",
    "                        cv=loo, scoring='accuracy',n_jobs = -1)\n",
    "print_scores(scores)"
   ]
  },
  {
   "cell_type": "markdown",
   "metadata": {},
   "source": [
    "### Support vector machines\n",
    "Now we will try SVC.\n",
    "* Firstly, the parameters:"
   ]
  },
  {
   "cell_type": "code",
   "execution_count": 59,
   "metadata": {},
   "outputs": [],
   "source": [
    "parameters = {'SVC__C': (1, 0.85, 1.15,1.3),\n",
    "              'SVC__kernel': ('linear','poly','rbf', 'sigmoid', 'precomputed'),\n",
    "              'SVC__degree':(2,3,4),\n",
    "              'SVC__gamma':('auto','scale'),\n",
    "              'SVC__coef0':(0,0.5),\n",
    "              'SVC__shrinking':(True, False),\n",
    "              'SVC__probability':(True,False),\n",
    "              'SVC__decision_function_shape':('ovo', 'ovr'),\n",
    "              'SVC__tol':(1e-3, 1e-4, 1e-2)\n",
    "             }"
   ]
  },
  {
   "cell_type": "markdown",
   "metadata": {},
   "source": [
    "Defining the SVC classifier. In fact we have to create a pipeline because the SVM needs all the column data to be standardized meaning to have a mean of 0 and standard deviation of 1:"
   ]
  },
  {
   "cell_type": "code",
   "execution_count": 60,
   "metadata": {},
   "outputs": [],
   "source": [
    "clf = Pipeline(steps = [ ('scaler',StandardScaler()), ('SVC',SVC(random_state=7))])"
   ]
  },
  {
   "cell_type": "markdown",
   "metadata": {},
   "source": [
    "Next up the grid search classifier is declared:"
   ]
  },
  {
   "cell_type": "code",
   "execution_count": 61,
   "metadata": {},
   "outputs": [],
   "source": [
    "gs_clf = GridSearchCV(clf, parameters,n_jobs=7, cv=fold_10, scoring='accuracy',verbose=1)"
   ]
  },
  {
   "cell_type": "markdown",
   "metadata": {},
   "source": [
    "Now we can fit the model on the existing data to find the best parameters:"
   ]
  },
  {
   "cell_type": "code",
   "execution_count": 62,
   "metadata": {
    "scrolled": true
   },
   "outputs": [
    {
     "name": "stdout",
     "output_type": "stream",
     "text": [
      "Fitting 10 folds for each of 5760 candidates, totalling 57600 fits\n"
     ]
    },
    {
     "name": "stderr",
     "output_type": "stream",
     "text": [
      "[Parallel(n_jobs=7)]: Using backend LokyBackend with 7 concurrent workers.\n",
      "[Parallel(n_jobs=7)]: Done  36 tasks      | elapsed:    2.5s\n",
      "[Parallel(n_jobs=7)]: Done 186 tasks      | elapsed:    9.8s\n",
      "[Parallel(n_jobs=7)]: Done 533 tasks      | elapsed:   18.3s\n",
      "[Parallel(n_jobs=7)]: Done 1605 tasks      | elapsed:   53.5s\n",
      "[Parallel(n_jobs=7)]: Done 2671 tasks      | elapsed:  1.4min\n",
      "[Parallel(n_jobs=7)]: Done 3868 tasks      | elapsed:  2.1min\n",
      "[Parallel(n_jobs=7)]: Done 5666 tasks      | elapsed:  3.0min\n",
      "[Parallel(n_jobs=7)]: Done 7555 tasks      | elapsed:  3.9min\n",
      "[Parallel(n_jobs=7)]: Done 9891 tasks      | elapsed:  5.0min\n",
      "[Parallel(n_jobs=7)]: Done 12420 tasks      | elapsed:  6.2min\n",
      "[Parallel(n_jobs=7)]: Done 15279 tasks      | elapsed:  7.6min\n",
      "[Parallel(n_jobs=7)]: Done 18407 tasks      | elapsed:  9.2min\n",
      "[Parallel(n_jobs=7)]: Done 21872 tasks      | elapsed: 10.9min\n",
      "[Parallel(n_jobs=7)]: Done 25490 tasks      | elapsed: 12.6min\n",
      "[Parallel(n_jobs=7)]: Done 29053 tasks      | elapsed: 14.3min\n",
      "[Parallel(n_jobs=7)]: Done 32697 tasks      | elapsed: 16.2min\n",
      "[Parallel(n_jobs=7)]: Done 37039 tasks      | elapsed: 18.3min\n",
      "[Parallel(n_jobs=7)]: Done 41740 tasks      | elapsed: 20.6min\n",
      "[Parallel(n_jobs=7)]: Done 46449 tasks      | elapsed: 23.0min\n",
      "[Parallel(n_jobs=7)]: Done 51298 tasks      | elapsed: 25.5min\n",
      "[Parallel(n_jobs=7)]: Done 56903 tasks      | elapsed: 28.1min\n",
      "[Parallel(n_jobs=7)]: Done 57600 out of 57600 | elapsed: 28.4min finished\n"
     ]
    },
    {
     "data": {
      "text/plain": [
       "GridSearchCV(cv=KFold(n_splits=10, random_state=123, shuffle=True),\n",
       "             estimator=Pipeline(steps=[('scaler', StandardScaler()),\n",
       "                                       ('SVC', SVC(random_state=7))]),\n",
       "             n_jobs=7,\n",
       "             param_grid={'SVC__C': (1, 0.85, 1.15, 1.3), 'SVC__coef0': (0, 0.5),\n",
       "                         'SVC__decision_function_shape': ('ovo', 'ovr'),\n",
       "                         'SVC__degree': (2, 3, 4),\n",
       "                         'SVC__gamma': ('auto', 'scale'),\n",
       "                         'SVC__kernel': ('linear', 'poly', 'rbf', 'sigmoid',\n",
       "                                         'precomputed'),\n",
       "                         'SVC__probability': (True, False),\n",
       "                         'SVC__shrinking': (True, False),\n",
       "                         'SVC__tol': (0.001, 0.0001, 0.01)},\n",
       "             scoring='accuracy', verbose=1)"
      ]
     },
     "execution_count": 62,
     "metadata": {},
     "output_type": "execute_result"
    }
   ],
   "source": [
    "gs_clf.fit(profiles, target)"
   ]
  },
  {
   "cell_type": "markdown",
   "metadata": {},
   "source": [
    "We can see the best parameters calculated from grid-search:"
   ]
  },
  {
   "cell_type": "code",
   "execution_count": 63,
   "metadata": {},
   "outputs": [
    {
     "data": {
      "text/plain": [
       "{'SVC__C': 1.3,\n",
       " 'SVC__coef0': 0.5,\n",
       " 'SVC__decision_function_shape': 'ovo',\n",
       " 'SVC__degree': 2,\n",
       " 'SVC__gamma': 'scale',\n",
       " 'SVC__kernel': 'poly',\n",
       " 'SVC__probability': True,\n",
       " 'SVC__shrinking': True,\n",
       " 'SVC__tol': 0.001}"
      ]
     },
     "execution_count": 63,
     "metadata": {},
     "output_type": "execute_result"
    }
   ],
   "source": [
    "gs_clf.best_params_"
   ]
  },
  {
   "cell_type": "markdown",
   "metadata": {},
   "source": [
    "We save the best estimator in a new variable to use it for cross-validation after: "
   ]
  },
  {
   "cell_type": "code",
   "execution_count": 64,
   "metadata": {},
   "outputs": [],
   "source": [
    "best_svc = gs_clf.best_estimator_"
   ]
  },
  {
   "cell_type": "markdown",
   "metadata": {},
   "source": [
    "K-fold cross validation with accuracy:"
   ]
  },
  {
   "cell_type": "code",
   "execution_count": 65,
   "metadata": {},
   "outputs": [
    {
     "name": "stdout",
     "output_type": "stream",
     "text": [
      "Mean: 0.9089935760171306\n",
      "Standard Deviation: 0.28761824486064785\n"
     ]
    }
   ],
   "source": [
    "scores = cross_val_score(best_svc, profiles, target,\n",
    "                        cv=loo, scoring='accuracy',n_jobs = -1)\n",
    "print_scores(scores)"
   ]
  },
  {
   "cell_type": "markdown",
   "metadata": {},
   "source": [
    "### SGD \n",
    "Next up stochastic gradient descent. \n",
    "* Parameters:"
   ]
  },
  {
   "cell_type": "code",
   "execution_count": 66,
   "metadata": {},
   "outputs": [],
   "source": [
    "parameters = {'SGD__loss': ('hinge','log','modified_huber','squared_hinge','perceptron'),\n",
    "              'SGD__penalty': ('l1','l2','elasticnet'),\n",
    "              'SGD__alpha': (0.001, 0.0005, 0.0001, 0.00001),\n",
    "              'SGD__fit_intercept': (True, False),\n",
    "              'SGD__validation_fraction':(0.1, 0.2),\n",
    "              'SGD__early_stopping':(True, False),\n",
    "              #'SGD__learning_rate':('constant','optimal','invscaling','adaptive'),\n",
    "              'SGD__tol':(1e-2,1e-3,1e-4),\n",
    "              'SGD__class_weight': (None,'balanced'),\n",
    "              'SGD__average':(True,False)\n",
    "             }"
   ]
  },
  {
   "cell_type": "markdown",
   "metadata": {},
   "source": [
    "Defining the SGD classifier. In fact we have to create a pipeline because the SGD needs all the column data to be standardized meaning to have a mean of 0 and standard deviation of 1:"
   ]
  },
  {
   "cell_type": "code",
   "execution_count": 67,
   "metadata": {},
   "outputs": [],
   "source": [
    "clf = Pipeline(steps = [ ('scaler',StandardScaler()), ('SGD',SGDClassifier(random_state=7))])"
   ]
  },
  {
   "cell_type": "markdown",
   "metadata": {},
   "source": [
    "Next up the grid search classifier is declared:"
   ]
  },
  {
   "cell_type": "code",
   "execution_count": 68,
   "metadata": {},
   "outputs": [],
   "source": [
    "gs_clf = GridSearchCV(clf, parameters,n_jobs=7, cv=fold_10, scoring='accuracy',verbose=1)"
   ]
  },
  {
   "cell_type": "markdown",
   "metadata": {},
   "source": [
    "Now we can fit the model on the existing data to find the best parameters:"
   ]
  },
  {
   "cell_type": "code",
   "execution_count": 69,
   "metadata": {
    "scrolled": true
   },
   "outputs": [
    {
     "name": "stdout",
     "output_type": "stream",
     "text": [
      "Fitting 10 folds for each of 5760 candidates, totalling 57600 fits\n"
     ]
    },
    {
     "name": "stderr",
     "output_type": "stream",
     "text": [
      "[Parallel(n_jobs=7)]: Using backend LokyBackend with 7 concurrent workers.\n",
      "[Parallel(n_jobs=7)]: Done  74 tasks      | elapsed:    0.5s\n",
      "[Parallel(n_jobs=7)]: Done 1250 tasks      | elapsed:    5.9s\n",
      "[Parallel(n_jobs=7)]: Done 2654 tasks      | elapsed:   20.8s\n",
      "[Parallel(n_jobs=7)]: Done 3718 tasks      | elapsed:   36.0s\n",
      "[Parallel(n_jobs=7)]: Done 5518 tasks      | elapsed:   45.3s\n",
      "[Parallel(n_jobs=7)]: Done 7396 tasks      | elapsed:  1.2min\n",
      "[Parallel(n_jobs=7)]: Done 9660 tasks      | elapsed:  1.4min\n",
      "[Parallel(n_jobs=7)]: Done 12506 tasks      | elapsed:  1.8min\n",
      "[Parallel(n_jobs=7)]: Done 15906 tasks      | elapsed:  2.3min\n",
      "[Parallel(n_jobs=7)]: Done 19461 tasks      | elapsed:  2.8min\n",
      "[Parallel(n_jobs=7)]: Done 23661 tasks      | elapsed:  3.3min\n",
      "[Parallel(n_jobs=7)]: Done 28443 tasks      | elapsed:  4.0min\n",
      "[Parallel(n_jobs=7)]: Done 33443 tasks      | elapsed:  4.5min\n",
      "[Parallel(n_jobs=7)]: Done 38843 tasks      | elapsed:  5.0min\n",
      "[Parallel(n_jobs=7)]: Done 44643 tasks      | elapsed:  5.6min\n",
      "[Parallel(n_jobs=7)]: Done 50843 tasks      | elapsed:  6.2min\n",
      "[Parallel(n_jobs=7)]: Done 57443 tasks      | elapsed:  6.8min\n",
      "[Parallel(n_jobs=7)]: Done 57600 out of 57600 | elapsed:  6.8min finished\n"
     ]
    },
    {
     "data": {
      "text/plain": [
       "GridSearchCV(cv=KFold(n_splits=10, random_state=123, shuffle=True),\n",
       "             estimator=Pipeline(steps=[('scaler', StandardScaler()),\n",
       "                                       ('SGD', SGDClassifier(random_state=7))]),\n",
       "             n_jobs=7,\n",
       "             param_grid={'SGD__alpha': (0.001, 0.0005, 0.0001, 1e-05),\n",
       "                         'SGD__average': (True, False),\n",
       "                         'SGD__class_weight': (None, 'balanced'),\n",
       "                         'SGD__early_stopping': (True, False),\n",
       "                         'SGD__fit_intercept': (True, False),\n",
       "                         'SGD__loss': ('hinge', 'log', 'modified_huber',\n",
       "                                       'squared_hinge', 'perceptron'),\n",
       "                         'SGD__penalty': ('l1', 'l2', 'elasticnet'),\n",
       "                         'SGD__tol': (0.01, 0.001, 0.0001),\n",
       "                         'SGD__validation_fraction': (0.1, 0.2)},\n",
       "             scoring='accuracy', verbose=1)"
      ]
     },
     "execution_count": 69,
     "metadata": {},
     "output_type": "execute_result"
    }
   ],
   "source": [
    "gs_clf.fit(profiles, target)"
   ]
  },
  {
   "cell_type": "markdown",
   "metadata": {},
   "source": [
    "We can see the best parameters calculated from grid-search:"
   ]
  },
  {
   "cell_type": "code",
   "execution_count": 70,
   "metadata": {},
   "outputs": [
    {
     "data": {
      "text/plain": [
       "{'SGD__alpha': 0.0005,\n",
       " 'SGD__average': True,\n",
       " 'SGD__class_weight': 'balanced',\n",
       " 'SGD__early_stopping': True,\n",
       " 'SGD__fit_intercept': True,\n",
       " 'SGD__loss': 'modified_huber',\n",
       " 'SGD__penalty': 'elasticnet',\n",
       " 'SGD__tol': 0.01,\n",
       " 'SGD__validation_fraction': 0.1}"
      ]
     },
     "execution_count": 70,
     "metadata": {},
     "output_type": "execute_result"
    }
   ],
   "source": [
    "gs_clf.best_params_"
   ]
  },
  {
   "cell_type": "markdown",
   "metadata": {},
   "source": [
    "We save the best estimator in a new variable to use it for cross-validation after: "
   ]
  },
  {
   "cell_type": "code",
   "execution_count": 71,
   "metadata": {},
   "outputs": [],
   "source": [
    "best_sgd = gs_clf.best_estimator_"
   ]
  },
  {
   "cell_type": "markdown",
   "metadata": {},
   "source": [
    "K-fold cross validation with accuracy:"
   ]
  },
  {
   "cell_type": "code",
   "execution_count": 72,
   "metadata": {},
   "outputs": [
    {
     "name": "stdout",
     "output_type": "stream",
     "text": [
      "Mean: 0.8961456102783726\n",
      "Standard Deviation: 0.30507155792891566\n"
     ]
    }
   ],
   "source": [
    "scores = cross_val_score(best_sgd, profiles, target,\n",
    "                        cv=loo, scoring='accuracy',n_jobs = -1)\n",
    "print_scores(scores)"
   ]
  },
  {
   "cell_type": "markdown",
   "metadata": {},
   "source": [
    "### KNeighborsClassifier\n",
    "Now k nearest neighbors will be used.\n",
    "* Parameters:"
   ]
  },
  {
   "cell_type": "code",
   "execution_count": 73,
   "metadata": {},
   "outputs": [],
   "source": [
    "parameters = {'n_neighbors': range(1,70),\n",
    "              'weights': ('uniform','distance'),\n",
    "              'algorithm':('auto', 'ball_tree', 'kd_tree', 'brute'),\n",
    "              'p':(1,2),\n",
    "              #'metric': ('precomputed','minkowski'),\n",
    "              'leaf_size':(5,10,20,30,40)\n",
    "             }"
   ]
  },
  {
   "cell_type": "markdown",
   "metadata": {},
   "source": [
    "Defining the model classifier:"
   ]
  },
  {
   "cell_type": "code",
   "execution_count": 74,
   "metadata": {},
   "outputs": [],
   "source": [
    "neigh_clf = KNeighborsClassifier()"
   ]
  },
  {
   "cell_type": "markdown",
   "metadata": {},
   "source": [
    "Next up the grid search classifier is declared:"
   ]
  },
  {
   "cell_type": "code",
   "execution_count": 75,
   "metadata": {},
   "outputs": [],
   "source": [
    "gs_neigh = GridSearchCV(neigh_clf, parameters,n_jobs=7, cv=fold_10, scoring='accuracy',verbose=1)"
   ]
  },
  {
   "cell_type": "markdown",
   "metadata": {},
   "source": [
    "Now we can fit the model on the existing data to find the best parameters:"
   ]
  },
  {
   "cell_type": "code",
   "execution_count": 76,
   "metadata": {
    "scrolled": true
   },
   "outputs": [
    {
     "name": "stdout",
     "output_type": "stream",
     "text": [
      "Fitting 10 folds for each of 5520 candidates, totalling 55200 fits\n"
     ]
    },
    {
     "name": "stderr",
     "output_type": "stream",
     "text": [
      "[Parallel(n_jobs=7)]: Using backend LokyBackend with 7 concurrent workers.\n",
      "[Parallel(n_jobs=7)]: Done  74 tasks      | elapsed:    0.8s\n",
      "[Parallel(n_jobs=7)]: Done 674 tasks      | elapsed:    5.8s\n",
      "[Parallel(n_jobs=7)]: Done 1674 tasks      | elapsed:   14.5s\n",
      "[Parallel(n_jobs=7)]: Done 3074 tasks      | elapsed:   26.6s\n",
      "[Parallel(n_jobs=7)]: Done 4874 tasks      | elapsed:   43.3s\n",
      "[Parallel(n_jobs=7)]: Done 7074 tasks      | elapsed:   59.9s\n",
      "[Parallel(n_jobs=7)]: Done 9674 tasks      | elapsed:  1.3min\n",
      "[Parallel(n_jobs=7)]: Done 12674 tasks      | elapsed:  1.6min\n",
      "[Parallel(n_jobs=7)]: Done 16074 tasks      | elapsed:  2.0min\n",
      "[Parallel(n_jobs=7)]: Done 19874 tasks      | elapsed:  2.3min\n",
      "[Parallel(n_jobs=7)]: Done 24074 tasks      | elapsed:  2.7min\n",
      "[Parallel(n_jobs=7)]: Done 28674 tasks      | elapsed:  3.1min\n",
      "[Parallel(n_jobs=7)]: Done 33674 tasks      | elapsed:  3.7min\n",
      "[Parallel(n_jobs=7)]: Done 39074 tasks      | elapsed:  4.3min\n",
      "[Parallel(n_jobs=7)]: Done 54854 tasks      | elapsed:  5.2min\n",
      "[Parallel(n_jobs=7)]: Done 55200 out of 55200 | elapsed:  5.2min finished\n"
     ]
    },
    {
     "data": {
      "text/plain": [
       "GridSearchCV(cv=KFold(n_splits=10, random_state=123, shuffle=True),\n",
       "             estimator=KNeighborsClassifier(), n_jobs=7,\n",
       "             param_grid={'algorithm': ('auto', 'ball_tree', 'kd_tree', 'brute'),\n",
       "                         'leaf_size': (5, 10, 20, 30, 40),\n",
       "                         'n_neighbors': range(1, 70), 'p': (1, 2),\n",
       "                         'weights': ('uniform', 'distance')},\n",
       "             scoring='accuracy', verbose=1)"
      ]
     },
     "execution_count": 76,
     "metadata": {},
     "output_type": "execute_result"
    }
   ],
   "source": [
    "gs_neigh.fit(profiles, target)"
   ]
  },
  {
   "cell_type": "markdown",
   "metadata": {},
   "source": [
    "We can see the best parameters calculated from grid-search:"
   ]
  },
  {
   "cell_type": "code",
   "execution_count": 77,
   "metadata": {},
   "outputs": [
    {
     "data": {
      "text/plain": [
       "{'algorithm': 'auto',\n",
       " 'leaf_size': 5,\n",
       " 'n_neighbors': 56,\n",
       " 'p': 1,\n",
       " 'weights': 'distance'}"
      ]
     },
     "execution_count": 77,
     "metadata": {},
     "output_type": "execute_result"
    }
   ],
   "source": [
    "gs_neigh.best_params_"
   ]
  },
  {
   "cell_type": "markdown",
   "metadata": {},
   "source": [
    "We save the best estimator in a new variable to use it for cross-validation after: "
   ]
  },
  {
   "cell_type": "code",
   "execution_count": 78,
   "metadata": {},
   "outputs": [],
   "source": [
    "best_neigh = gs_neigh.best_estimator_"
   ]
  },
  {
   "cell_type": "markdown",
   "metadata": {},
   "source": [
    "K-fold cross validation with accuracy:"
   ]
  },
  {
   "cell_type": "code",
   "execution_count": 79,
   "metadata": {},
   "outputs": [
    {
     "name": "stdout",
     "output_type": "stream",
     "text": [
      "Mean: 0.7098501070663812\n",
      "Standard Deviation: 0.45383139221987323\n"
     ]
    }
   ],
   "source": [
    "scores = cross_val_score(best_neigh, profiles, target,\n",
    "                        cv=loo, scoring='accuracy',n_jobs = -1)\n",
    "print_scores(scores)"
   ]
  },
  {
   "cell_type": "markdown",
   "metadata": {},
   "source": [
    "### Logistic regression\n",
    "Logistic regression will also be used.\n",
    "* Parameters:"
   ]
  },
  {
   "cell_type": "code",
   "execution_count": 80,
   "metadata": {},
   "outputs": [],
   "source": [
    "parameters = {'penalty': ('l1', 'l2', 'elasticnet', 'none'),\n",
    "              'tol': (1e-3, 1e-4, 1e-5),\n",
    "              'C':(0.8,0.9, 1 , 1.1, 1.2),\n",
    "              'fit_intercept':(True,False),\n",
    "              'intercept_scaling': (0.8, 1, 1.2),\n",
    "              'class_weight':('balanced',None),\n",
    "              'solver':('newton-cg', 'lbfgs', 'liblinear', 'sag', 'saga'),\n",
    "              'multi_class':('auto', 'ovr', 'multinomial'),\n",
    "              'warm_start':(True, False)\n",
    "             }"
   ]
  },
  {
   "cell_type": "markdown",
   "metadata": {},
   "source": [
    "Defining the model classifier:"
   ]
  },
  {
   "cell_type": "code",
   "execution_count": 81,
   "metadata": {},
   "outputs": [],
   "source": [
    "clf = LogisticRegression(random_state=7, solver='liblinear')"
   ]
  },
  {
   "cell_type": "markdown",
   "metadata": {},
   "source": [
    "Next up the grid search classifier is declared:"
   ]
  },
  {
   "cell_type": "code",
   "execution_count": 82,
   "metadata": {},
   "outputs": [],
   "source": [
    "gs_log_clf = GridSearchCV(clf, parameters,n_jobs=7, cv=fold_10, scoring='accuracy',verbose=1)"
   ]
  },
  {
   "cell_type": "markdown",
   "metadata": {},
   "source": [
    "Now we can fit the model on the existing data to find the best parameters:"
   ]
  },
  {
   "cell_type": "code",
   "execution_count": 83,
   "metadata": {
    "scrolled": true
   },
   "outputs": [
    {
     "name": "stdout",
     "output_type": "stream",
     "text": [
      "Fitting 10 folds for each of 21600 candidates, totalling 216000 fits\n"
     ]
    },
    {
     "name": "stderr",
     "output_type": "stream",
     "text": [
      "[Parallel(n_jobs=7)]: Using backend LokyBackend with 7 concurrent workers.\n",
      "[Parallel(n_jobs=7)]: Done  74 tasks      | elapsed:    0.1s\n",
      "[Parallel(n_jobs=7)]: Done 883 tasks      | elapsed:   21.0s\n",
      "[Parallel(n_jobs=7)]: Done 2153 tasks      | elapsed:   51.3s\n",
      "[Parallel(n_jobs=7)]: Done 3909 tasks      | elapsed:  1.7min\n",
      "[Parallel(n_jobs=7)]: Done 5149 tasks      | elapsed:  2.3min\n",
      "[Parallel(n_jobs=7)]: Done 7503 tasks      | elapsed:  3.3min\n",
      "[Parallel(n_jobs=7)]: Done 10094 tasks      | elapsed:  4.4min\n",
      "[Parallel(n_jobs=7)]: Done 12523 tasks      | elapsed:  5.5min\n",
      "[Parallel(n_jobs=7)]: Done 15992 tasks      | elapsed:  7.2min\n",
      "[Parallel(n_jobs=7)]: Done 19679 tasks      | elapsed:  8.8min\n",
      "[Parallel(n_jobs=7)]: Done 24593 tasks      | elapsed: 10.8min\n",
      "[Parallel(n_jobs=7)]: Done 29770 tasks      | elapsed: 13.1min\n",
      "[Parallel(n_jobs=7)]: Done 35575 tasks      | elapsed: 15.2min\n",
      "[Parallel(n_jobs=7)]: Done 41284 tasks      | elapsed: 17.5min\n",
      "[Parallel(n_jobs=7)]: Done 47902 tasks      | elapsed: 20.5min\n",
      "[Parallel(n_jobs=7)]: Done 53958 tasks      | elapsed: 23.2min\n",
      "[Parallel(n_jobs=7)]: Done 60942 tasks      | elapsed: 26.2min\n",
      "[Parallel(n_jobs=7)]: Done 67797 tasks      | elapsed: 28.9min\n",
      "[Parallel(n_jobs=7)]: Done 76003 tasks      | elapsed: 32.5min\n",
      "[Parallel(n_jobs=7)]: Done 84310 tasks      | elapsed: 35.9min\n",
      "[Parallel(n_jobs=7)]: Done 92771 tasks      | elapsed: 39.7min\n",
      "[Parallel(n_jobs=7)]: Done 101323 tasks      | elapsed: 43.6min\n",
      "[Parallel(n_jobs=7)]: Done 110779 tasks      | elapsed: 47.9min\n",
      "[Parallel(n_jobs=7)]: Done 121575 tasks      | elapsed: 52.5min\n",
      "[Parallel(n_jobs=7)]: Done 131368 tasks      | elapsed: 56.5min\n",
      "[Parallel(n_jobs=7)]: Done 141978 tasks      | elapsed: 61.7min\n",
      "[Parallel(n_jobs=7)]: Done 152898 tasks      | elapsed: 66.5min\n",
      "[Parallel(n_jobs=7)]: Done 164633 tasks      | elapsed: 71.3min\n",
      "[Parallel(n_jobs=7)]: Done 176816 tasks      | elapsed: 76.4min\n",
      "[Parallel(n_jobs=7)]: Done 188638 tasks      | elapsed: 81.4min\n",
      "[Parallel(n_jobs=7)]: Done 202055 tasks      | elapsed: 87.0min\n",
      "[Parallel(n_jobs=7)]: Done 214352 tasks      | elapsed: 92.0min\n",
      "[Parallel(n_jobs=7)]: Done 216000 out of 216000 | elapsed: 92.8min finished\n"
     ]
    },
    {
     "data": {
      "text/plain": [
       "GridSearchCV(cv=KFold(n_splits=10, random_state=123, shuffle=True),\n",
       "             estimator=LogisticRegression(random_state=7, solver='liblinear'),\n",
       "             n_jobs=7,\n",
       "             param_grid={'C': (0.8, 0.9, 1, 1.1, 1.2),\n",
       "                         'class_weight': ('balanced', None),\n",
       "                         'fit_intercept': (True, False),\n",
       "                         'intercept_scaling': (0.8, 1, 1.2),\n",
       "                         'multi_class': ('auto', 'ovr', 'multinomial'),\n",
       "                         'penalty': ('l1', 'l2', 'elasticnet', 'none'),\n",
       "                         'solver': ('newton-cg', 'lbfgs', 'liblinear', 'sag',\n",
       "                                    'saga'),\n",
       "                         'tol': (0.001, 0.0001, 1e-05),\n",
       "                         'warm_start': (True, False)},\n",
       "             scoring='accuracy', verbose=1)"
      ]
     },
     "execution_count": 83,
     "metadata": {},
     "output_type": "execute_result"
    }
   ],
   "source": [
    "gs_log_clf.fit(profiles, target)"
   ]
  },
  {
   "cell_type": "markdown",
   "metadata": {},
   "source": [
    "We can see the best parameters calculated from grid-search:"
   ]
  },
  {
   "cell_type": "code",
   "execution_count": 84,
   "metadata": {},
   "outputs": [
    {
     "data": {
      "text/plain": [
       "{'C': 1,\n",
       " 'class_weight': None,\n",
       " 'fit_intercept': False,\n",
       " 'intercept_scaling': 0.8,\n",
       " 'multi_class': 'auto',\n",
       " 'penalty': 'l1',\n",
       " 'solver': 'liblinear',\n",
       " 'tol': 0.001,\n",
       " 'warm_start': True}"
      ]
     },
     "execution_count": 84,
     "metadata": {},
     "output_type": "execute_result"
    }
   ],
   "source": [
    "gs_log_clf.best_params_"
   ]
  },
  {
   "cell_type": "markdown",
   "metadata": {},
   "source": [
    "We save the best estimator in a new variable to use it for cross-validation after: "
   ]
  },
  {
   "cell_type": "code",
   "execution_count": 85,
   "metadata": {},
   "outputs": [],
   "source": [
    "best_log = gs_log_clf.best_estimator_"
   ]
  },
  {
   "cell_type": "markdown",
   "metadata": {},
   "source": [
    "K-fold cross validation with accuracy:"
   ]
  },
  {
   "cell_type": "code",
   "execution_count": 86,
   "metadata": {},
   "outputs": [
    {
     "name": "stdout",
     "output_type": "stream",
     "text": [
      "Mean: 0.9057815845824411\n",
      "Standard Deviation: 0.29213234263559934\n"
     ]
    }
   ],
   "source": [
    "scores = cross_val_score(best_log, profiles, target,\n",
    "                        cv=loo, scoring='accuracy',n_jobs = -1)\n",
    "print_scores(scores)"
   ]
  },
  {
   "cell_type": "markdown",
   "metadata": {},
   "source": [
    "## LightGBM\n",
    "Now we will try lightgbm:"
   ]
  },
  {
   "cell_type": "code",
   "execution_count": 87,
   "metadata": {},
   "outputs": [],
   "source": [
    "import lightgbm as lgb"
   ]
  },
  {
   "cell_type": "markdown",
   "metadata": {},
   "source": [
    "Setting parameters:"
   ]
  },
  {
   "cell_type": "code",
   "execution_count": 88,
   "metadata": {},
   "outputs": [],
   "source": [
    "parameters = {'boosting_type': ('gbdt', 'dart', 'goss','rf'),\n",
    "              'max_depth': (-1,-5,-10),\n",
    "              'learning_rate':(0.1, 0.3, 0.5),\n",
    "              'n_estimators':(100, 125,150,175, 200),\n",
    "              'class_weight': (None,'balanced'),\n",
    "              'min_child_weight':(1e-3,1e-4),\n",
    "              'min_child_samples':(20,30)\n",
    "             }"
   ]
  },
  {
   "cell_type": "markdown",
   "metadata": {},
   "source": [
    "Defining the model classifier:"
   ]
  },
  {
   "cell_type": "code",
   "execution_count": 89,
   "metadata": {},
   "outputs": [],
   "source": [
    "clf = lgb.LGBMClassifier(random_state=7)"
   ]
  },
  {
   "cell_type": "markdown",
   "metadata": {},
   "source": [
    "Next up the grid search classifier is declared:"
   ]
  },
  {
   "cell_type": "code",
   "execution_count": 90,
   "metadata": {},
   "outputs": [],
   "source": [
    "gs_lgb = GridSearchCV(clf, parameters,n_jobs=7, scoring='accuracy',verbose=1, cv=fold_10)"
   ]
  },
  {
   "cell_type": "markdown",
   "metadata": {},
   "source": [
    "Now we can fit the model on the existing data to find the best parameters:"
   ]
  },
  {
   "cell_type": "code",
   "execution_count": 91,
   "metadata": {
    "scrolled": true
   },
   "outputs": [
    {
     "name": "stdout",
     "output_type": "stream",
     "text": [
      "Fitting 10 folds for each of 1440 candidates, totalling 14400 fits\n"
     ]
    },
    {
     "name": "stderr",
     "output_type": "stream",
     "text": [
      "[Parallel(n_jobs=7)]: Using backend LokyBackend with 7 concurrent workers.\n",
      "[Parallel(n_jobs=7)]: Done  36 tasks      | elapsed:    5.6s\n",
      "[Parallel(n_jobs=7)]: Done 186 tasks      | elapsed:   24.6s\n",
      "[Parallel(n_jobs=7)]: Done 436 tasks      | elapsed:   57.8s\n",
      "[Parallel(n_jobs=7)]: Done 786 tasks      | elapsed:  1.6min\n",
      "[Parallel(n_jobs=7)]: Done 1236 tasks      | elapsed:  2.1min\n",
      "[Parallel(n_jobs=7)]: Done 1786 tasks      | elapsed:  2.6min\n",
      "[Parallel(n_jobs=7)]: Done 2436 tasks      | elapsed:  3.9min\n",
      "[Parallel(n_jobs=7)]: Done 3186 tasks      | elapsed:  4.8min\n",
      "[Parallel(n_jobs=7)]: Done 4036 tasks      | elapsed:  6.1min\n",
      "[Parallel(n_jobs=7)]: Done 4986 tasks      | elapsed:  8.3min\n",
      "[Parallel(n_jobs=7)]: Done 6036 tasks      | elapsed: 10.6min\n",
      "[Parallel(n_jobs=7)]: Done 7186 tasks      | elapsed: 13.2min\n",
      "[Parallel(n_jobs=7)]: Done 8436 tasks      | elapsed: 13.9min\n",
      "[Parallel(n_jobs=7)]: Done 9786 tasks      | elapsed: 14.6min\n",
      "[Parallel(n_jobs=7)]: Done 13994 tasks      | elapsed: 15.3min\n",
      "[Parallel(n_jobs=7)]: Done 14400 out of 14400 | elapsed: 15.3min finished\n"
     ]
    },
    {
     "data": {
      "text/plain": [
       "GridSearchCV(cv=KFold(n_splits=10, random_state=123, shuffle=True),\n",
       "             estimator=LGBMClassifier(random_state=7), n_jobs=7,\n",
       "             param_grid={'boosting_type': ('gbdt', 'dart', 'goss', 'rf'),\n",
       "                         'class_weight': (None, 'balanced'),\n",
       "                         'learning_rate': (0.1, 0.3, 0.5),\n",
       "                         'max_depth': (-1, -5, -10),\n",
       "                         'min_child_samples': (20, 30),\n",
       "                         'min_child_weight': (0.001, 0.0001),\n",
       "                         'n_estimators': (100, 125, 150, 175, 200)},\n",
       "             scoring='accuracy', verbose=1)"
      ]
     },
     "execution_count": 91,
     "metadata": {},
     "output_type": "execute_result"
    }
   ],
   "source": [
    "gs_lgb.fit(profiles, target)"
   ]
  },
  {
   "cell_type": "markdown",
   "metadata": {},
   "source": [
    "We can see the best parameters calculated from grid-search:"
   ]
  },
  {
   "cell_type": "code",
   "execution_count": 92,
   "metadata": {},
   "outputs": [
    {
     "data": {
      "text/plain": [
       "{'boosting_type': 'dart',\n",
       " 'class_weight': None,\n",
       " 'learning_rate': 0.3,\n",
       " 'max_depth': -1,\n",
       " 'min_child_samples': 30,\n",
       " 'min_child_weight': 0.001,\n",
       " 'n_estimators': 200}"
      ]
     },
     "execution_count": 92,
     "metadata": {},
     "output_type": "execute_result"
    }
   ],
   "source": [
    "gs_lgb.best_params_"
   ]
  },
  {
   "cell_type": "markdown",
   "metadata": {},
   "source": [
    "We save the best estimator in a new variable to use it for cross-validation after: "
   ]
  },
  {
   "cell_type": "code",
   "execution_count": 93,
   "metadata": {},
   "outputs": [],
   "source": [
    "best_lgb = gs_lgb.best_estimator_"
   ]
  },
  {
   "cell_type": "markdown",
   "metadata": {},
   "source": [
    "K-fold cross validation with accuracy:"
   ]
  },
  {
   "cell_type": "code",
   "execution_count": 94,
   "metadata": {},
   "outputs": [
    {
     "name": "stdout",
     "output_type": "stream",
     "text": [
      "Mean: 0.9036402569593148\n",
      "Standard Deviation: 0.2950839591740262\n"
     ]
    }
   ],
   "source": [
    "scores = cross_val_score(best_lgb, profiles, target,\n",
    "                        cv=loo, scoring='accuracy',n_jobs = -1)\n",
    "print_scores(scores)"
   ]
  },
  {
   "cell_type": "markdown",
   "metadata": {},
   "source": [
    "## XGBoost"
   ]
  },
  {
   "cell_type": "code",
   "execution_count": 95,
   "metadata": {},
   "outputs": [],
   "source": [
    "from xgboost import XGBClassifier"
   ]
  },
  {
   "cell_type": "markdown",
   "metadata": {},
   "source": [
    "Setting parameters:"
   ]
  },
  {
   "cell_type": "code",
   "execution_count": 96,
   "metadata": {},
   "outputs": [],
   "source": [
    "parameters = {'booster': ('dart', 'gblinear', 'gbtree'),\n",
    "              'validate_parameters': (True,False),\n",
    "              'objective':('binary:logistic','binary:hinge'),\n",
    "              'base_score':(0.5,0.8),\n",
    "              'eta':(0.3,0.75),\n",
    "              'max_depth':(6,10),\n",
    "              'eval_metric':('error','auc','aucpr'),\n",
    "              'rate_drop':(0,0.3)\n",
    "             }"
   ]
  },
  {
   "cell_type": "markdown",
   "metadata": {},
   "source": [
    "Defining the model classifier:"
   ]
  },
  {
   "cell_type": "code",
   "execution_count": 97,
   "metadata": {},
   "outputs": [],
   "source": [
    "clf = XGBClassifier(seed=7)"
   ]
  },
  {
   "cell_type": "markdown",
   "metadata": {},
   "source": [
    "Next up the grid search classifier is declared:"
   ]
  },
  {
   "cell_type": "code",
   "execution_count": 98,
   "metadata": {},
   "outputs": [],
   "source": [
    "gs_xgb = GridSearchCV(clf, parameters,n_jobs=7, scoring='accuracy',verbose=1, cv=fold_10)"
   ]
  },
  {
   "cell_type": "markdown",
   "metadata": {},
   "source": [
    "Now we can fit the model on the existing data to find the best parameters:"
   ]
  },
  {
   "cell_type": "code",
   "execution_count": 99,
   "metadata": {
    "scrolled": true
   },
   "outputs": [
    {
     "name": "stdout",
     "output_type": "stream",
     "text": [
      "Fitting 10 folds for each of 576 candidates, totalling 5760 fits\n"
     ]
    },
    {
     "name": "stderr",
     "output_type": "stream",
     "text": [
      "[Parallel(n_jobs=7)]: Using backend LokyBackend with 7 concurrent workers.\n",
      "[Parallel(n_jobs=7)]: Done  36 tasks      | elapsed:   23.0s\n",
      "[Parallel(n_jobs=7)]: Done 186 tasks      | elapsed:  1.8min\n",
      "[Parallel(n_jobs=7)]: Done 436 tasks      | elapsed:  4.0min\n",
      "[Parallel(n_jobs=7)]: Done 786 tasks      | elapsed:  7.2min\n",
      "[Parallel(n_jobs=7)]: Done 1236 tasks      | elapsed:  8.9min\n",
      "[Parallel(n_jobs=7)]: Done 1786 tasks      | elapsed:  9.1min\n",
      "[Parallel(n_jobs=7)]: Done 2436 tasks      | elapsed: 10.3min\n",
      "[Parallel(n_jobs=7)]: Done 3186 tasks      | elapsed: 13.8min\n",
      "[Parallel(n_jobs=7)]: Done 4036 tasks      | elapsed: 19.8min\n",
      "[Parallel(n_jobs=7)]: Done 4986 tasks      | elapsed: 20.6min\n",
      "[Parallel(n_jobs=7)]: Done 5760 out of 5760 | elapsed: 22.0min finished\n",
      "C:\\Users\\stef4\\anaconda3\\lib\\site-packages\\xgboost\\sklearn.py:1224: UserWarning: The use of label encoder in XGBClassifier is deprecated and will be removed in a future release. To remove this warning, do the following: 1) Pass option use_label_encoder=False when constructing XGBClassifier object; and 2) Encode your labels (y) as integers starting with 0, i.e. 0, 1, 2, ..., [num_class - 1].\n",
      "  warnings.warn(label_encoder_deprecation_msg, UserWarning)\n"
     ]
    },
    {
     "data": {
      "text/plain": [
       "GridSearchCV(cv=KFold(n_splits=10, random_state=123, shuffle=True),\n",
       "             estimator=XGBClassifier(base_score=None, booster=None,\n",
       "                                     colsample_bylevel=None,\n",
       "                                     colsample_bynode=None,\n",
       "                                     colsample_bytree=None,\n",
       "                                     enable_categorical=False, gamma=None,\n",
       "                                     gpu_id=None, importance_type=None,\n",
       "                                     interaction_constraints=None,\n",
       "                                     learning_rate=None, max_delta_step=None,\n",
       "                                     max_depth=None, min_child_wei...\n",
       "                                     seed=7, subsample=None, tree_method=None,\n",
       "                                     validate_parameters=None, verbosity=None),\n",
       "             n_jobs=7,\n",
       "             param_grid={'base_score': (0.5, 0.8),\n",
       "                         'booster': ('dart', 'gblinear', 'gbtree'),\n",
       "                         'eta': (0.3, 0.75),\n",
       "                         'eval_metric': ('error', 'auc', 'aucpr'),\n",
       "                         'max_depth': (6, 10),\n",
       "                         'objective': ('binary:logistic', 'binary:hinge'),\n",
       "                         'rate_drop': (0, 0.3),\n",
       "                         'validate_parameters': (True, False)},\n",
       "             scoring='accuracy', verbose=1)"
      ]
     },
     "execution_count": 99,
     "metadata": {},
     "output_type": "execute_result"
    }
   ],
   "source": [
    "gs_xgb.fit(profiles, target)"
   ]
  },
  {
   "cell_type": "markdown",
   "metadata": {},
   "source": [
    "We can see the best parameters calculated from grid-search:"
   ]
  },
  {
   "cell_type": "code",
   "execution_count": 100,
   "metadata": {},
   "outputs": [
    {
     "data": {
      "text/plain": [
       "{'base_score': 0.8,\n",
       " 'booster': 'dart',\n",
       " 'eta': 0.3,\n",
       " 'eval_metric': 'error',\n",
       " 'max_depth': 10,\n",
       " 'objective': 'binary:logistic',\n",
       " 'rate_drop': 0,\n",
       " 'validate_parameters': True}"
      ]
     },
     "execution_count": 100,
     "metadata": {},
     "output_type": "execute_result"
    }
   ],
   "source": [
    "gs_xgb.best_params_"
   ]
  },
  {
   "cell_type": "markdown",
   "metadata": {},
   "source": [
    "We save the best estimator in a new variable to use it for cross-validation after: "
   ]
  },
  {
   "cell_type": "code",
   "execution_count": 101,
   "metadata": {},
   "outputs": [],
   "source": [
    "best_xgb = gs_xgb.best_estimator_"
   ]
  },
  {
   "cell_type": "markdown",
   "metadata": {},
   "source": [
    "K-fold cross validation with accuracy:"
   ]
  },
  {
   "cell_type": "code",
   "execution_count": 102,
   "metadata": {},
   "outputs": [
    {
     "name": "stdout",
     "output_type": "stream",
     "text": [
      "Mean: 0.9089935760171306\n",
      "Standard Deviation: 0.2876182448606479\n"
     ]
    }
   ],
   "source": [
    "scores = cross_val_score(best_xgb, profiles, target,\n",
    "                        cv=loo, scoring='accuracy',n_jobs = -1)\n",
    "print_scores(scores)"
   ]
  },
  {
   "cell_type": "markdown",
   "metadata": {},
   "source": [
    "### SMOTE & Extra trees\n",
    "Now we will use smote and extra trees to try improve the accuracy:"
   ]
  },
  {
   "cell_type": "code",
   "execution_count": 13,
   "metadata": {},
   "outputs": [],
   "source": [
    "from imblearn.over_sampling import SMOTE "
   ]
  },
  {
   "cell_type": "code",
   "execution_count": 15,
   "metadata": {},
   "outputs": [
    {
     "data": {
      "text/plain": [
       "0    580\n",
       "1    354\n",
       "Name: ev_replace, dtype: int64"
      ]
     },
     "execution_count": 15,
     "metadata": {},
     "output_type": "execute_result"
    }
   ],
   "source": [
    "target.value_counts()"
   ]
  },
  {
   "cell_type": "code",
   "execution_count": 18,
   "metadata": {},
   "outputs": [],
   "source": [
    "#settting the desired number of instances per class\n",
    "smote_strategy1={\n",
    "    0: 580,\n",
    "    1: 375\n",
    "}\n",
    "smote_strategy2={\n",
    "    0: 580,\n",
    "    1: 400\n",
    "}\n",
    "smote_strategy3={\n",
    "    0: 580,\n",
    "    1: 425\n",
    "}\n",
    "smote_strategy4={\n",
    "    0: 580,\n",
    "    1: 365\n",
    "}"
   ]
  },
  {
   "cell_type": "code",
   "execution_count": 17,
   "metadata": {},
   "outputs": [
    {
     "name": "stdout",
     "output_type": "stream",
     "text": [
      "Fitting 20 folds for each of 120 candidates, totalling 2400 fits\n"
     ]
    },
    {
     "name": "stderr",
     "output_type": "stream",
     "text": [
      "[Parallel(n_jobs=7)]: Using backend LokyBackend with 7 concurrent workers.\n",
      "[Parallel(n_jobs=7)]: Done  36 tasks      | elapsed:    2.9s\n",
      "[Parallel(n_jobs=7)]: Done 186 tasks      | elapsed:   14.4s\n",
      "[Parallel(n_jobs=7)]: Done 436 tasks      | elapsed:   39.7s\n",
      "[Parallel(n_jobs=7)]: Done 786 tasks      | elapsed:  1.2min\n",
      "[Parallel(n_jobs=7)]: Done 1236 tasks      | elapsed:  1.9min\n",
      "[Parallel(n_jobs=7)]: Done 1786 tasks      | elapsed:  2.7min\n",
      "[Parallel(n_jobs=7)]: Done 2400 out of 2400 | elapsed:  3.6min finished\n",
      "C:\\Users\\stef4\\anaconda3\\lib\\site-packages\\sklearn\\ensemble\\_forest.py:586: UserWarning: class_weight presets \"balanced\" or \"balanced_subsample\" are not recommended for warm_start if the fitted data differs from the full dataset. In order to use \"balanced\" weights, use compute_class_weight (\"balanced\", classes, y). In place of y you can use a large enough sample of the full training set target to properly estimate the class frequency distributions. Pass the resulting weights as the class_weight parameter.\n",
      "  warn('class_weight presets \"balanced\" or '\n"
     ]
    },
    {
     "name": "stdout",
     "output_type": "stream",
     "text": [
      "{'extratreesclassifier__criterion': 'gini', 'extratreesclassifier__max_depth': 10, 'extratreesclassifier__n_estimators': 67, 'smote__sampling_strategy': {0: 580, 1: 400}}\n",
      "Mean: 0.923982869379015\n",
      "Standard Deviation: 0.26502552041857613\n"
     ]
    }
   ],
   "source": [
    "params_clf = {'criterion': ('gini','entropy'),\n",
    "              'n_estimators': (50,60,67,75,82,90),\n",
    "              'max_depth': (None,10),\n",
    "             }\n",
    "\n",
    "params_oversampler = {'sampling_strategy': ('auto',smote_strategy1,smote_strategy2,smote_strategy3,smote_strategy4)\n",
    "             }\n",
    "\n",
    "new_params_clf = {'extratreesclassifier__' + key: params_clf[key] for key in params_clf}\n",
    "new_params_oversampler = {'smote__' + key: params_oversampler[key] for key in params_oversampler}\n",
    "new_params = dict(new_params_clf, **new_params_oversampler) #merging the dictionaries\n",
    "\n",
    "imba_pipeline = make_pipeline(SMOTE(random_state=42), \n",
    "                              ExtraTreesClassifier(random_state=7, bootstrap=False,\n",
    "                              class_weight= 'balanced', max_features=None, oob_score=False, warm_start=True))\n",
    "\n",
    "grid_imba = GridSearchCV(imba_pipeline, param_grid=new_params, cv=fold_20, scoring='accuracy',n_jobs=7, verbose=1)\n",
    "grid_imba.fit(profiles, target)\n",
    "\n",
    "print(grid_imba.best_params_)\n",
    "best_extra_smote = grid_imba.best_estimator_\n",
    "\n",
    "scores = cross_val_score(best_extra_smote, profiles, target,\n",
    "                        cv=loo, scoring='accuracy',n_jobs = -1)\n",
    "print_scores(scores)"
   ]
  },
  {
   "cell_type": "markdown",
   "metadata": {},
   "source": [
    "Now we will use gp_minimize to find the optimal number of `n_estimators`:"
   ]
  },
  {
   "cell_type": "code",
   "execution_count": 20,
   "metadata": {},
   "outputs": [],
   "source": [
    "from skopt.space import Real, Integer, Categorical\n",
    "from skopt.utils import use_named_args\n",
    "from skopt import gp_minimize"
   ]
  },
  {
   "cell_type": "code",
   "execution_count": 61,
   "metadata": {},
   "outputs": [],
   "source": [
    "n_features =profiles.shape[1] #number of columns\n",
    "imba_pipeline = make_pipeline(SMOTE(random_state=42, sampling_strategy=smote_strategy2), \n",
    "                              ExtraTreesClassifier(random_state=7, bootstrap=False,criterion='gini',\n",
    "                              class_weight= 'balanced', max_features=None, oob_score=False, warm_start=True,\n",
    "                              max_depth=10))\n",
    "\n",
    "# The list of hyper-parameters we want to optimize\n",
    "space  = [Integer(60, 70, name='extratreesclassifier__n_estimators'),\n",
    "         ]\n",
    "\n",
    "# this decorator allows your objective function to receive a the parameters as\n",
    "# keyword arguments. This is particularly convenient when you want to set\n",
    "# scikit-learn estimator parameters\n",
    "@use_named_args(space)\n",
    "def objective(**params):\n",
    "    imba_pipeline.set_params(**params)\n",
    "    \n",
    "    return np.mean(cross_val_score(imba_pipeline, profiles, target, cv=fold_100, n_jobs=-1,\n",
    "                                    scoring=\"accuracy\"))"
   ]
  },
  {
   "cell_type": "code",
   "execution_count": 62,
   "metadata": {
    "scrolled": true
   },
   "outputs": [
    {
     "name": "stderr",
     "output_type": "stream",
     "text": [
      "C:\\Users\\stef4\\anaconda3\\lib\\site-packages\\skopt\\optimizer\\optimizer.py:449: UserWarning: The objective has been evaluated at this point before.\n",
      "  warnings.warn(\"The objective has been evaluated \"\n",
      "C:\\Users\\stef4\\anaconda3\\lib\\site-packages\\skopt\\optimizer\\optimizer.py:449: UserWarning: The objective has been evaluated at this point before.\n",
      "  warnings.warn(\"The objective has been evaluated \"\n",
      "C:\\Users\\stef4\\anaconda3\\lib\\site-packages\\skopt\\optimizer\\optimizer.py:449: UserWarning: The objective has been evaluated at this point before.\n",
      "  warnings.warn(\"The objective has been evaluated \"\n",
      "C:\\Users\\stef4\\anaconda3\\lib\\site-packages\\skopt\\optimizer\\optimizer.py:449: UserWarning: The objective has been evaluated at this point before.\n",
      "  warnings.warn(\"The objective has been evaluated \"\n",
      "C:\\Users\\stef4\\anaconda3\\lib\\site-packages\\skopt\\optimizer\\optimizer.py:449: UserWarning: The objective has been evaluated at this point before.\n",
      "  warnings.warn(\"The objective has been evaluated \"\n",
      "C:\\Users\\stef4\\anaconda3\\lib\\site-packages\\skopt\\optimizer\\optimizer.py:449: UserWarning: The objective has been evaluated at this point before.\n",
      "  warnings.warn(\"The objective has been evaluated \"\n",
      "C:\\Users\\stef4\\anaconda3\\lib\\site-packages\\skopt\\optimizer\\optimizer.py:449: UserWarning: The objective has been evaluated at this point before.\n",
      "  warnings.warn(\"The objective has been evaluated \"\n",
      "C:\\Users\\stef4\\anaconda3\\lib\\site-packages\\skopt\\optimizer\\optimizer.py:449: UserWarning: The objective has been evaluated at this point before.\n",
      "  warnings.warn(\"The objective has been evaluated \"\n",
      "C:\\Users\\stef4\\anaconda3\\lib\\site-packages\\skopt\\optimizer\\optimizer.py:449: UserWarning: The objective has been evaluated at this point before.\n",
      "  warnings.warn(\"The objective has been evaluated \"\n",
      "C:\\Users\\stef4\\anaconda3\\lib\\site-packages\\skopt\\optimizer\\optimizer.py:449: UserWarning: The objective has been evaluated at this point before.\n",
      "  warnings.warn(\"The objective has been evaluated \"\n",
      "C:\\Users\\stef4\\anaconda3\\lib\\site-packages\\skopt\\optimizer\\optimizer.py:449: UserWarning: The objective has been evaluated at this point before.\n",
      "  warnings.warn(\"The objective has been evaluated \"\n",
      "C:\\Users\\stef4\\anaconda3\\lib\\site-packages\\skopt\\optimizer\\optimizer.py:449: UserWarning: The objective has been evaluated at this point before.\n",
      "  warnings.warn(\"The objective has been evaluated \"\n",
      "C:\\Users\\stef4\\anaconda3\\lib\\site-packages\\skopt\\optimizer\\optimizer.py:449: UserWarning: The objective has been evaluated at this point before.\n",
      "  warnings.warn(\"The objective has been evaluated \"\n",
      "C:\\Users\\stef4\\anaconda3\\lib\\site-packages\\skopt\\optimizer\\optimizer.py:449: UserWarning: The objective has been evaluated at this point before.\n",
      "  warnings.warn(\"The objective has been evaluated \"\n",
      "C:\\Users\\stef4\\anaconda3\\lib\\site-packages\\skopt\\optimizer\\optimizer.py:449: UserWarning: The objective has been evaluated at this point before.\n",
      "  warnings.warn(\"The objective has been evaluated \"\n",
      "C:\\Users\\stef4\\anaconda3\\lib\\site-packages\\skopt\\optimizer\\optimizer.py:449: UserWarning: The objective has been evaluated at this point before.\n",
      "  warnings.warn(\"The objective has been evaluated \"\n",
      "C:\\Users\\stef4\\anaconda3\\lib\\site-packages\\skopt\\optimizer\\optimizer.py:449: UserWarning: The objective has been evaluated at this point before.\n",
      "  warnings.warn(\"The objective has been evaluated \"\n",
      "C:\\Users\\stef4\\anaconda3\\lib\\site-packages\\skopt\\optimizer\\optimizer.py:449: UserWarning: The objective has been evaluated at this point before.\n",
      "  warnings.warn(\"The objective has been evaluated \"\n",
      "C:\\Users\\stef4\\anaconda3\\lib\\site-packages\\skopt\\optimizer\\optimizer.py:449: UserWarning: The objective has been evaluated at this point before.\n",
      "  warnings.warn(\"The objective has been evaluated \"\n",
      "C:\\Users\\stef4\\anaconda3\\lib\\site-packages\\skopt\\optimizer\\optimizer.py:449: UserWarning: The objective has been evaluated at this point before.\n",
      "  warnings.warn(\"The objective has been evaluated \"\n",
      "C:\\Users\\stef4\\anaconda3\\lib\\site-packages\\skopt\\optimizer\\optimizer.py:449: UserWarning: The objective has been evaluated at this point before.\n",
      "  warnings.warn(\"The objective has been evaluated \"\n",
      "C:\\Users\\stef4\\anaconda3\\lib\\site-packages\\skopt\\optimizer\\optimizer.py:449: UserWarning: The objective has been evaluated at this point before.\n",
      "  warnings.warn(\"The objective has been evaluated \"\n",
      "C:\\Users\\stef4\\anaconda3\\lib\\site-packages\\skopt\\optimizer\\optimizer.py:449: UserWarning: The objective has been evaluated at this point before.\n",
      "  warnings.warn(\"The objective has been evaluated \"\n",
      "C:\\Users\\stef4\\anaconda3\\lib\\site-packages\\skopt\\optimizer\\optimizer.py:449: UserWarning: The objective has been evaluated at this point before.\n",
      "  warnings.warn(\"The objective has been evaluated \"\n",
      "C:\\Users\\stef4\\anaconda3\\lib\\site-packages\\skopt\\optimizer\\optimizer.py:449: UserWarning: The objective has been evaluated at this point before.\n",
      "  warnings.warn(\"The objective has been evaluated \"\n",
      "C:\\Users\\stef4\\anaconda3\\lib\\site-packages\\skopt\\optimizer\\optimizer.py:449: UserWarning: The objective has been evaluated at this point before.\n",
      "  warnings.warn(\"The objective has been evaluated \"\n",
      "C:\\Users\\stef4\\anaconda3\\lib\\site-packages\\skopt\\optimizer\\optimizer.py:449: UserWarning: The objective has been evaluated at this point before.\n",
      "  warnings.warn(\"The objective has been evaluated \"\n",
      "C:\\Users\\stef4\\anaconda3\\lib\\site-packages\\skopt\\optimizer\\optimizer.py:449: UserWarning: The objective has been evaluated at this point before.\n",
      "  warnings.warn(\"The objective has been evaluated \"\n",
      "C:\\Users\\stef4\\anaconda3\\lib\\site-packages\\skopt\\optimizer\\optimizer.py:449: UserWarning: The objective has been evaluated at this point before.\n",
      "  warnings.warn(\"The objective has been evaluated \"\n",
      "C:\\Users\\stef4\\anaconda3\\lib\\site-packages\\skopt\\optimizer\\optimizer.py:449: UserWarning: The objective has been evaluated at this point before.\n",
      "  warnings.warn(\"The objective has been evaluated \"\n",
      "C:\\Users\\stef4\\anaconda3\\lib\\site-packages\\skopt\\optimizer\\optimizer.py:449: UserWarning: The objective has been evaluated at this point before.\n",
      "  warnings.warn(\"The objective has been evaluated \"\n",
      "C:\\Users\\stef4\\anaconda3\\lib\\site-packages\\skopt\\optimizer\\optimizer.py:449: UserWarning: The objective has been evaluated at this point before.\n",
      "  warnings.warn(\"The objective has been evaluated \"\n",
      "C:\\Users\\stef4\\anaconda3\\lib\\site-packages\\skopt\\optimizer\\optimizer.py:449: UserWarning: The objective has been evaluated at this point before.\n",
      "  warnings.warn(\"The objective has been evaluated \"\n",
      "C:\\Users\\stef4\\anaconda3\\lib\\site-packages\\skopt\\optimizer\\optimizer.py:449: UserWarning: The objective has been evaluated at this point before.\n",
      "  warnings.warn(\"The objective has been evaluated \"\n",
      "C:\\Users\\stef4\\anaconda3\\lib\\site-packages\\skopt\\optimizer\\optimizer.py:449: UserWarning: The objective has been evaluated at this point before.\n",
      "  warnings.warn(\"The objective has been evaluated \"\n",
      "C:\\Users\\stef4\\anaconda3\\lib\\site-packages\\skopt\\optimizer\\optimizer.py:449: UserWarning: The objective has been evaluated at this point before.\n",
      "  warnings.warn(\"The objective has been evaluated \"\n",
      "C:\\Users\\stef4\\anaconda3\\lib\\site-packages\\skopt\\optimizer\\optimizer.py:449: UserWarning: The objective has been evaluated at this point before.\n",
      "  warnings.warn(\"The objective has been evaluated \"\n",
      "C:\\Users\\stef4\\anaconda3\\lib\\site-packages\\skopt\\optimizer\\optimizer.py:449: UserWarning: The objective has been evaluated at this point before.\n",
      "  warnings.warn(\"The objective has been evaluated \"\n",
      "C:\\Users\\stef4\\anaconda3\\lib\\site-packages\\skopt\\optimizer\\optimizer.py:449: UserWarning: The objective has been evaluated at this point before.\n",
      "  warnings.warn(\"The objective has been evaluated \"\n",
      "C:\\Users\\stef4\\anaconda3\\lib\\site-packages\\skopt\\optimizer\\optimizer.py:449: UserWarning: The objective has been evaluated at this point before.\n",
      "  warnings.warn(\"The objective has been evaluated \"\n",
      "C:\\Users\\stef4\\anaconda3\\lib\\site-packages\\skopt\\optimizer\\optimizer.py:449: UserWarning: The objective has been evaluated at this point before.\n",
      "  warnings.warn(\"The objective has been evaluated \"\n",
      "C:\\Users\\stef4\\anaconda3\\lib\\site-packages\\skopt\\optimizer\\optimizer.py:449: UserWarning: The objective has been evaluated at this point before.\n",
      "  warnings.warn(\"The objective has been evaluated \"\n"
     ]
    },
    {
     "name": "stderr",
     "output_type": "stream",
     "text": [
      "C:\\Users\\stef4\\anaconda3\\lib\\site-packages\\skopt\\optimizer\\optimizer.py:449: UserWarning: The objective has been evaluated at this point before.\n",
      "  warnings.warn(\"The objective has been evaluated \"\n",
      "C:\\Users\\stef4\\anaconda3\\lib\\site-packages\\skopt\\optimizer\\optimizer.py:449: UserWarning: The objective has been evaluated at this point before.\n",
      "  warnings.warn(\"The objective has been evaluated \"\n",
      "C:\\Users\\stef4\\anaconda3\\lib\\site-packages\\skopt\\optimizer\\optimizer.py:449: UserWarning: The objective has been evaluated at this point before.\n",
      "  warnings.warn(\"The objective has been evaluated \"\n",
      "C:\\Users\\stef4\\anaconda3\\lib\\site-packages\\skopt\\optimizer\\optimizer.py:449: UserWarning: The objective has been evaluated at this point before.\n",
      "  warnings.warn(\"The objective has been evaluated \"\n"
     ]
    },
    {
     "data": {
      "text/plain": [
       "'Best score=0.9182'"
      ]
     },
     "execution_count": 62,
     "metadata": {},
     "output_type": "execute_result"
    }
   ],
   "source": [
    "res_gp = gp_minimize(objective, space, n_calls=60, random_state=1)\n",
    "\n",
    "\"Best score=%.4f\" % res_gp.fun"
   ]
  },
  {
   "cell_type": "markdown",
   "metadata": {},
   "source": [
    "Optimal number of n_estimators:"
   ]
  },
  {
   "cell_type": "code",
   "execution_count": 63,
   "metadata": {},
   "outputs": [
    {
     "data": {
      "text/plain": [
       "[65]"
      ]
     },
     "execution_count": 63,
     "metadata": {},
     "output_type": "execute_result"
    }
   ],
   "source": [
    "res_gp.x"
   ]
  },
  {
   "cell_type": "markdown",
   "metadata": {},
   "source": [
    "Final model accuracy:"
   ]
  },
  {
   "cell_type": "code",
   "execution_count": 64,
   "metadata": {},
   "outputs": [
    {
     "name": "stdout",
     "output_type": "stream",
     "text": [
      "Mean: 0.9250535331905781\n",
      "Standard Deviation: 0.2633049447355785\n"
     ]
    }
   ],
   "source": [
    "imba_pipeline = make_pipeline(SMOTE(random_state=42, sampling_strategy=smote_strategy2), \n",
    "                              ExtraTreesClassifier(random_state=7, bootstrap=False,criterion='gini',\n",
    "                                  class_weight= 'balanced', max_features=None, oob_score=False, warm_start=True,\n",
    "                                  n_estimators=65, max_depth=10))\n",
    "\n",
    "scores = cross_val_score(imba_pipeline, profiles, target, cv=loo, scoring='accuracy',n_jobs=-1)\n",
    "print_scores(scores)"
   ]
  },
  {
   "cell_type": "code",
   "execution_count": 66,
   "metadata": {},
   "outputs": [
    {
     "data": {
      "text/plain": [
       "Pipeline(steps=[('smote',\n",
       "                 SMOTE(random_state=42, sampling_strategy={0: 580, 1: 400})),\n",
       "                ('extratreesclassifier',\n",
       "                 ExtraTreesClassifier(class_weight='balanced', max_depth=10,\n",
       "                                      max_features=None, n_estimators=65,\n",
       "                                      random_state=7, warm_start=True))])"
      ]
     },
     "execution_count": 66,
     "metadata": {},
     "output_type": "execute_result"
    }
   ],
   "source": [
    "imba_pipeline"
   ]
  },
  {
   "cell_type": "markdown",
   "metadata": {},
   "source": [
    "### Visualizing the results"
   ]
  },
  {
   "cell_type": "code",
   "execution_count": 8,
   "metadata": {},
   "outputs": [],
   "source": [
    "import operator\n",
    "import matplotlib.pyplot as plt\n",
    "import seaborn as sns\n",
    "\n",
    "accuracies = {'Decision trees': 0.854389721627409,\n",
    "              'Random forest': 0.9089935760171306,\n",
    "              'Extra trees': 0.9207708779443254,\n",
    "              'Bagging classifier': 0.7226980728051392,\n",
    "              'AdaBoost classifier': 0.9036402569593148,\n",
    "              'Naive Baynes': 0.797644539614561,\n",
    "              'SVC': 0.9089935760171306,\n",
    "              'SGD': 0.8961456102783726,\n",
    "              'KNeighbors': 0.7098501070663812,\n",
    "              'Logistic regression': 0.9057815845824411,\n",
    "              'LightGBM': 0.9036402569593148,\n",
    "              'XGBoost':0.9089935760171306,\n",
    "              \n",
    "              'SMOTE & Extra trees': 0.9250535331905781,\n",
    "              \n",
    "              'Dummy classifier': 0.6209850107066381\n",
    "    \n",
    "}"
   ]
  },
  {
   "cell_type": "markdown",
   "metadata": {},
   "source": [
    "Sorting the values:"
   ]
  },
  {
   "cell_type": "code",
   "execution_count": 9,
   "metadata": {},
   "outputs": [],
   "source": [
    "accuracies = dict( sorted(accuracies.items(), key=operator.itemgetter(1),reverse=True))"
   ]
  },
  {
   "cell_type": "markdown",
   "metadata": {},
   "source": [
    "Showing the results:"
   ]
  },
  {
   "cell_type": "code",
   "execution_count": 10,
   "metadata": {},
   "outputs": [
    {
     "data": {
      "image/png": "[encoded data removed]",
      "text/plain": [
       "<Figure size 936x576 with 1 Axes>"
      ]
     },
     "metadata": {
      "needs_background": "light"
     },
     "output_type": "display_data"
    }
   ],
   "source": [
    "fig_dims = (13, 8)\n",
    "fig, ax = plt.subplots(figsize=fig_dims)\n",
    "sns.barplot(y=list(accuracies.keys()), x=list(accuracies.values()), palette='tab10',)\n",
    "plt.title('Average accuracy per model', fontdict ={'size': 20})\n",
    "plt.ylabel('Model', fontdict ={'size': 15})\n",
    "plt.xlabel('Average accuracy (%)',fontdict ={'size': 15})\n",
    "ax.set_facecolor(\"aliceblue\") #setting background color\n",
    "plt.xticks([0.6,0.7,0.75,0.8,0.85,0.9,0.95,1])\n",
    "plt.xlim([0.6, 1])\n",
    "ax.set_axisbelow(True)\n",
    "plt.grid(axis = 'x')\n",
    "plt.show()"
   ]
  },
  {
   "cell_type": "code",
   "execution_count": null,
   "metadata": {},
   "outputs": [],
   "source": []
  }
 ],
 "metadata": {
  "kernelspec": {
   "display_name": "Python 3",
   "language": "python",
   "name": "python3"
  },
  "language_info": {
   "codemirror_mode": {
    "name": "ipython",
    "version": 3
   },
   "file_extension": ".py",
   "mimetype": "text/x-python",
   "name": "python",
   "nbconvert_exporter": "python",
   "pygments_lexer": "ipython3",
   "version": "3.8.3"
  }
 },
 "nbformat": 4,
 "nbformat_minor": 4
}
